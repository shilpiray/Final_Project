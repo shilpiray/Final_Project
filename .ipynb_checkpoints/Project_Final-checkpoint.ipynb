{
 "cells": [
  {
   "cell_type": "code",
   "execution_count": 1,
   "metadata": {},
   "outputs": [],
   "source": [
    "import numpy as np\n",
    "import pandas as pd\n",
    "import os\n",
    "import matplotlib.pyplot as plt"
   ]
  },
  {
   "cell_type": "code",
   "execution_count": 2,
   "metadata": {},
   "outputs": [
    {
     "name": "stdout",
     "output_type": "stream",
     "text": [
      "Requirement already up-to-date: sklearn in c:\\users\\user\\anaconda3\\lib\\site-packages (0.0)\n",
      "Requirement already satisfied, skipping upgrade: scikit-learn in c:\\users\\user\\anaconda3\\lib\\site-packages (from sklearn) (0.21.3)\n",
      "Requirement already satisfied, skipping upgrade: joblib>=0.11 in c:\\users\\user\\anaconda3\\lib\\site-packages (from scikit-learn->sklearn) (0.14.0)\n",
      "Requirement already satisfied, skipping upgrade: numpy>=1.11.0 in c:\\users\\user\\anaconda3\\lib\\site-packages (from scikit-learn->sklearn) (1.16.2)\n",
      "Requirement already satisfied, skipping upgrade: scipy>=0.17.0 in c:\\users\\user\\anaconda3\\lib\\site-packages (from scikit-learn->sklearn) (1.2.1)\n"
     ]
    }
   ],
   "source": [
    "# Update sklearn to prevent version mismatches\n",
    "!pip install sklearn --upgrade"
   ]
  },
  {
   "cell_type": "markdown",
   "metadata": {},
   "source": [
    "# Read the CSV and Perform Basic Data Cleaning"
   ]
  },
  {
   "cell_type": "code",
   "execution_count": 3,
   "metadata": {},
   "outputs": [],
   "source": [
    "data_to_load = \"data/googleplaystore.csv\"\n",
    "data = pd.read_csv(data_to_load)"
   ]
  },
  {
   "cell_type": "code",
   "execution_count": 4,
   "metadata": {},
   "outputs": [
    {
     "data": {
      "text/html": [
       "<div>\n",
       "<style scoped>\n",
       "    .dataframe tbody tr th:only-of-type {\n",
       "        vertical-align: middle;\n",
       "    }\n",
       "\n",
       "    .dataframe tbody tr th {\n",
       "        vertical-align: top;\n",
       "    }\n",
       "\n",
       "    .dataframe thead th {\n",
       "        text-align: right;\n",
       "    }\n",
       "</style>\n",
       "<table border=\"1\" class=\"dataframe\">\n",
       "  <thead>\n",
       "    <tr style=\"text-align: right;\">\n",
       "      <th></th>\n",
       "      <th>App</th>\n",
       "      <th>Category</th>\n",
       "      <th>Rating</th>\n",
       "      <th>Reviews</th>\n",
       "      <th>Size</th>\n",
       "      <th>Installs</th>\n",
       "      <th>Paid (0=Free;1=Paid)</th>\n",
       "      <th>Price</th>\n",
       "      <th>Content</th>\n",
       "      <th>Genre</th>\n",
       "    </tr>\n",
       "  </thead>\n",
       "  <tbody>\n",
       "    <tr>\n",
       "      <th>0</th>\n",
       "      <td>Photo Editor and Candy Camera and Grid and Scr...</td>\n",
       "      <td>ART_AND_DESIGN</td>\n",
       "      <td>4.1</td>\n",
       "      <td>159.0</td>\n",
       "      <td>19000000.0</td>\n",
       "      <td>10000.0</td>\n",
       "      <td>0.0</td>\n",
       "      <td>0.0</td>\n",
       "      <td>Everyone</td>\n",
       "      <td>Art</td>\n",
       "    </tr>\n",
       "    <tr>\n",
       "      <th>1</th>\n",
       "      <td>10 Best Foods for You</td>\n",
       "      <td>HEALTH_AND_FITNESS</td>\n",
       "      <td>4.0</td>\n",
       "      <td>2490.0</td>\n",
       "      <td>3800000.0</td>\n",
       "      <td>500000.0</td>\n",
       "      <td>0.0</td>\n",
       "      <td>0.0</td>\n",
       "      <td>Everyone 10</td>\n",
       "      <td>Health</td>\n",
       "    </tr>\n",
       "    <tr>\n",
       "      <th>2</th>\n",
       "      <td>U Launcher Lite FREE Live Cool Themes Hide Apps</td>\n",
       "      <td>ART_AND_DESIGN</td>\n",
       "      <td>4.7</td>\n",
       "      <td>87510.0</td>\n",
       "      <td>8700000.0</td>\n",
       "      <td>5000000.0</td>\n",
       "      <td>0.0</td>\n",
       "      <td>0.0</td>\n",
       "      <td>Everyone</td>\n",
       "      <td>Art</td>\n",
       "    </tr>\n",
       "    <tr>\n",
       "      <th>3</th>\n",
       "      <td>Sketch Draw Paint</td>\n",
       "      <td>ART_AND_DESIGN</td>\n",
       "      <td>4.5</td>\n",
       "      <td>215644.0</td>\n",
       "      <td>25000000.0</td>\n",
       "      <td>50000000.0</td>\n",
       "      <td>0.0</td>\n",
       "      <td>0.0</td>\n",
       "      <td>Teen</td>\n",
       "      <td>Art</td>\n",
       "    </tr>\n",
       "    <tr>\n",
       "      <th>4</th>\n",
       "      <td>Pixel Draw Number Art Coloring Book</td>\n",
       "      <td>ART_AND_DESIGN</td>\n",
       "      <td>4.3</td>\n",
       "      <td>967.0</td>\n",
       "      <td>2800000.0</td>\n",
       "      <td>100000.0</td>\n",
       "      <td>0.0</td>\n",
       "      <td>0.0</td>\n",
       "      <td>Everyone</td>\n",
       "      <td>Art</td>\n",
       "    </tr>\n",
       "  </tbody>\n",
       "</table>\n",
       "</div>"
      ],
      "text/plain": [
       "                                                 App            Category  \\\n",
       "0  Photo Editor and Candy Camera and Grid and Scr...      ART_AND_DESIGN   \n",
       "1                              10 Best Foods for You  HEALTH_AND_FITNESS   \n",
       "2    U Launcher Lite FREE Live Cool Themes Hide Apps      ART_AND_DESIGN   \n",
       "3                                  Sketch Draw Paint      ART_AND_DESIGN   \n",
       "4                Pixel Draw Number Art Coloring Book      ART_AND_DESIGN   \n",
       "\n",
       "   Rating   Reviews        Size    Installs  Paid (0=Free;1=Paid)  Price  \\\n",
       "0     4.1     159.0  19000000.0     10000.0                   0.0    0.0   \n",
       "1     4.0    2490.0   3800000.0    500000.0                   0.0    0.0   \n",
       "2     4.7   87510.0   8700000.0   5000000.0                   0.0    0.0   \n",
       "3     4.5  215644.0  25000000.0  50000000.0                   0.0    0.0   \n",
       "4     4.3     967.0   2800000.0    100000.0                   0.0    0.0   \n",
       "\n",
       "       Content   Genre  \n",
       "0     Everyone     Art  \n",
       "1  Everyone 10  Health  \n",
       "2     Everyone     Art  \n",
       "3         Teen     Art  \n",
       "4     Everyone     Art  "
      ]
     },
     "execution_count": 4,
     "metadata": {},
     "output_type": "execute_result"
    }
   ],
   "source": [
    "data.head()"
   ]
  },
  {
   "cell_type": "code",
   "execution_count": 5,
   "metadata": {},
   "outputs": [
    {
     "data": {
      "text/plain": [
       "App                      object\n",
       "Category                 object\n",
       "Rating                  float64\n",
       "Reviews                 float64\n",
       "Size                    float64\n",
       "Installs                float64\n",
       "Paid (0=Free;1=Paid)    float64\n",
       "Price                   float64\n",
       "Content                  object\n",
       "Genre                    object\n",
       "dtype: object"
      ]
     },
     "execution_count": 5,
     "metadata": {},
     "output_type": "execute_result"
    }
   ],
   "source": [
    "data.dtypes"
   ]
  },
  {
   "cell_type": "code",
   "execution_count": 6,
   "metadata": {},
   "outputs": [
    {
     "data": {
      "text/html": [
       "<div>\n",
       "<style scoped>\n",
       "    .dataframe tbody tr th:only-of-type {\n",
       "        vertical-align: middle;\n",
       "    }\n",
       "\n",
       "    .dataframe tbody tr th {\n",
       "        vertical-align: top;\n",
       "    }\n",
       "\n",
       "    .dataframe thead th {\n",
       "        text-align: right;\n",
       "    }\n",
       "</style>\n",
       "<table border=\"1\" class=\"dataframe\">\n",
       "  <thead>\n",
       "    <tr style=\"text-align: right;\">\n",
       "      <th></th>\n",
       "      <th>App</th>\n",
       "      <th>Category</th>\n",
       "      <th>Rating</th>\n",
       "      <th>Reviews</th>\n",
       "      <th>Size</th>\n",
       "      <th>Installs</th>\n",
       "      <th>Paid (0=Free;1=Paid)</th>\n",
       "      <th>Price</th>\n",
       "      <th>Content</th>\n",
       "      <th>Genre</th>\n",
       "    </tr>\n",
       "  </thead>\n",
       "  <tbody>\n",
       "    <tr>\n",
       "      <th>10829</th>\n",
       "      <td>NaN</td>\n",
       "      <td>NaN</td>\n",
       "      <td>NaN</td>\n",
       "      <td>NaN</td>\n",
       "      <td>NaN</td>\n",
       "      <td>NaN</td>\n",
       "      <td>NaN</td>\n",
       "      <td>NaN</td>\n",
       "      <td>NaN</td>\n",
       "      <td>NaN</td>\n",
       "    </tr>\n",
       "    <tr>\n",
       "      <th>10830</th>\n",
       "      <td>NaN</td>\n",
       "      <td>NaN</td>\n",
       "      <td>NaN</td>\n",
       "      <td>NaN</td>\n",
       "      <td>NaN</td>\n",
       "      <td>NaN</td>\n",
       "      <td>NaN</td>\n",
       "      <td>NaN</td>\n",
       "      <td>NaN</td>\n",
       "      <td>NaN</td>\n",
       "    </tr>\n",
       "    <tr>\n",
       "      <th>10831</th>\n",
       "      <td>NaN</td>\n",
       "      <td>NaN</td>\n",
       "      <td>NaN</td>\n",
       "      <td>NaN</td>\n",
       "      <td>NaN</td>\n",
       "      <td>NaN</td>\n",
       "      <td>NaN</td>\n",
       "      <td>NaN</td>\n",
       "      <td>NaN</td>\n",
       "      <td>NaN</td>\n",
       "    </tr>\n",
       "    <tr>\n",
       "      <th>10832</th>\n",
       "      <td>NaN</td>\n",
       "      <td>NaN</td>\n",
       "      <td>NaN</td>\n",
       "      <td>NaN</td>\n",
       "      <td>NaN</td>\n",
       "      <td>NaN</td>\n",
       "      <td>NaN</td>\n",
       "      <td>NaN</td>\n",
       "      <td>NaN</td>\n",
       "      <td>NaN</td>\n",
       "    </tr>\n",
       "    <tr>\n",
       "      <th>10833</th>\n",
       "      <td>NaN</td>\n",
       "      <td>NaN</td>\n",
       "      <td>NaN</td>\n",
       "      <td>NaN</td>\n",
       "      <td>NaN</td>\n",
       "      <td>NaN</td>\n",
       "      <td>NaN</td>\n",
       "      <td>NaN</td>\n",
       "      <td>NaN</td>\n",
       "      <td>NaN</td>\n",
       "    </tr>\n",
       "  </tbody>\n",
       "</table>\n",
       "</div>"
      ],
      "text/plain": [
       "       App Category  Rating  Reviews  Size  Installs  Paid (0=Free;1=Paid)  \\\n",
       "10829  NaN      NaN     NaN      NaN   NaN       NaN                   NaN   \n",
       "10830  NaN      NaN     NaN      NaN   NaN       NaN                   NaN   \n",
       "10831  NaN      NaN     NaN      NaN   NaN       NaN                   NaN   \n",
       "10832  NaN      NaN     NaN      NaN   NaN       NaN                   NaN   \n",
       "10833  NaN      NaN     NaN      NaN   NaN       NaN                   NaN   \n",
       "\n",
       "       Price Content Genre  \n",
       "10829    NaN     NaN   NaN  \n",
       "10830    NaN     NaN   NaN  \n",
       "10831    NaN     NaN   NaN  \n",
       "10832    NaN     NaN   NaN  \n",
       "10833    NaN     NaN   NaN  "
      ]
     },
     "execution_count": 6,
     "metadata": {},
     "output_type": "execute_result"
    }
   ],
   "source": [
    "data.tail()"
   ]
  },
  {
   "cell_type": "code",
   "execution_count": 7,
   "metadata": {},
   "outputs": [],
   "source": [
    "data = data.dropna(how='all')"
   ]
  },
  {
   "cell_type": "code",
   "execution_count": 8,
   "metadata": {},
   "outputs": [],
   "source": [
    "# Cleaning Categories into integers\n",
    "genreVal = data[\"Category\"].unique()\n",
    "genreValCount = len(genreVal)\n",
    "genre_dict = {}\n",
    "for i in range(0,genreValCount):\n",
    "    genre_dict[genreVal[i]] = i\n",
    "data[\"Category_c\"] = data[\"Category\"].map(genre_dict).astype(int)"
   ]
  },
  {
   "cell_type": "code",
   "execution_count": 9,
   "metadata": {},
   "outputs": [
    {
     "data": {
      "text/plain": [
       "array([ 0,  1,  2,  3,  4,  5,  6,  7,  8,  9, 10, 11, 12, 13, 14, 15, 16,\n",
       "       17, 18, 19, 20, 21, 22, 23, 24, 25, 26, 27, 28, 29, 30, 31, 32],\n",
       "      dtype=int64)"
      ]
     },
     "execution_count": 9,
     "metadata": {},
     "output_type": "execute_result"
    }
   ],
   "source": [
    "data[\"Category_c\"].unique()"
   ]
  },
  {
   "cell_type": "code",
   "execution_count": 10,
   "metadata": {},
   "outputs": [],
   "source": [
    "#Cleaning of content rating classification\n",
    "RatingL = data['Content'].unique()\n",
    "RatingDict = {}\n",
    "for i in range(len(RatingL)):\n",
    "    RatingDict[RatingL[i]] = i\n",
    "data['Content_i'] = data['Content'].map(RatingDict).astype(int)"
   ]
  },
  {
   "cell_type": "code",
   "execution_count": 11,
   "metadata": {},
   "outputs": [
    {
     "data": {
      "text/html": [
       "<div>\n",
       "<style scoped>\n",
       "    .dataframe tbody tr th:only-of-type {\n",
       "        vertical-align: middle;\n",
       "    }\n",
       "\n",
       "    .dataframe tbody tr th {\n",
       "        vertical-align: top;\n",
       "    }\n",
       "\n",
       "    .dataframe thead th {\n",
       "        text-align: right;\n",
       "    }\n",
       "</style>\n",
       "<table border=\"1\" class=\"dataframe\">\n",
       "  <thead>\n",
       "    <tr style=\"text-align: right;\">\n",
       "      <th></th>\n",
       "      <th>App</th>\n",
       "      <th>Category</th>\n",
       "      <th>Rating</th>\n",
       "      <th>Reviews</th>\n",
       "      <th>Size</th>\n",
       "      <th>Installs</th>\n",
       "      <th>Paid (0=Free;1=Paid)</th>\n",
       "      <th>Price</th>\n",
       "      <th>Content</th>\n",
       "      <th>Genre</th>\n",
       "      <th>Category_c</th>\n",
       "      <th>Content_i</th>\n",
       "    </tr>\n",
       "  </thead>\n",
       "  <tbody>\n",
       "    <tr>\n",
       "      <th>0</th>\n",
       "      <td>Photo Editor and Candy Camera and Grid and Scr...</td>\n",
       "      <td>ART_AND_DESIGN</td>\n",
       "      <td>4.1</td>\n",
       "      <td>159.0</td>\n",
       "      <td>19000000.0</td>\n",
       "      <td>10000.0</td>\n",
       "      <td>0.0</td>\n",
       "      <td>0.0</td>\n",
       "      <td>Everyone</td>\n",
       "      <td>Art</td>\n",
       "      <td>0</td>\n",
       "      <td>0</td>\n",
       "    </tr>\n",
       "    <tr>\n",
       "      <th>1</th>\n",
       "      <td>10 Best Foods for You</td>\n",
       "      <td>HEALTH_AND_FITNESS</td>\n",
       "      <td>4.0</td>\n",
       "      <td>2490.0</td>\n",
       "      <td>3800000.0</td>\n",
       "      <td>500000.0</td>\n",
       "      <td>0.0</td>\n",
       "      <td>0.0</td>\n",
       "      <td>Everyone 10</td>\n",
       "      <td>Health</td>\n",
       "      <td>1</td>\n",
       "      <td>1</td>\n",
       "    </tr>\n",
       "    <tr>\n",
       "      <th>2</th>\n",
       "      <td>U Launcher Lite FREE Live Cool Themes Hide Apps</td>\n",
       "      <td>ART_AND_DESIGN</td>\n",
       "      <td>4.7</td>\n",
       "      <td>87510.0</td>\n",
       "      <td>8700000.0</td>\n",
       "      <td>5000000.0</td>\n",
       "      <td>0.0</td>\n",
       "      <td>0.0</td>\n",
       "      <td>Everyone</td>\n",
       "      <td>Art</td>\n",
       "      <td>0</td>\n",
       "      <td>0</td>\n",
       "    </tr>\n",
       "    <tr>\n",
       "      <th>3</th>\n",
       "      <td>Sketch Draw Paint</td>\n",
       "      <td>ART_AND_DESIGN</td>\n",
       "      <td>4.5</td>\n",
       "      <td>215644.0</td>\n",
       "      <td>25000000.0</td>\n",
       "      <td>50000000.0</td>\n",
       "      <td>0.0</td>\n",
       "      <td>0.0</td>\n",
       "      <td>Teen</td>\n",
       "      <td>Art</td>\n",
       "      <td>0</td>\n",
       "      <td>2</td>\n",
       "    </tr>\n",
       "    <tr>\n",
       "      <th>4</th>\n",
       "      <td>Pixel Draw Number Art Coloring Book</td>\n",
       "      <td>ART_AND_DESIGN</td>\n",
       "      <td>4.3</td>\n",
       "      <td>967.0</td>\n",
       "      <td>2800000.0</td>\n",
       "      <td>100000.0</td>\n",
       "      <td>0.0</td>\n",
       "      <td>0.0</td>\n",
       "      <td>Everyone</td>\n",
       "      <td>Art</td>\n",
       "      <td>0</td>\n",
       "      <td>0</td>\n",
       "    </tr>\n",
       "  </tbody>\n",
       "</table>\n",
       "</div>"
      ],
      "text/plain": [
       "                                                 App            Category  \\\n",
       "0  Photo Editor and Candy Camera and Grid and Scr...      ART_AND_DESIGN   \n",
       "1                              10 Best Foods for You  HEALTH_AND_FITNESS   \n",
       "2    U Launcher Lite FREE Live Cool Themes Hide Apps      ART_AND_DESIGN   \n",
       "3                                  Sketch Draw Paint      ART_AND_DESIGN   \n",
       "4                Pixel Draw Number Art Coloring Book      ART_AND_DESIGN   \n",
       "\n",
       "   Rating   Reviews        Size    Installs  Paid (0=Free;1=Paid)  Price  \\\n",
       "0     4.1     159.0  19000000.0     10000.0                   0.0    0.0   \n",
       "1     4.0    2490.0   3800000.0    500000.0                   0.0    0.0   \n",
       "2     4.7   87510.0   8700000.0   5000000.0                   0.0    0.0   \n",
       "3     4.5  215644.0  25000000.0  50000000.0                   0.0    0.0   \n",
       "4     4.3     967.0   2800000.0    100000.0                   0.0    0.0   \n",
       "\n",
       "       Content   Genre  Category_c  Content_i  \n",
       "0     Everyone     Art           0          0  \n",
       "1  Everyone 10  Health           1          1  \n",
       "2     Everyone     Art           0          0  \n",
       "3         Teen     Art           0          2  \n",
       "4     Everyone     Art           0          0  "
      ]
     },
     "execution_count": 11,
     "metadata": {},
     "output_type": "execute_result"
    }
   ],
   "source": [
    "data.head()"
   ]
  },
  {
   "cell_type": "markdown",
   "metadata": {},
   "source": [
    "# Select your features (columns)"
   ]
  },
  {
   "cell_type": "code",
   "execution_count": 12,
   "metadata": {},
   "outputs": [
    {
     "name": "stdout",
     "output_type": "stream",
     "text": [
      "(9607, 7) (9607,)\n"
     ]
    }
   ],
   "source": [
    "# Set features. This will also be used as your x values.\n",
    "X = data.drop(labels = ['App','Installs','Content','Genre','Category'], axis=1)\n",
    "feature_names = X.columns\n",
    "y = data[\"Installs\"]\n",
    "print(X.shape, y.shape)"
   ]
  },
  {
   "cell_type": "code",
   "execution_count": 13,
   "metadata": {},
   "outputs": [],
   "source": [
    "# Create a Train Test Split¶"
   ]
  },
  {
   "cell_type": "code",
   "execution_count": 14,
   "metadata": {},
   "outputs": [],
   "source": [
    "from sklearn.model_selection import train_test_split\n",
    "\n",
    "X_train, X_test, y_train, y_test = train_test_split(X, y, test_size=0.40, stratify=y,)"
   ]
  },
  {
   "cell_type": "code",
   "execution_count": 15,
   "metadata": {},
   "outputs": [
    {
     "data": {
      "text/plain": [
       "(3843, 7)"
      ]
     },
     "execution_count": 15,
     "metadata": {},
     "output_type": "execute_result"
    }
   ],
   "source": [
    "X_test.shape"
   ]
  },
  {
   "cell_type": "markdown",
   "metadata": {},
   "source": [
    "# Train the Random Forest Model"
   ]
  },
  {
   "cell_type": "code",
   "execution_count": 16,
   "metadata": {},
   "outputs": [
    {
     "name": "stderr",
     "output_type": "stream",
     "text": [
      "C:\\Users\\User\\Anaconda3\\lib\\site-packages\\sklearn\\ensemble\\forest.py:245: FutureWarning: The default value of n_estimators will change from 10 in version 0.20 to 100 in 0.22.\n",
      "  \"10 in version 0.20 to 100 in 0.22.\", FutureWarning)\n"
     ]
    },
    {
     "data": {
      "text/plain": [
       "0.4702055685662243"
      ]
     },
     "execution_count": 16,
     "metadata": {},
     "output_type": "execute_result"
    }
   ],
   "source": [
    "from sklearn.ensemble import RandomForestClassifier\n",
    "\n",
    "rf = RandomForestClassifier()\n",
    "rf = rf.fit(X_train, y_train)\n",
    "results = rf.predict(X_test)\n",
    "results_1 = rf.predict(X_train)\n",
    "rf.score(X_test, y_test)"
   ]
  },
  {
   "cell_type": "code",
   "execution_count": 17,
   "metadata": {},
   "outputs": [
    {
     "name": "stdout",
     "output_type": "stream",
     "text": [
      "Training Data Score: 0.9701596113809854\n",
      "Testing Data Score: 0.4702055685662243\n"
     ]
    }
   ],
   "source": [
    "print(f\"Training Data Score: {rf.score(X_train, y_train)}\")\n",
    "print(f\"Testing Data Score: {rf.score(X_test, y_test)}\")"
   ]
  },
  {
   "cell_type": "code",
   "execution_count": 18,
   "metadata": {},
   "outputs": [
    {
     "data": {
      "text/plain": [
       "[(0.47357823646649416, 'Reviews'),\n",
       " (0.20953076893649783, 'Size'),\n",
       " (0.1401465990752292, 'Category_c'),\n",
       " (0.13128691223412045, 'Rating'),\n",
       " (0.02565917109405981, 'Content_i'),\n",
       " (0.015352223186356538, 'Price'),\n",
       " (0.0044460890072420545, 'Paid (0=Free;1=Paid)')]"
      ]
     },
     "execution_count": 18,
     "metadata": {},
     "output_type": "execute_result"
    }
   ],
   "source": [
    "sorted(zip(rf.feature_importances_, feature_names), reverse=True)"
   ]
  },
  {
   "cell_type": "code",
   "execution_count": 31,
   "metadata": {},
   "outputs": [
    {
     "data": {
      "image/png": "[encoded data removed]",
      "text/plain": [
       "<Figure size 864x504 with 1 Axes>"
      ]
     },
     "metadata": {
      "needs_background": "light"
     },
     "output_type": "display_data"
    }
   ],
   "source": [
    "import seaborn as sns\n",
    "plt.figure(figsize=(12,7))\n",
    "sns.regplot(results,y_test,color='teal', label = 'Test_data', marker = 'x')\n",
    "sns.regplot(results_1,y_train,color='orange',label = 'Train_data')\n",
    "plt.legend()\n",
    "plt.title('RFR model')\n",
    "plt.xlabel('Predicted Ratings')\n",
    "plt.ylabel('Actual Ratings')\n",
    "plt.grid()\n",
    "plt.show()"
   ]
  },
  {
   "cell_type": "raw",
   "metadata": {},
   "source": [
    "# Hyperparameter Tuning\n",
    "Use GridSearchCV to tune the model's parameters"
   ]
  },
  {
   "cell_type": "code",
   "execution_count": 20,
   "metadata": {},
   "outputs": [],
   "source": [
    "# Create the GridSearch estimator along with a parameter object containing the values to adjust\n",
    "from sklearn.model_selection import GridSearchCV\n",
    "param_grid = {'n_estimators':[100,200,250,300,350],\n",
    "              'max_depth':[50,100,125,150,175]}\n",
    "grid = GridSearchCV(rf,param_grid,verbose=3)"
   ]
  },
  {
   "cell_type": "code",
   "execution_count": 21,
   "metadata": {},
   "outputs": [
    {
     "name": "stderr",
     "output_type": "stream",
     "text": [
      "C:\\Users\\User\\Anaconda3\\lib\\site-packages\\sklearn\\model_selection\\_split.py:1978: FutureWarning: The default value of cv will change from 3 to 5 in version 0.22. Specify it explicitly to silence this warning.\n",
      "  warnings.warn(CV_WARNING, FutureWarning)\n",
      "[Parallel(n_jobs=1)]: Using backend SequentialBackend with 1 concurrent workers.\n"
     ]
    },
    {
     "name": "stdout",
     "output_type": "stream",
     "text": [
      "Fitting 3 folds for each of 25 candidates, totalling 75 fits\n",
      "[CV] max_depth=50, n_estimators=100 ..................................\n",
      "[CV] ...... max_depth=50, n_estimators=100, score=0.496, total=   0.8s\n",
      "[CV] max_depth=50, n_estimators=100 ..................................\n"
     ]
    },
    {
     "name": "stderr",
     "output_type": "stream",
     "text": [
      "[Parallel(n_jobs=1)]: Done   1 out of   1 | elapsed:    0.7s remaining:    0.0s\n"
     ]
    },
    {
     "name": "stdout",
     "output_type": "stream",
     "text": [
      "[CV] ...... max_depth=50, n_estimators=100, score=0.503, total=   0.8s\n",
      "[CV] max_depth=50, n_estimators=100 ..................................\n"
     ]
    },
    {
     "name": "stderr",
     "output_type": "stream",
     "text": [
      "[Parallel(n_jobs=1)]: Done   2 out of   2 | elapsed:    1.5s remaining:    0.0s\n"
     ]
    },
    {
     "name": "stdout",
     "output_type": "stream",
     "text": [
      "[CV] ...... max_depth=50, n_estimators=100, score=0.477, total=   0.8s\n",
      "[CV] max_depth=50, n_estimators=200 ..................................\n",
      "[CV] ...... max_depth=50, n_estimators=200, score=0.492, total=   1.5s\n",
      "[CV] max_depth=50, n_estimators=200 ..................................\n",
      "[CV] ...... max_depth=50, n_estimators=200, score=0.503, total=   1.5s\n",
      "[CV] max_depth=50, n_estimators=200 ..................................\n",
      "[CV] ...... max_depth=50, n_estimators=200, score=0.491, total=   1.6s\n",
      "[CV] max_depth=50, n_estimators=250 ..................................\n",
      "[CV] ...... max_depth=50, n_estimators=250, score=0.492, total=   2.0s\n",
      "[CV] max_depth=50, n_estimators=250 ..................................\n",
      "[CV] ...... max_depth=50, n_estimators=250, score=0.496, total=   1.9s\n",
      "[CV] max_depth=50, n_estimators=250 ..................................\n",
      "[CV] ...... max_depth=50, n_estimators=250, score=0.493, total=   1.8s\n",
      "[CV] max_depth=50, n_estimators=300 ..................................\n",
      "[CV] ...... max_depth=50, n_estimators=300, score=0.495, total=   2.1s\n",
      "[CV] max_depth=50, n_estimators=300 ..................................\n",
      "[CV] ...... max_depth=50, n_estimators=300, score=0.504, total=   2.1s\n",
      "[CV] max_depth=50, n_estimators=300 ..................................\n",
      "[CV] ...... max_depth=50, n_estimators=300, score=0.497, total=   2.1s\n",
      "[CV] max_depth=50, n_estimators=350 ..................................\n",
      "[CV] ...... max_depth=50, n_estimators=350, score=0.497, total=   2.4s\n",
      "[CV] max_depth=50, n_estimators=350 ..................................\n",
      "[CV] ...... max_depth=50, n_estimators=350, score=0.502, total=   2.4s\n",
      "[CV] max_depth=50, n_estimators=350 ..................................\n",
      "[CV] ...... max_depth=50, n_estimators=350, score=0.493, total=   2.4s\n",
      "[CV] max_depth=100, n_estimators=100 .................................\n",
      "[CV] ..... max_depth=100, n_estimators=100, score=0.496, total=   0.7s\n",
      "[CV] max_depth=100, n_estimators=100 .................................\n",
      "[CV] ..... max_depth=100, n_estimators=100, score=0.499, total=   0.7s\n",
      "[CV] max_depth=100, n_estimators=100 .................................\n",
      "[CV] ..... max_depth=100, n_estimators=100, score=0.482, total=   0.7s\n",
      "[CV] max_depth=100, n_estimators=200 .................................\n",
      "[CV] ..... max_depth=100, n_estimators=200, score=0.489, total=   1.4s\n",
      "[CV] max_depth=100, n_estimators=200 .................................\n",
      "[CV] ..... max_depth=100, n_estimators=200, score=0.501, total=   1.4s\n",
      "[CV] max_depth=100, n_estimators=200 .................................\n",
      "[CV] ..... max_depth=100, n_estimators=200, score=0.495, total=   1.5s\n",
      "[CV] max_depth=100, n_estimators=250 .................................\n",
      "[CV] ..... max_depth=100, n_estimators=250, score=0.491, total=   1.8s\n",
      "[CV] max_depth=100, n_estimators=250 .................................\n",
      "[CV] ..... max_depth=100, n_estimators=250, score=0.503, total=   1.7s\n",
      "[CV] max_depth=100, n_estimators=250 .................................\n",
      "[CV] ..... max_depth=100, n_estimators=250, score=0.491, total=   1.7s\n",
      "[CV] max_depth=100, n_estimators=300 .................................\n",
      "[CV] ..... max_depth=100, n_estimators=300, score=0.492, total=   2.1s\n",
      "[CV] max_depth=100, n_estimators=300 .................................\n",
      "[CV] ..... max_depth=100, n_estimators=300, score=0.490, total=   2.1s\n",
      "[CV] max_depth=100, n_estimators=300 .................................\n",
      "[CV] ..... max_depth=100, n_estimators=300, score=0.488, total=   2.1s\n",
      "[CV] max_depth=100, n_estimators=350 .................................\n",
      "[CV] ..... max_depth=100, n_estimators=350, score=0.497, total=   2.4s\n",
      "[CV] max_depth=100, n_estimators=350 .................................\n",
      "[CV] ..... max_depth=100, n_estimators=350, score=0.505, total=   2.6s\n",
      "[CV] max_depth=100, n_estimators=350 .................................\n",
      "[CV] ..... max_depth=100, n_estimators=350, score=0.491, total=   2.5s\n",
      "[CV] max_depth=125, n_estimators=100 .................................\n",
      "[CV] ..... max_depth=125, n_estimators=100, score=0.490, total=   0.7s\n",
      "[CV] max_depth=125, n_estimators=100 .................................\n",
      "[CV] ..... max_depth=125, n_estimators=100, score=0.495, total=   0.7s\n",
      "[CV] max_depth=125, n_estimators=100 .................................\n",
      "[CV] ..... max_depth=125, n_estimators=100, score=0.486, total=   0.7s\n",
      "[CV] max_depth=125, n_estimators=200 .................................\n",
      "[CV] ..... max_depth=125, n_estimators=200, score=0.498, total=   1.4s\n",
      "[CV] max_depth=125, n_estimators=200 .................................\n",
      "[CV] ..... max_depth=125, n_estimators=200, score=0.502, total=   1.4s\n",
      "[CV] max_depth=125, n_estimators=200 .................................\n",
      "[CV] ..... max_depth=125, n_estimators=200, score=0.496, total=   1.4s\n",
      "[CV] max_depth=125, n_estimators=250 .................................\n",
      "[CV] ..... max_depth=125, n_estimators=250, score=0.498, total=   1.7s\n",
      "[CV] max_depth=125, n_estimators=250 .................................\n",
      "[CV] ..... max_depth=125, n_estimators=250, score=0.498, total=   1.7s\n",
      "[CV] max_depth=125, n_estimators=250 .................................\n",
      "[CV] ..... max_depth=125, n_estimators=250, score=0.489, total=   1.7s\n",
      "[CV] max_depth=125, n_estimators=300 .................................\n",
      "[CV] ..... max_depth=125, n_estimators=300, score=0.501, total=   2.1s\n",
      "[CV] max_depth=125, n_estimators=300 .................................\n",
      "[CV] ..... max_depth=125, n_estimators=300, score=0.502, total=   2.1s\n",
      "[CV] max_depth=125, n_estimators=300 .................................\n",
      "[CV] ..... max_depth=125, n_estimators=300, score=0.498, total=   2.1s\n",
      "[CV] max_depth=125, n_estimators=350 .................................\n",
      "[CV] ..... max_depth=125, n_estimators=350, score=0.487, total=   2.8s\n",
      "[CV] max_depth=125, n_estimators=350 .................................\n",
      "[CV] ..... max_depth=125, n_estimators=350, score=0.507, total=   2.8s\n",
      "[CV] max_depth=125, n_estimators=350 .................................\n",
      "[CV] ..... max_depth=125, n_estimators=350, score=0.489, total=   2.4s\n",
      "[CV] max_depth=150, n_estimators=100 .................................\n",
      "[CV] ..... max_depth=150, n_estimators=100, score=0.496, total=   0.7s\n",
      "[CV] max_depth=150, n_estimators=100 .................................\n",
      "[CV] ..... max_depth=150, n_estimators=100, score=0.503, total=   0.7s\n",
      "[CV] max_depth=150, n_estimators=100 .................................\n",
      "[CV] ..... max_depth=150, n_estimators=100, score=0.490, total=   0.7s\n",
      "[CV] max_depth=150, n_estimators=200 .................................\n",
      "[CV] ..... max_depth=150, n_estimators=200, score=0.494, total=   1.4s\n",
      "[CV] max_depth=150, n_estimators=200 .................................\n",
      "[CV] ..... max_depth=150, n_estimators=200, score=0.503, total=   1.4s\n",
      "[CV] max_depth=150, n_estimators=200 .................................\n",
      "[CV] ..... max_depth=150, n_estimators=200, score=0.488, total=   1.5s\n",
      "[CV] max_depth=150, n_estimators=250 .................................\n",
      "[CV] ..... max_depth=150, n_estimators=250, score=0.498, total=   1.7s\n",
      "[CV] max_depth=150, n_estimators=250 .................................\n",
      "[CV] ..... max_depth=150, n_estimators=250, score=0.507, total=   1.8s\n",
      "[CV] max_depth=150, n_estimators=250 .................................\n",
      "[CV] ..... max_depth=150, n_estimators=250, score=0.491, total=   1.9s\n",
      "[CV] max_depth=150, n_estimators=300 .................................\n",
      "[CV] ..... max_depth=150, n_estimators=300, score=0.490, total=   2.5s\n",
      "[CV] max_depth=150, n_estimators=300 .................................\n",
      "[CV] ..... max_depth=150, n_estimators=300, score=0.510, total=   2.3s\n",
      "[CV] max_depth=150, n_estimators=300 .................................\n",
      "[CV] ..... max_depth=150, n_estimators=300, score=0.491, total=   2.1s\n",
      "[CV] max_depth=150, n_estimators=350 .................................\n",
      "[CV] ..... max_depth=150, n_estimators=350, score=0.491, total=   2.4s\n",
      "[CV] max_depth=150, n_estimators=350 .................................\n",
      "[CV] ..... max_depth=150, n_estimators=350, score=0.504, total=   2.4s\n",
      "[CV] max_depth=150, n_estimators=350 .................................\n",
      "[CV] ..... max_depth=150, n_estimators=350, score=0.489, total=   2.4s\n",
      "[CV] max_depth=175, n_estimators=100 .................................\n"
     ]
    },
    {
     "name": "stdout",
     "output_type": "stream",
     "text": [
      "[CV] ..... max_depth=175, n_estimators=100, score=0.495, total=   0.7s\n",
      "[CV] max_depth=175, n_estimators=100 .................................\n",
      "[CV] ..... max_depth=175, n_estimators=100, score=0.497, total=   0.7s\n",
      "[CV] max_depth=175, n_estimators=100 .................................\n",
      "[CV] ..... max_depth=175, n_estimators=100, score=0.496, total=   0.7s\n",
      "[CV] max_depth=175, n_estimators=200 .................................\n",
      "[CV] ..... max_depth=175, n_estimators=200, score=0.495, total=   1.4s\n",
      "[CV] max_depth=175, n_estimators=200 .................................\n",
      "[CV] ..... max_depth=175, n_estimators=200, score=0.499, total=   1.4s\n",
      "[CV] max_depth=175, n_estimators=200 .................................\n",
      "[CV] ..... max_depth=175, n_estimators=200, score=0.497, total=   1.4s\n",
      "[CV] max_depth=175, n_estimators=250 .................................\n",
      "[CV] ..... max_depth=175, n_estimators=250, score=0.496, total=   1.7s\n",
      "[CV] max_depth=175, n_estimators=250 .................................\n",
      "[CV] ..... max_depth=175, n_estimators=250, score=0.498, total=   1.8s\n",
      "[CV] max_depth=175, n_estimators=250 .................................\n",
      "[CV] ..... max_depth=175, n_estimators=250, score=0.493, total=   1.9s\n",
      "[CV] max_depth=175, n_estimators=300 .................................\n",
      "[CV] ..... max_depth=175, n_estimators=300, score=0.492, total=   2.2s\n",
      "[CV] max_depth=175, n_estimators=300 .................................\n",
      "[CV] ..... max_depth=175, n_estimators=300, score=0.503, total=   2.1s\n",
      "[CV] max_depth=175, n_estimators=300 .................................\n",
      "[CV] ..... max_depth=175, n_estimators=300, score=0.489, total=   2.1s\n",
      "[CV] max_depth=175, n_estimators=350 .................................\n",
      "[CV] ..... max_depth=175, n_estimators=350, score=0.493, total=   2.4s\n",
      "[CV] max_depth=175, n_estimators=350 .................................\n",
      "[CV] ..... max_depth=175, n_estimators=350, score=0.504, total=   2.4s\n",
      "[CV] max_depth=175, n_estimators=350 .................................\n",
      "[CV] ..... max_depth=175, n_estimators=350, score=0.493, total=   2.5s\n"
     ]
    },
    {
     "name": "stderr",
     "output_type": "stream",
     "text": [
      "[Parallel(n_jobs=1)]: Done  75 out of  75 | elapsed:  2.2min finished\n"
     ]
    },
    {
     "data": {
      "text/plain": [
       "GridSearchCV(cv='warn', error_score='raise-deprecating',\n",
       "             estimator=RandomForestClassifier(bootstrap=True, class_weight=None,\n",
       "                                              criterion='gini', max_depth=None,\n",
       "                                              max_features='auto',\n",
       "                                              max_leaf_nodes=None,\n",
       "                                              min_impurity_decrease=0.0,\n",
       "                                              min_impurity_split=None,\n",
       "                                              min_samples_leaf=1,\n",
       "                                              min_samples_split=2,\n",
       "                                              min_weight_fraction_leaf=0.0,\n",
       "                                              n_estimators=10, n_jobs=None,\n",
       "                                              oob_score=False,\n",
       "                                              random_state=None, verbose=0,\n",
       "                                              warm_start=False),\n",
       "             iid='warn', n_jobs=None,\n",
       "             param_grid={'max_depth': [50, 100, 125, 150, 175],\n",
       "                         'n_estimators': [100, 200, 250, 300, 350]},\n",
       "             pre_dispatch='2*n_jobs', refit=True, return_train_score=False,\n",
       "             scoring=None, verbose=3)"
      ]
     },
     "execution_count": 21,
     "metadata": {},
     "output_type": "execute_result"
    }
   ],
   "source": [
    "# Fit the model using the grid search estimator. \n",
    "grid.fit(X_train,y_train)"
   ]
  },
  {
   "cell_type": "code",
   "execution_count": 22,
   "metadata": {},
   "outputs": [
    {
     "name": "stdout",
     "output_type": "stream",
     "text": [
      "{'max_depth': 125, 'n_estimators': 300}\n"
     ]
    }
   ],
   "source": [
    "# List the best parameters for this dataset\n",
    "print(grid.best_params_)"
   ]
  },
  {
   "cell_type": "code",
   "execution_count": 23,
   "metadata": {},
   "outputs": [
    {
     "name": "stdout",
     "output_type": "stream",
     "text": [
      "0.5001734906315058\n"
     ]
    }
   ],
   "source": [
    "# List the best score\n",
    "print(grid.best_score_)"
   ]
  },
  {
   "cell_type": "code",
   "execution_count": null,
   "metadata": {},
   "outputs": [],
   "source": [
    "# Create the GridSearchCV model\n",
    "predictions = grid.predict(X_test)\n",
    "predictions_train = grid.predict(X_train)"
   ]
  },
  {
   "cell_type": "code",
   "execution_count": null,
   "metadata": {},
   "outputs": [
    {
     "name": "stdout",
     "output_type": "stream",
     "text": [
      "              precision    recall  f1-score   support\n",
      "\n",
      "         0.0       0.00      0.00      0.00         5\n",
      "         1.0       0.16      0.19      0.17        27\n",
      "         5.0       0.00      0.00      0.00        33\n",
      "        10.0       0.36      0.35      0.35       153\n",
      "        50.0       0.20      0.15      0.17        82\n",
      "       100.0       0.38      0.45      0.41       282\n",
      "       500.0       0.21      0.11      0.14       130\n",
      "      1000.0       0.47      0.59      0.52       353\n",
      "      5000.0       0.34      0.18      0.24       186\n",
      "     10000.0       0.55      0.65      0.59       409\n",
      "     50000.0       0.27      0.14      0.19       187\n",
      "    100000.0       0.54      0.65      0.59       443\n",
      "    500000.0       0.29      0.18      0.22       201\n",
      "   1000000.0       0.63      0.78      0.70       565\n",
      "   5000000.0       0.49      0.25      0.33       242\n",
      "  10000000.0       0.65      0.77      0.70       372\n",
      "  50000000.0       0.43      0.25      0.31        80\n",
      " 100000000.0       0.66      0.64      0.65        75\n",
      " 500000000.0       0.00      0.00      0.00        10\n",
      "1000000000.0       0.50      0.12      0.20         8\n",
      "\n",
      "    accuracy                           0.50      3843\n",
      "   macro avg       0.36      0.32      0.33      3843\n",
      "weighted avg       0.47      0.50      0.48      3843\n",
      "\n"
     ]
    }
   ],
   "source": [
    "# Train the model with GridSearch\n",
    "from sklearn.metrics import classification_report\n",
    "print(classification_report(y_test, predictions))"
   ]
  },
  {
   "cell_type": "code",
   "execution_count": null,
   "metadata": {},
   "outputs": [
    {
     "name": "stdout",
     "output_type": "stream",
     "text": [
      "0.501951600312256\n",
      "0.9920194309507286\n"
     ]
    }
   ],
   "source": [
    "print(grid.score(X_test,y_test))\n",
    "print(grid.score(X_train,y_train))"
   ]
  },
  {
   "cell_type": "markdown",
   "metadata": {},
   "source": [
    "# K Nearest Neighbors Model"
   ]
  },
  {
   "cell_type": "code",
   "execution_count": null,
   "metadata": {},
   "outputs": [],
   "source": [
    "from sklearn.neighbors import KNeighborsClassifier"
   ]
  },
  {
   "cell_type": "code",
   "execution_count": null,
   "metadata": {},
   "outputs": [
    {
     "name": "stdout",
     "output_type": "stream",
     "text": [
      "k: 1, Train/Test Score: 0.992/0.337\n",
      "k: 3, Train/Test Score: 0.592/0.301\n",
      "k: 5, Train/Test Score: 0.532/0.323\n",
      "k: 7, Train/Test Score: 0.474/0.300\n",
      "k: 9, Train/Test Score: 0.441/0.290\n",
      "k: 11, Train/Test Score: 0.416/0.284\n",
      "k: 13, Train/Test Score: 0.398/0.273\n",
      "k: 15, Train/Test Score: 0.380/0.262\n",
      "k: 17, Train/Test Score: 0.366/0.268\n",
      "k: 19, Train/Test Score: 0.361/0.271\n"
     ]
    },
    {
     "data": {
      "image/png": "[encoded data removed]",
      "text/plain": [
       "<Figure size 864x504 with 1 Axes>"
      ]
     },
     "metadata": {
      "needs_background": "light"
     },
     "output_type": "display_data"
    }
   ],
   "source": [
    "# Loop through different k values to see which has the highest accuracy\n",
    "# Note: We only use odd numbers because we don't want any ties\n",
    "train_scores = []\n",
    "test_scores = []\n",
    "for k in range(1, 20, 2):\n",
    "    knn = KNeighborsClassifier(n_neighbors=k)\n",
    "    knn.fit(X_train, y_train)\n",
    "    train_score = knn.score(X_train, y_train)\n",
    "    test_score = knn.score(X_test, y_test)\n",
    "    train_scores.append(train_score)\n",
    "    test_scores.append(test_score)\n",
    "    print(f\"k: {k}, Train/Test Score: {train_score:.3f}/{test_score:.3f}\")\n",
    "    \n",
    "plt.figure(figsize=(12,7))\n",
    "plt.plot(range(1, 20, 2), train_scores, marker='o', label = 'Train')\n",
    "plt.plot(range(1, 20, 2), test_scores, marker=\"x\", label = 'Test')\n",
    "plt.xlabel(\"k neighbors\")\n",
    "plt.ylabel(\"Testing accuracy Score\")\n",
    "plt.grid()\n",
    "plt.show()"
   ]
  },
  {
   "cell_type": "markdown",
   "metadata": {},
   "source": [
    "# Linear Regression Model"
   ]
  },
  {
   "cell_type": "code",
   "execution_count": 20,
   "metadata": {},
   "outputs": [],
   "source": [
    "# Import dependencies\n",
    "from sklearn.datasets import make_regression\n",
    "from sklearn.linear_model import LinearRegression"
   ]
  },
  {
   "cell_type": "code",
   "execution_count": 21,
   "metadata": {},
   "outputs": [],
   "source": [
    "model = LinearRegression()"
   ]
  },
  {
   "cell_type": "code",
   "execution_count": 22,
   "metadata": {},
   "outputs": [
    {
     "data": {
      "text/plain": [
       "LinearRegression(copy_X=True, fit_intercept=True, n_jobs=None, normalize=False)"
      ]
     },
     "execution_count": 22,
     "metadata": {},
     "output_type": "execute_result"
    }
   ],
   "source": [
    "model.fit(X_train, y_train)"
   ]
  },
  {
   "cell_type": "code",
   "execution_count": 27,
   "metadata": {},
   "outputs": [
    {
     "name": "stdout",
     "output_type": "stream",
     "text": [
      "Training Data Score: 0.3654362314322215\n",
      "Testing Data Score: 0.43304231130850773\n"
     ]
    }
   ],
   "source": [
    "print(f\"Training Data Score: {model.score(X_train, y_train)}\")\n",
    "print(f\"Testing Data Score: {model.score(X_test, y_test)}\")"
   ]
  },
  {
   "cell_type": "code",
   "execution_count": 30,
   "metadata": {},
   "outputs": [
    {
     "data": {
      "image/png": "[encoded data removed]",
      "text/plain": [
       "<Figure size 864x504 with 1 Axes>"
      ]
     },
     "metadata": {
      "needs_background": "light"
     },
     "output_type": "display_data"
    }
   ],
   "source": [
    "plt.figure(figsize=(12,7))\n",
    "plt.scatter(model.predict(X_train), model.predict(X_train) - y_train, c=\"blue\", label=\"Training Data\")\n",
    "plt.scatter(model.predict(X_test), model.predict(X_test) - y_test, c=\"orange\", label=\"Testing Data\")\n",
    "plt.legend()\n",
    "plt.hlines(y=0, xmin=y_test.min(), xmax=y_test.max())\n",
    "plt.title(\"Residual Plot\")\n",
    "plt.grid()\n",
    "plt.show()"
   ]
  },
  {
   "cell_type": "code",
   "execution_count": null,
   "metadata": {},
   "outputs": [
    {
     "name": "stdout",
     "output_type": "stream",
     "text": [
      "Mean Squared Error (MSE): 1902697562356725.5\n",
      "R-squared (R2 ): 0.3504575600504055\n"
     ]
    }
   ],
   "source": [
    "from sklearn.metrics import mean_squared_error, r2_score\n",
    "predicted = model.predict(X_test)\n",
    "\n",
    "# Score the prediction with mse and r2\n",
    "mse = mean_squared_error(y_test, predicted)\n",
    "r2 = r2_score(y_test, predicted)\n",
    "\n",
    "print(f\"Mean Squared Error (MSE): {mse}\")\n",
    "print(f\"R-squared (R2 ): {r2}\")"
   ]
  },
  {
   "cell_type": "code",
   "execution_count": null,
   "metadata": {},
   "outputs": [
    {
     "data": {
      "image/png": "[encoded data removed]",
      "text/plain": [
       "<Figure size 432x288 with 1 Axes>"
      ]
     },
     "metadata": {
      "needs_background": "light"
     },
     "output_type": "display_data"
    }
   ],
   "source": [
    "data.plot(kind=\"scatter\", x=\"Reviews\", y=\"Installs\", alpha=0.8,color = 'blue')\n",
    "plt.grid()"
   ]
  },
  {
   "cell_type": "code",
   "execution_count": null,
   "metadata": {},
   "outputs": [
    {
     "data": {
      "image/png": "[encoded data removed]",
      "text/plain": [
       "<Figure size 432x288 with 1 Axes>"
      ]
     },
     "metadata": {
      "needs_background": "light"
     },
     "output_type": "display_data"
    }
   ],
   "source": [
    "data.plot(kind=\"scatter\", x=\"Price\", y=\"Installs\", alpha=0.8,color = 'green')\n",
    "plt.grid()"
   ]
  },
  {
   "cell_type": "code",
   "execution_count": null,
   "metadata": {},
   "outputs": [
    {
     "data": {
      "image/png": "[encoded data removed]",
      "text/plain": [
       "<Figure size 432x288 with 1 Axes>"
      ]
     },
     "metadata": {
      "needs_background": "light"
     },
     "output_type": "display_data"
    }
   ],
   "source": [
    "data.plot(kind=\"scatter\", x=\"Size\", y=\"Installs\", alpha=0.5,color = 'blue')\n",
    "plt.grid()"
   ]
  },
  {
   "cell_type": "code",
   "execution_count": null,
   "metadata": {},
   "outputs": [
    {
     "data": {
      "text/plain": [
       "<matplotlib.axes._subplots.AxesSubplot at 0x29e33394f98>"
      ]
     },
     "execution_count": 39,
     "metadata": {},
     "output_type": "execute_result"
    },
    {
     "data": {
      "image/png": "[encoded data removed]",
      "text/plain": [
       "<Figure size 864x504 with 2 Axes>"
      ]
     },
     "metadata": {
      "needs_background": "light"
     },
     "output_type": "display_data"
    }
   ],
   "source": [
    "data_1 = data.drop(labels = ['App','Category','Content','Genre'], axis=1)\n",
    "corr = data_1.apply(lambda x: x.factorize()[0]).corr()\n",
    "plt.figure(figsize=(12,7))\n",
    "sns.heatmap(corr, xticklabels=corr.columns, yticklabels=corr.columns,annot=True)"
   ]
  },
  {
   "cell_type": "markdown",
   "metadata": {},
   "source": [
    "# Support vector machine Model"
   ]
  },
  {
   "cell_type": "code",
   "execution_count": null,
   "metadata": {},
   "outputs": [],
   "source": []
  }
 ],
 "metadata": {
  "kernelspec": {
   "display_name": "Python 3",
   "language": "python",
   "name": "python3"
  },
  "language_info": {
   "codemirror_mode": {
    "name": "ipython",
    "version": 3
   },
   "file_extension": ".py",
   "mimetype": "text/x-python",
   "name": "python",
   "nbconvert_exporter": "python",
   "pygments_lexer": "ipython3",
   "version": "3.7.3"
  }
 },
 "nbformat": 4,
 "nbformat_minor": 2
}
