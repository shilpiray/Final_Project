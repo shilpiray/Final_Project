{
 "cells": [
  {
   "cell_type": "code",
   "execution_count": 1,
   "metadata": {},
   "outputs": [],
   "source": [
    "import numpy as np\n",
    "import pandas as pd\n",
    "import matplotlib.pyplot as plt\n",
    "import matplotlib.ticker as ticker\n",
    "\n",
    "# scaling and dataset split\n",
    "from sklearn import preprocessing\n",
    "from sklearn.model_selection import train_test_split\n",
    "# OLS, Ridge\n",
    "from sklearn.linear_model import LinearRegression, Ridge\n",
    "# model evaluation\n",
    "from sklearn.metrics import r2_score, mean_squared_error"
   ]
  },
  {
   "cell_type": "markdown",
   "metadata": {},
   "source": [
    "# Read the CSV and Perform Basic Data Cleaning"
   ]
  },
  {
   "cell_type": "code",
   "execution_count": 2,
   "metadata": {},
   "outputs": [],
   "source": [
    "data_to_load = \"new_folder/googleplaystore.csv\"\n",
    "df_apps = pd.read_csv(data_to_load)"
   ]
  },
  {
   "cell_type": "code",
   "execution_count": 3,
   "metadata": {},
   "outputs": [],
   "source": [
    "categories = list(df_apps[\"Category\"].unique())\n",
    "#Remove Category 1.9\n",
    "categories.remove('1.9')\n",
    "\n",
    "a = df_apps.loc[df_apps[\"Category\"] == \"1.9\"]\n",
    "df_apps = df_apps.drop(int(a.index.values),axis=0)"
   ]
  },
  {
   "cell_type": "code",
   "execution_count": 4,
   "metadata": {},
   "outputs": [],
   "source": [
    "df_apps = df_apps.drop(df_apps[df_apps['Rating'].isnull()].index, axis=0)"
   ]
  },
  {
   "cell_type": "code",
   "execution_count": 5,
   "metadata": {},
   "outputs": [],
   "source": [
    "df_apps[\"Type\"] = (df_apps[\"Type\"] == \"Paid\").astype(int)"
   ]
  },
  {
   "cell_type": "markdown",
   "metadata": {},
   "source": [
    "# Select your features (columns)"
   ]
  },
  {
   "cell_type": "code",
   "execution_count": 6,
   "metadata": {},
   "outputs": [],
   "source": [
    "#Extract App, Installs, & Content Rating from df_apps\n",
    "popApps = df_apps.copy()\n",
    "popApps = popApps.drop_duplicates()\n",
    "#Remove characters preventing values from being floats and integers\n",
    "popApps[\"Installs\"] = popApps[\"Installs\"].str.replace(\"+\",\"\") \n",
    "popApps[\"Installs\"] = popApps[\"Installs\"].str.replace(\",\",\"\")\n",
    "popApps[\"Installs\"] = popApps[\"Installs\"].astype(\"int64\")\n",
    "popApps[\"Price\"] = popApps[\"Price\"].str.replace(\"$\",\"\")\n",
    "popApps[\"Price\"] = popApps[\"Price\"].astype(\"float64\")\n",
    "popApps[\"Size\"] = popApps[\"Size\"].str.replace(\"Varies with device\",\"0\")\n",
    "popApps[\"Size\"] = (popApps[\"Size\"].replace(r'[kM]+$', '', regex=True).astype(float) *\\\n",
    "        popApps[\"Size\"].str.extract(r'[\\d\\.]+([kM]+)', expand=False).fillna(1).replace(['k','M'], [10**3, 10**6]).astype(int))\n",
    "popApps[\"Reviews\"] = popApps[\"Reviews\"].astype(\"int64\")\n",
    "\n",
    "popApps.reset_index(inplace=True)\n",
    "popApps.drop([\"index\"],axis=1,inplace=True)"
   ]
  },
  {
   "cell_type": "code",
   "execution_count": 7,
   "metadata": {},
   "outputs": [],
   "source": [
    "popAppsCopy = popApps.copy()\n",
    "label_encoder = preprocessing.LabelEncoder() \n",
    "  \n",
    "# Encode labels in column 'Category'. \n",
    "popAppsCopy['Category']= label_encoder.fit_transform(popAppsCopy['Category']) \n",
    "popAppsCopy['Content Rating']= label_encoder.fit_transform(popAppsCopy['Content Rating']) \n",
    "popAppsCopy['Genres']= label_encoder.fit_transform(popAppsCopy['Genres']) \n",
    "#popAppsCopy['Installs']= label_encoder.fit_transform(popAppsCopy['Installs'])\n"
   ]
  },
  {
   "cell_type": "code",
   "execution_count": 8,
   "metadata": {},
   "outputs": [],
   "source": [
    "popAppsCopy = popAppsCopy.drop([\"App\",\"Last Updated\",\"Current Ver\",\"Android Ver\",\"Type\"],axis=1)"
   ]
  },
  {
   "cell_type": "code",
   "execution_count": 9,
   "metadata": {},
   "outputs": [
    {
     "name": "stdout",
     "output_type": "stream",
     "text": [
      "(8892, 7) (8892,)\n",
      "(8892, 7) (8892,)\n"
     ]
    }
   ],
   "source": [
    "X = popAppsCopy.drop(\"Installs\", axis = 1)\n",
    "feature_names = X.columns\n",
    "y = popAppsCopy[\"Installs\"]\n",
    "y = y.replace({1:'1000+',5: '1000+', 10: '1000+',50:'1000+',100:'1000+',500:'1000+',\n",
    "               1000: '1000+',5000:'10000+',10000: '10000+', 50000:'100000+',100000:'100000+',\n",
    "               500000:'1000000+', 1000000:'1000000+',5000000:'10000000+',10000000:'10000000+',\n",
    "               50000000:'100000000+',100000000:'100000000+', 500000000:'1000000000+', \n",
    "               1000000000:'1000000000+' })\n",
    "print(X.shape, y.shape)"
   ]
  },
  {
   "cell_type": "markdown",
   "metadata": {},
   "source": [
    "# Split the data into training and testing"
   ]
  },
  {
   "cell_type": "code",
   "execution_count": 10,
   "metadata": {},
   "outputs": [],
   "source": [
    "from sklearn.model_selection import train_test_split\n",
    "\n",
    "X_train, X_test, y_train, y_test = train_test_split(X, y, random_state=42)"
   ]
  },
  {
   "cell_type": "code",
   "execution_count": 11,
   "metadata": {},
   "outputs": [],
   "source": [
    "from sklearn.preprocessing import LabelEncoder, MinMaxScaler\n",
    "X_scaler = MinMaxScaler().fit(X_train)\n",
    "X_train_scaled = X_scaler.transform(X_train)\n",
    "X_test_scaled = X_scaler.transform(X_test)"
   ]
  },
  {
   "cell_type": "markdown",
   "metadata": {},
   "source": [
    "# Create a Logistic Regression Model"
   ]
  },
  {
   "cell_type": "code",
   "execution_count": 12,
   "metadata": {},
   "outputs": [
    {
     "data": {
      "text/plain": [
       "LogisticRegression(C=1.0, class_weight=None, dual=False, fit_intercept=True,\n",
       "                   intercept_scaling=1, l1_ratio=None, max_iter=100,\n",
       "                   multi_class='warn', n_jobs=None, penalty='l2',\n",
       "                   random_state=None, solver='warn', tol=0.0001, verbose=0,\n",
       "                   warm_start=False)"
      ]
     },
     "execution_count": 12,
     "metadata": {},
     "output_type": "execute_result"
    },
    {
     "data": {
      "text/plain": [
       "LogisticRegression(C=1.0, class_weight=None, dual=False, fit_intercept=True,\n",
       "                   intercept_scaling=1, l1_ratio=None, max_iter=100,\n",
       "                   multi_class='warn', n_jobs=None, penalty='l2',\n",
       "                   random_state=None, solver='warn', tol=0.0001, verbose=0,\n",
       "                   warm_start=False)"
      ]
     },
     "execution_count": 12,
     "metadata": {},
     "output_type": "execute_result"
    }
   ],
   "source": [
    "from sklearn.linear_model import LogisticRegression\n",
    "classifier = LogisticRegression()\n",
    "classifier"
   ]
  },
  {
   "cell_type": "code",
   "execution_count": 13,
   "metadata": {},
   "outputs": [
    {
     "data": {
      "text/plain": [
       "LogisticRegression(C=1.0, class_weight=None, dual=False, fit_intercept=True,\n",
       "                   intercept_scaling=1, l1_ratio=None, max_iter=100,\n",
       "                   multi_class='ovr', n_jobs=1, penalty='l2', random_state=None,\n",
       "                   solver='liblinear', tol=0.0001, verbose=0, warm_start=False)"
      ]
     },
     "execution_count": 13,
     "metadata": {},
     "output_type": "execute_result"
    },
    {
     "data": {
      "text/plain": [
       "LogisticRegression(C=1.0, class_weight=None, dual=False, fit_intercept=True,\n",
       "                   intercept_scaling=1, l1_ratio=None, max_iter=100,\n",
       "                   multi_class='ovr', n_jobs=1, penalty='l2', random_state=None,\n",
       "                   solver='liblinear', tol=0.0001, verbose=0, warm_start=False)"
      ]
     },
     "execution_count": 13,
     "metadata": {},
     "output_type": "execute_result"
    }
   ],
   "source": [
    "LogisticRegression(C=1.0, class_weight=None, dual=False, fit_intercept=True,\n",
    "          intercept_scaling=1, max_iter=100, multi_class='ovr', n_jobs=1,\n",
    "          penalty='l2', random_state=None, solver='liblinear', tol=0.0001,\n",
    "          verbose=0, warm_start=False)"
   ]
  },
  {
   "cell_type": "markdown",
   "metadata": {},
   "source": [
    "#  Fit (train) or model using the training data"
   ]
  },
  {
   "cell_type": "code",
   "execution_count": 14,
   "metadata": {},
   "outputs": [
    {
     "name": "stderr",
     "output_type": "stream",
     "text": [
      "C:\\Users\\User\\Anaconda3\\lib\\site-packages\\sklearn\\linear_model\\logistic.py:432: FutureWarning: Default solver will be changed to 'lbfgs' in 0.22. Specify a solver to silence this warning.\n",
      "  FutureWarning)\n",
      "C:\\Users\\User\\Anaconda3\\lib\\site-packages\\sklearn\\linear_model\\logistic.py:469: FutureWarning: Default multi_class will be changed to 'auto' in 0.22. Specify the multi_class option to silence this warning.\n",
      "  \"this warning.\", FutureWarning)\n",
      "C:\\Users\\User\\Anaconda3\\lib\\site-packages\\sklearn\\linear_model\\logistic.py:432: FutureWarning: Default solver will be changed to 'lbfgs' in 0.22. Specify a solver to silence this warning.\n",
      "  FutureWarning)\n",
      "C:\\Users\\User\\Anaconda3\\lib\\site-packages\\sklearn\\linear_model\\logistic.py:469: FutureWarning: Default multi_class will be changed to 'auto' in 0.22. Specify the multi_class option to silence this warning.\n",
      "  \"this warning.\", FutureWarning)\n"
     ]
    },
    {
     "data": {
      "text/plain": [
       "LogisticRegression(C=1.0, class_weight=None, dual=False, fit_intercept=True,\n",
       "                   intercept_scaling=1, l1_ratio=None, max_iter=100,\n",
       "                   multi_class='warn', n_jobs=None, penalty='l2',\n",
       "                   random_state=None, solver='warn', tol=0.0001, verbose=0,\n",
       "                   warm_start=False)"
      ]
     },
     "execution_count": 14,
     "metadata": {},
     "output_type": "execute_result"
    },
    {
     "data": {
      "text/plain": [
       "LogisticRegression(C=1.0, class_weight=None, dual=False, fit_intercept=True,\n",
       "                   intercept_scaling=1, l1_ratio=None, max_iter=100,\n",
       "                   multi_class='warn', n_jobs=None, penalty='l2',\n",
       "                   random_state=None, solver='warn', tol=0.0001, verbose=0,\n",
       "                   warm_start=False)"
      ]
     },
     "execution_count": 14,
     "metadata": {},
     "output_type": "execute_result"
    }
   ],
   "source": [
    "classifier.fit(X_train, y_train)"
   ]
  },
  {
   "cell_type": "code",
   "execution_count": 15,
   "metadata": {},
   "outputs": [
    {
     "data": {
      "text/plain": [
       "LogisticRegression(C=1.0, class_weight=None, dual=False, fit_intercept=True,\n",
       "                   intercept_scaling=1, l1_ratio=None, max_iter=100,\n",
       "                   multi_class='ovr', n_jobs=1, penalty='l2', random_state=None,\n",
       "                   solver='liblinear', tol=0.0001, verbose=0, warm_start=False)"
      ]
     },
     "execution_count": 15,
     "metadata": {},
     "output_type": "execute_result"
    },
    {
     "data": {
      "text/plain": [
       "LogisticRegression(C=1.0, class_weight=None, dual=False, fit_intercept=True,\n",
       "                   intercept_scaling=1, l1_ratio=None, max_iter=100,\n",
       "                   multi_class='ovr', n_jobs=1, penalty='l2', random_state=None,\n",
       "                   solver='liblinear', tol=0.0001, verbose=0, warm_start=False)"
      ]
     },
     "execution_count": 15,
     "metadata": {},
     "output_type": "execute_result"
    }
   ],
   "source": [
    "LogisticRegression(C=1.0, class_weight=None, dual=False, fit_intercept=True,\n",
    "          intercept_scaling=1, max_iter=100, multi_class='ovr', n_jobs=1,\n",
    "          penalty='l2', random_state=None, solver='liblinear', tol=0.0001,\n",
    "          verbose=0, warm_start=False)"
   ]
  },
  {
   "cell_type": "code",
   "execution_count": 16,
   "metadata": {},
   "outputs": [
    {
     "name": "stdout",
     "output_type": "stream",
     "text": [
      "Training Data Score: 0.284150547308442\n",
      "Testing Data Score: 0.29329734592892487\n",
      "Training Data Score: 0.284150547308442\n",
      "Testing Data Score: 0.29329734592892487\n"
     ]
    }
   ],
   "source": [
    "print(f\"Training Data Score: {classifier.score(X_train, y_train)}\")\n",
    "print(f\"Testing Data Score: {classifier.score(X_test, y_test)}\")"
   ]
  },
  {
   "cell_type": "code",
   "execution_count": 17,
   "metadata": {},
   "outputs": [
    {
     "name": "stdout",
     "output_type": "stream",
     "text": [
      "First 10 Predictions:   ['10000000+' '10000000+' '1000000+' '10000000+' '1000000+' '1000000+'\n",
      " '100000000+' '10000000+' '100000000+' '1000000+']\n",
      "First 10 Actual labels: ['100000+', '1000000+', '100000+', '100000000+', '10000000+', '10000+', '10000000+', '10000000+', '100000000+', '100000+']\n",
      "First 10 Predictions:   ['10000000+' '10000000+' '1000000+' '10000000+' '1000000+' '1000000+'\n",
      " '100000000+' '10000000+' '100000000+' '1000000+']\n",
      "First 10 Actual labels: ['100000+', '1000000+', '100000+', '100000000+', '10000000+', '10000+', '10000000+', '10000000+', '100000000+', '100000+']\n"
     ]
    }
   ],
   "source": [
    "predictions = classifier.predict(X_test)\n",
    "print(f\"First 10 Predictions:   {predictions[:10]}\")\n",
    "print(f\"First 10 Actual labels: {y_test[:10].tolist()}\")"
   ]
  },
  {
   "cell_type": "code",
   "execution_count": 18,
   "metadata": {},
   "outputs": [
    {
     "data": {
      "text/html": [
       "<div>\n",
       "<style scoped>\n",
       "    .dataframe tbody tr th:only-of-type {\n",
       "        vertical-align: middle;\n",
       "    }\n",
       "\n",
       "    .dataframe tbody tr th {\n",
       "        vertical-align: top;\n",
       "    }\n",
       "\n",
       "    .dataframe thead th {\n",
       "        text-align: right;\n",
       "    }\n",
       "</style>\n",
       "<table border=\"1\" class=\"dataframe\">\n",
       "  <thead>\n",
       "    <tr style=\"text-align: right;\">\n",
       "      <th></th>\n",
       "      <th>Prediction</th>\n",
       "      <th>Actual</th>\n",
       "    </tr>\n",
       "  </thead>\n",
       "  <tbody>\n",
       "    <tr>\n",
       "      <th>0</th>\n",
       "      <td>10000000+</td>\n",
       "      <td>100000+</td>\n",
       "    </tr>\n",
       "    <tr>\n",
       "      <th>1</th>\n",
       "      <td>10000000+</td>\n",
       "      <td>1000000+</td>\n",
       "    </tr>\n",
       "    <tr>\n",
       "      <th>2</th>\n",
       "      <td>1000000+</td>\n",
       "      <td>100000+</td>\n",
       "    </tr>\n",
       "    <tr>\n",
       "      <th>3</th>\n",
       "      <td>10000000+</td>\n",
       "      <td>100000000+</td>\n",
       "    </tr>\n",
       "    <tr>\n",
       "      <th>4</th>\n",
       "      <td>1000000+</td>\n",
       "      <td>10000000+</td>\n",
       "    </tr>\n",
       "    <tr>\n",
       "      <th>5</th>\n",
       "      <td>1000000+</td>\n",
       "      <td>10000+</td>\n",
       "    </tr>\n",
       "    <tr>\n",
       "      <th>6</th>\n",
       "      <td>100000000+</td>\n",
       "      <td>10000000+</td>\n",
       "    </tr>\n",
       "    <tr>\n",
       "      <th>7</th>\n",
       "      <td>10000000+</td>\n",
       "      <td>10000000+</td>\n",
       "    </tr>\n",
       "    <tr>\n",
       "      <th>8</th>\n",
       "      <td>100000000+</td>\n",
       "      <td>100000000+</td>\n",
       "    </tr>\n",
       "    <tr>\n",
       "      <th>9</th>\n",
       "      <td>1000000+</td>\n",
       "      <td>100000+</td>\n",
       "    </tr>\n",
       "  </tbody>\n",
       "</table>\n",
       "</div>"
      ],
      "text/plain": [
       "   Prediction      Actual\n",
       "0   10000000+     100000+\n",
       "1   10000000+    1000000+\n",
       "2    1000000+     100000+\n",
       "3   10000000+  100000000+\n",
       "4    1000000+   10000000+\n",
       "5    1000000+      10000+\n",
       "6  100000000+   10000000+\n",
       "7   10000000+   10000000+\n",
       "8  100000000+  100000000+\n",
       "9    1000000+     100000+"
      ]
     },
     "execution_count": 18,
     "metadata": {},
     "output_type": "execute_result"
    },
    {
     "data": {
      "text/html": [
       "<div>\n",
       "<style scoped>\n",
       "    .dataframe tbody tr th:only-of-type {\n",
       "        vertical-align: middle;\n",
       "    }\n",
       "\n",
       "    .dataframe tbody tr th {\n",
       "        vertical-align: top;\n",
       "    }\n",
       "\n",
       "    .dataframe thead th {\n",
       "        text-align: right;\n",
       "    }\n",
       "</style>\n",
       "<table border=\"1\" class=\"dataframe\">\n",
       "  <thead>\n",
       "    <tr style=\"text-align: right;\">\n",
       "      <th></th>\n",
       "      <th>Prediction</th>\n",
       "      <th>Actual</th>\n",
       "    </tr>\n",
       "  </thead>\n",
       "  <tbody>\n",
       "    <tr>\n",
       "      <th>0</th>\n",
       "      <td>10000000+</td>\n",
       "      <td>100000+</td>\n",
       "    </tr>\n",
       "    <tr>\n",
       "      <th>1</th>\n",
       "      <td>10000000+</td>\n",
       "      <td>1000000+</td>\n",
       "    </tr>\n",
       "    <tr>\n",
       "      <th>2</th>\n",
       "      <td>1000000+</td>\n",
       "      <td>100000+</td>\n",
       "    </tr>\n",
       "    <tr>\n",
       "      <th>3</th>\n",
       "      <td>10000000+</td>\n",
       "      <td>100000000+</td>\n",
       "    </tr>\n",
       "    <tr>\n",
       "      <th>4</th>\n",
       "      <td>1000000+</td>\n",
       "      <td>10000000+</td>\n",
       "    </tr>\n",
       "    <tr>\n",
       "      <th>5</th>\n",
       "      <td>1000000+</td>\n",
       "      <td>10000+</td>\n",
       "    </tr>\n",
       "    <tr>\n",
       "      <th>6</th>\n",
       "      <td>100000000+</td>\n",
       "      <td>10000000+</td>\n",
       "    </tr>\n",
       "    <tr>\n",
       "      <th>7</th>\n",
       "      <td>10000000+</td>\n",
       "      <td>10000000+</td>\n",
       "    </tr>\n",
       "    <tr>\n",
       "      <th>8</th>\n",
       "      <td>100000000+</td>\n",
       "      <td>100000000+</td>\n",
       "    </tr>\n",
       "    <tr>\n",
       "      <th>9</th>\n",
       "      <td>1000000+</td>\n",
       "      <td>100000+</td>\n",
       "    </tr>\n",
       "  </tbody>\n",
       "</table>\n",
       "</div>"
      ],
      "text/plain": [
       "   Prediction      Actual\n",
       "0   10000000+     100000+\n",
       "1   10000000+    1000000+\n",
       "2    1000000+     100000+\n",
       "3   10000000+  100000000+\n",
       "4    1000000+   10000000+\n",
       "5    1000000+      10000+\n",
       "6  100000000+   10000000+\n",
       "7   10000000+   10000000+\n",
       "8  100000000+  100000000+\n",
       "9    1000000+     100000+"
      ]
     },
     "execution_count": 18,
     "metadata": {},
     "output_type": "execute_result"
    }
   ],
   "source": [
    "pd.DataFrame({\"Prediction\": predictions, \"Actual\": y_test}).reset_index(drop=True).head(10)"
   ]
  },
  {
   "cell_type": "markdown",
   "metadata": {},
   "source": [
    "# Standard"
   ]
  },
  {
   "cell_type": "code",
   "execution_count": 19,
   "metadata": {},
   "outputs": [
    {
     "name": "stderr",
     "output_type": "stream",
     "text": [
      "C:\\Users\\User\\Anaconda3\\lib\\site-packages\\sklearn\\linear_model\\logistic.py:432: FutureWarning: Default solver will be changed to 'lbfgs' in 0.22. Specify a solver to silence this warning.\n",
      "  FutureWarning)\n",
      "C:\\Users\\User\\Anaconda3\\lib\\site-packages\\sklearn\\linear_model\\logistic.py:469: FutureWarning: Default multi_class will be changed to 'auto' in 0.22. Specify the multi_class option to silence this warning.\n",
      "  \"this warning.\", FutureWarning)\n",
      "C:\\Users\\User\\Anaconda3\\lib\\site-packages\\sklearn\\linear_model\\logistic.py:432: FutureWarning: Default solver will be changed to 'lbfgs' in 0.22. Specify a solver to silence this warning.\n",
      "  FutureWarning)\n",
      "C:\\Users\\User\\Anaconda3\\lib\\site-packages\\sklearn\\linear_model\\logistic.py:469: FutureWarning: Default multi_class will be changed to 'auto' in 0.22. Specify the multi_class option to silence this warning.\n",
      "  \"this warning.\", FutureWarning)\n"
     ]
    },
    {
     "data": {
      "text/plain": [
       "LogisticRegression(C=1.0, class_weight=None, dual=False, fit_intercept=True,\n",
       "                   intercept_scaling=1, l1_ratio=None, max_iter=100,\n",
       "                   multi_class='warn', n_jobs=None, penalty='l2',\n",
       "                   random_state=None, solver='warn', tol=0.0001, verbose=0,\n",
       "                   warm_start=False)"
      ]
     },
     "execution_count": 19,
     "metadata": {},
     "output_type": "execute_result"
    },
    {
     "data": {
      "text/plain": [
       "LogisticRegression(C=1.0, class_weight=None, dual=False, fit_intercept=True,\n",
       "                   intercept_scaling=1, l1_ratio=None, max_iter=100,\n",
       "                   multi_class='warn', n_jobs=None, penalty='l2',\n",
       "                   random_state=None, solver='warn', tol=0.0001, verbose=0,\n",
       "                   warm_start=False)"
      ]
     },
     "execution_count": 19,
     "metadata": {},
     "output_type": "execute_result"
    }
   ],
   "source": [
    "classifier.fit(X_train_scaled, y_train)"
   ]
  },
  {
   "cell_type": "code",
   "execution_count": 20,
   "metadata": {},
   "outputs": [
    {
     "name": "stdout",
     "output_type": "stream",
     "text": [
      "Training Data Score: 0.252361673414305\n",
      "Testing Data Score: 0.27530364372469635\n",
      "Training Data Score: 0.252361673414305\n",
      "Testing Data Score: 0.27530364372469635\n"
     ]
    }
   ],
   "source": [
    "print(f\"Training Data Score: {classifier.score(X_train_scaled, y_train)}\")\n",
    "print(f\"Testing Data Score: {classifier.score(X_test_scaled, y_test)}\")"
   ]
  },
  {
   "cell_type": "markdown",
   "metadata": {},
   "source": [
    "# Random Forest Model"
   ]
  },
  {
   "cell_type": "code",
   "execution_count": 21,
   "metadata": {},
   "outputs": [],
   "source": [
    "from sklearn import tree"
   ]
  },
  {
   "cell_type": "code",
   "execution_count": 22,
   "metadata": {},
   "outputs": [
    {
     "data": {
      "text/plain": [
       "0.717948717948718"
      ]
     },
     "execution_count": 22,
     "metadata": {},
     "output_type": "execute_result"
    },
    {
     "data": {
      "text/plain": [
       "0.717948717948718"
      ]
     },
     "execution_count": 22,
     "metadata": {},
     "output_type": "execute_result"
    }
   ],
   "source": [
    "clf = tree.DecisionTreeClassifier()\n",
    "clf = clf.fit(X_train, y_train)\n",
    "clf.score(X_test, y_test)"
   ]
  },
  {
   "cell_type": "code",
   "execution_count": 23,
   "metadata": {},
   "outputs": [
    {
     "data": {
      "text/plain": [
       "0.7935222672064778"
      ]
     },
     "execution_count": 23,
     "metadata": {},
     "output_type": "execute_result"
    },
    {
     "data": {
      "text/plain": [
       "0.7935222672064778"
      ]
     },
     "execution_count": 23,
     "metadata": {},
     "output_type": "execute_result"
    }
   ],
   "source": [
    "from sklearn.ensemble import RandomForestClassifier\n",
    "rf = RandomForestClassifier(n_estimators=200)\n",
    "rf = rf.fit(X_train, y_train)\n",
    "rf.score(X_test, y_test)"
   ]
  },
  {
   "cell_type": "code",
   "execution_count": 24,
   "metadata": {},
   "outputs": [
    {
     "data": {
      "text/plain": [
       "0.7935222672064778"
      ]
     },
     "execution_count": 24,
     "metadata": {},
     "output_type": "execute_result"
    },
    {
     "data": {
      "text/plain": [
       "0.7935222672064778"
      ]
     },
     "execution_count": 24,
     "metadata": {},
     "output_type": "execute_result"
    }
   ],
   "source": [
    "from sklearn.ensemble import RandomForestClassifier\n",
    "rf = RandomForestClassifier(n_estimators=200)\n",
    "rf = rf.fit(X_train_scaled, y_train)\n",
    "rf.score(X_test_scaled, y_test)"
   ]
  },
  {
   "cell_type": "markdown",
   "metadata": {},
   "source": [
    "# Hyperparameter Tuning\n",
    "Use GridSearchCV to tune the model's parameters"
   ]
  },
  {
   "cell_type": "code",
   "execution_count": 25,
   "metadata": {},
   "outputs": [],
   "source": [
    "# Create the GridSearch estimator along with a parameter object containing the values to adjust\n",
    "from sklearn.model_selection import GridSearchCV\n",
    "param_grid = {'n_estimators':[100,200,300,400,500,600,700,800,900,1000],\n",
    "              'max_depth':[1,5,10,15,20]}\n",
    "grid = GridSearchCV(rf,param_grid,verbose=3)"
   ]
  },
  {
   "cell_type": "code",
   "execution_count": 26,
   "metadata": {},
   "outputs": [
    {
     "name": "stderr",
     "output_type": "stream",
     "text": [
      "C:\\Users\\User\\Anaconda3\\lib\\site-packages\\sklearn\\model_selection\\_split.py:1978: FutureWarning: The default value of cv will change from 3 to 5 in version 0.22. Specify it explicitly to silence this warning.\n",
      "  warnings.warn(CV_WARNING, FutureWarning)\n",
      "[Parallel(n_jobs=1)]: Using backend SequentialBackend with 1 concurrent workers.\n"
     ]
    },
    {
     "name": "stdout",
     "output_type": "stream",
     "text": [
      "Fitting 3 folds for each of 50 candidates, totalling 150 fits\n",
      "[CV] max_depth=1, n_estimators=100 ...................................\n"
     ]
    },
    {
     "name": "stderr",
     "output_type": "stream",
     "text": [
      "C:\\Users\\User\\Anaconda3\\lib\\site-packages\\sklearn\\model_selection\\_split.py:1978: FutureWarning: The default value of cv will change from 3 to 5 in version 0.22. Specify it explicitly to silence this warning.\n",
      "  warnings.warn(CV_WARNING, FutureWarning)\n",
      "[Parallel(n_jobs=1)]: Using backend SequentialBackend with 1 concurrent workers.\n"
     ]
    },
    {
     "name": "stdout",
     "output_type": "stream",
     "text": [
      "Fitting 3 folds for each of 50 candidates, totalling 150 fits\n",
      "[CV] max_depth=1, n_estimators=100 ...................................\n",
      "[CV] ....... max_depth=1, n_estimators=100, score=0.436, total=   0.2s\n",
      "[CV] max_depth=1, n_estimators=100 ...................................\n"
     ]
    },
    {
     "name": "stderr",
     "output_type": "stream",
     "text": [
      "[Parallel(n_jobs=1)]: Done   1 out of   1 | elapsed:    0.2s remaining:    0.0s\n"
     ]
    },
    {
     "name": "stdout",
     "output_type": "stream",
     "text": [
      "[CV] ....... max_depth=1, n_estimators=100, score=0.436, total=   0.2s\n",
      "[CV] max_depth=1, n_estimators=100 ...................................\n"
     ]
    },
    {
     "name": "stderr",
     "output_type": "stream",
     "text": [
      "[Parallel(n_jobs=1)]: Done   1 out of   1 | elapsed:    0.2s remaining:    0.0s\n"
     ]
    },
    {
     "name": "stdout",
     "output_type": "stream",
     "text": [
      "[CV] ....... max_depth=1, n_estimators=100, score=0.509, total=   0.2s\n",
      "[CV] max_depth=1, n_estimators=100 ...................................\n"
     ]
    },
    {
     "name": "stderr",
     "output_type": "stream",
     "text": [
      "[Parallel(n_jobs=1)]: Done   2 out of   2 | elapsed:    0.4s remaining:    0.0s\n"
     ]
    },
    {
     "name": "stdout",
     "output_type": "stream",
     "text": [
      "[CV] ....... max_depth=1, n_estimators=100, score=0.509, total=   0.2s\n",
      "[CV] max_depth=1, n_estimators=100 ...................................\n"
     ]
    },
    {
     "name": "stderr",
     "output_type": "stream",
     "text": [
      "[Parallel(n_jobs=1)]: Done   2 out of   2 | elapsed:    0.4s remaining:    0.0s\n"
     ]
    },
    {
     "name": "stdout",
     "output_type": "stream",
     "text": [
      "[CV] ....... max_depth=1, n_estimators=100, score=0.415, total=   0.2s\n",
      "[CV] max_depth=1, n_estimators=200 ...................................\n",
      "[CV] ....... max_depth=1, n_estimators=100, score=0.415, total=   0.2s\n",
      "[CV] max_depth=1, n_estimators=200 ...................................\n",
      "[CV] ....... max_depth=1, n_estimators=200, score=0.434, total=   0.5s\n",
      "[CV] max_depth=1, n_estimators=200 ...................................\n",
      "[CV] ....... max_depth=1, n_estimators=200, score=0.434, total=   0.5s\n",
      "[CV] max_depth=1, n_estimators=200 ...................................\n",
      "[CV] ....... max_depth=1, n_estimators=200, score=0.505, total=   0.5s\n",
      "[CV] max_depth=1, n_estimators=200 ...................................\n",
      "[CV] ....... max_depth=1, n_estimators=200, score=0.505, total=   0.5s\n",
      "[CV] max_depth=1, n_estimators=200 ...................................\n",
      "[CV] ....... max_depth=1, n_estimators=200, score=0.407, total=   0.5s\n",
      "[CV] max_depth=1, n_estimators=300 ...................................\n",
      "[CV] ....... max_depth=1, n_estimators=200, score=0.407, total=   0.5s\n",
      "[CV] max_depth=1, n_estimators=300 ...................................\n",
      "[CV] ....... max_depth=1, n_estimators=300, score=0.500, total=   0.8s\n",
      "[CV] max_depth=1, n_estimators=300 ...................................\n",
      "[CV] ....... max_depth=1, n_estimators=300, score=0.500, total=   0.8s\n",
      "[CV] max_depth=1, n_estimators=300 ...................................\n",
      "[CV] ....... max_depth=1, n_estimators=300, score=0.509, total=   0.9s\n",
      "[CV] max_depth=1, n_estimators=300 ...................................\n",
      "[CV] ....... max_depth=1, n_estimators=300, score=0.509, total=   0.9s\n",
      "[CV] max_depth=1, n_estimators=300 ...................................\n",
      "[CV] ....... max_depth=1, n_estimators=300, score=0.406, total=   0.9s\n",
      "[CV] max_depth=1, n_estimators=400 ...................................\n",
      "[CV] ....... max_depth=1, n_estimators=300, score=0.406, total=   0.9s\n",
      "[CV] max_depth=1, n_estimators=400 ...................................\n",
      "[CV] ....... max_depth=1, n_estimators=400, score=0.509, total=   1.0s\n",
      "[CV] max_depth=1, n_estimators=400 ...................................\n",
      "[CV] ....... max_depth=1, n_estimators=400, score=0.509, total=   1.0s\n",
      "[CV] max_depth=1, n_estimators=400 ...................................\n",
      "[CV] ....... max_depth=1, n_estimators=400, score=0.494, total=   1.2s\n",
      "[CV] max_depth=1, n_estimators=400 ...................................\n",
      "[CV] ....... max_depth=1, n_estimators=400, score=0.494, total=   1.2s\n",
      "[CV] max_depth=1, n_estimators=400 ...................................\n",
      "[CV] ....... max_depth=1, n_estimators=400, score=0.408, total=   1.1s\n",
      "[CV] max_depth=1, n_estimators=500 ...................................\n",
      "[CV] ....... max_depth=1, n_estimators=400, score=0.408, total=   1.1s\n",
      "[CV] max_depth=1, n_estimators=500 ...................................\n",
      "[CV] ....... max_depth=1, n_estimators=500, score=0.446, total=   1.2s\n",
      "[CV] max_depth=1, n_estimators=500 ...................................\n",
      "[CV] ....... max_depth=1, n_estimators=500, score=0.446, total=   1.2s\n",
      "[CV] max_depth=1, n_estimators=500 ...................................\n",
      "[CV] ....... max_depth=1, n_estimators=500, score=0.505, total=   1.2s\n",
      "[CV] max_depth=1, n_estimators=500 ...................................\n",
      "[CV] ....... max_depth=1, n_estimators=500, score=0.505, total=   1.2s\n",
      "[CV] max_depth=1, n_estimators=500 ...................................\n",
      "[CV] ....... max_depth=1, n_estimators=500, score=0.432, total=   1.4s\n",
      "[CV] max_depth=1, n_estimators=600 ...................................\n",
      "[CV] ....... max_depth=1, n_estimators=500, score=0.432, total=   1.4s\n",
      "[CV] max_depth=1, n_estimators=600 ...................................\n",
      "[CV] ....... max_depth=1, n_estimators=600, score=0.513, total=   1.6s\n",
      "[CV] max_depth=1, n_estimators=600 ...................................\n",
      "[CV] ....... max_depth=1, n_estimators=600, score=0.513, total=   1.6s\n",
      "[CV] max_depth=1, n_estimators=600 ...................................\n",
      "[CV] ....... max_depth=1, n_estimators=600, score=0.509, total=   1.4s\n",
      "[CV] max_depth=1, n_estimators=600 ...................................\n",
      "[CV] ....... max_depth=1, n_estimators=600, score=0.509, total=   1.4s\n",
      "[CV] max_depth=1, n_estimators=600 ...................................\n",
      "[CV] ....... max_depth=1, n_estimators=600, score=0.415, total=   1.4s\n",
      "[CV] max_depth=1, n_estimators=700 ...................................\n",
      "[CV] ....... max_depth=1, n_estimators=600, score=0.415, total=   1.4s\n",
      "[CV] max_depth=1, n_estimators=700 ...................................\n",
      "[CV] ....... max_depth=1, n_estimators=700, score=0.476, total=   1.7s\n",
      "[CV] max_depth=1, n_estimators=700 ...................................\n",
      "[CV] ....... max_depth=1, n_estimators=700, score=0.476, total=   1.7s\n",
      "[CV] max_depth=1, n_estimators=700 ...................................\n",
      "[CV] ....... max_depth=1, n_estimators=700, score=0.509, total=   1.7s\n",
      "[CV] max_depth=1, n_estimators=700 ...................................\n",
      "[CV] ....... max_depth=1, n_estimators=700, score=0.509, total=   1.7s\n",
      "[CV] max_depth=1, n_estimators=700 ...................................\n",
      "[CV] ....... max_depth=1, n_estimators=700, score=0.409, total=   1.7s\n",
      "[CV] max_depth=1, n_estimators=800 ...................................\n",
      "[CV] ....... max_depth=1, n_estimators=700, score=0.409, total=   1.7s\n",
      "[CV] max_depth=1, n_estimators=800 ...................................\n",
      "[CV] ....... max_depth=1, n_estimators=800, score=0.510, total=   1.9s\n",
      "[CV] max_depth=1, n_estimators=800 ...................................\n",
      "[CV] ....... max_depth=1, n_estimators=800, score=0.510, total=   1.9s\n",
      "[CV] max_depth=1, n_estimators=800 ...................................\n",
      "[CV] ....... max_depth=1, n_estimators=800, score=0.503, total=   2.0s\n",
      "[CV] max_depth=1, n_estimators=800 ...................................\n",
      "[CV] ....... max_depth=1, n_estimators=800, score=0.503, total=   2.0s\n",
      "[CV] max_depth=1, n_estimators=800 ...................................\n",
      "[CV] ....... max_depth=1, n_estimators=800, score=0.406, total=   2.0s\n",
      "[CV] max_depth=1, n_estimators=900 ...................................\n",
      "[CV] ....... max_depth=1, n_estimators=800, score=0.406, total=   2.0s\n",
      "[CV] max_depth=1, n_estimators=900 ...................................\n",
      "[CV] ....... max_depth=1, n_estimators=900, score=0.512, total=   2.7s\n",
      "[CV] max_depth=1, n_estimators=900 ...................................\n",
      "[CV] ....... max_depth=1, n_estimators=900, score=0.512, total=   2.7s\n",
      "[CV] max_depth=1, n_estimators=900 ...................................\n",
      "[CV] ....... max_depth=1, n_estimators=900, score=0.507, total=   2.7s\n",
      "[CV] max_depth=1, n_estimators=900 ...................................\n",
      "[CV] ....... max_depth=1, n_estimators=900, score=0.507, total=   2.7s\n",
      "[CV] max_depth=1, n_estimators=900 ...................................\n",
      "[CV] ....... max_depth=1, n_estimators=900, score=0.414, total=   2.2s\n",
      "[CV] max_depth=1, n_estimators=1000 ..................................\n",
      "[CV] ....... max_depth=1, n_estimators=900, score=0.414, total=   2.2s\n",
      "[CV] max_depth=1, n_estimators=1000 ..................................\n",
      "[CV] ...... max_depth=1, n_estimators=1000, score=0.499, total=   2.4s\n",
      "[CV] max_depth=1, n_estimators=1000 ..................................\n",
      "[CV] ...... max_depth=1, n_estimators=1000, score=0.499, total=   2.4s\n",
      "[CV] max_depth=1, n_estimators=1000 ..................................\n",
      "[CV] ...... max_depth=1, n_estimators=1000, score=0.507, total=   2.5s\n",
      "[CV] max_depth=1, n_estimators=1000 ..................................\n",
      "[CV] ...... max_depth=1, n_estimators=1000, score=0.507, total=   2.5s\n",
      "[CV] max_depth=1, n_estimators=1000 ..................................\n",
      "[CV] ...... max_depth=1, n_estimators=1000, score=0.414, total=   2.5s\n",
      "[CV] max_depth=5, n_estimators=100 ...................................\n",
      "[CV] ...... max_depth=1, n_estimators=1000, score=0.414, total=   2.5s\n",
      "[CV] max_depth=5, n_estimators=100 ...................................\n",
      "[CV] ....... max_depth=5, n_estimators=100, score=0.720, total=   0.4s\n",
      "[CV] max_depth=5, n_estimators=100 ...................................\n",
      "[CV] ....... max_depth=5, n_estimators=100, score=0.720, total=   0.4s\n",
      "[CV] max_depth=5, n_estimators=100 ...................................\n"
     ]
    },
    {
     "name": "stdout",
     "output_type": "stream",
     "text": [
      "[CV] ....... max_depth=5, n_estimators=100, score=0.714, total=   0.4s\n",
      "[CV] max_depth=5, n_estimators=100 ...................................\n",
      "[CV] ....... max_depth=5, n_estimators=100, score=0.714, total=   0.4s\n",
      "[CV] max_depth=5, n_estimators=100 ...................................\n",
      "[CV] ....... max_depth=5, n_estimators=100, score=0.729, total=   0.4s\n",
      "[CV] max_depth=5, n_estimators=200 ...................................\n",
      "[CV] ....... max_depth=5, n_estimators=100, score=0.729, total=   0.4s\n",
      "[CV] max_depth=5, n_estimators=200 ...................................\n",
      "[CV] ....... max_depth=5, n_estimators=200, score=0.722, total=   0.9s\n",
      "[CV] max_depth=5, n_estimators=200 ...................................\n",
      "[CV] ....... max_depth=5, n_estimators=200, score=0.722, total=   0.9s\n",
      "[CV] max_depth=5, n_estimators=200 ...................................\n",
      "[CV] ....... max_depth=5, n_estimators=200, score=0.722, total=   0.8s\n",
      "[CV] max_depth=5, n_estimators=200 ...................................\n",
      "[CV] ....... max_depth=5, n_estimators=200, score=0.722, total=   0.8s\n",
      "[CV] max_depth=5, n_estimators=200 ...................................\n",
      "[CV] ....... max_depth=5, n_estimators=200, score=0.734, total=   0.8s\n",
      "[CV] max_depth=5, n_estimators=300 ...................................\n",
      "[CV] ....... max_depth=5, n_estimators=200, score=0.734, total=   0.8s\n",
      "[CV] max_depth=5, n_estimators=300 ...................................\n",
      "[CV] ....... max_depth=5, n_estimators=300, score=0.724, total=   1.3s\n",
      "[CV] max_depth=5, n_estimators=300 ...................................\n",
      "[CV] ....... max_depth=5, n_estimators=300, score=0.724, total=   1.3s\n",
      "[CV] max_depth=5, n_estimators=300 ...................................\n",
      "[CV] ....... max_depth=5, n_estimators=300, score=0.713, total=   1.2s\n",
      "[CV] max_depth=5, n_estimators=300 ...................................\n",
      "[CV] ....... max_depth=5, n_estimators=300, score=0.713, total=   1.2s\n",
      "[CV] max_depth=5, n_estimators=300 ...................................\n",
      "[CV] ....... max_depth=5, n_estimators=300, score=0.728, total=   1.2s\n",
      "[CV] max_depth=5, n_estimators=400 ...................................\n",
      "[CV] ....... max_depth=5, n_estimators=300, score=0.728, total=   1.2s\n",
      "[CV] max_depth=5, n_estimators=400 ...................................\n",
      "[CV] ....... max_depth=5, n_estimators=400, score=0.725, total=   1.5s\n",
      "[CV] max_depth=5, n_estimators=400 ...................................\n",
      "[CV] ....... max_depth=5, n_estimators=400, score=0.725, total=   1.5s\n",
      "[CV] max_depth=5, n_estimators=400 ...................................\n",
      "[CV] ....... max_depth=5, n_estimators=400, score=0.716, total=   1.5s\n",
      "[CV] max_depth=5, n_estimators=400 ...................................\n",
      "[CV] ....... max_depth=5, n_estimators=400, score=0.716, total=   1.5s\n",
      "[CV] max_depth=5, n_estimators=400 ...................................\n",
      "[CV] ....... max_depth=5, n_estimators=400, score=0.732, total=   1.9s\n",
      "[CV] max_depth=5, n_estimators=500 ...................................\n",
      "[CV] ....... max_depth=5, n_estimators=400, score=0.732, total=   1.9s\n",
      "[CV] max_depth=5, n_estimators=500 ...................................\n",
      "[CV] ....... max_depth=5, n_estimators=500, score=0.724, total=   2.4s\n",
      "[CV] max_depth=5, n_estimators=500 ...................................\n",
      "[CV] ....... max_depth=5, n_estimators=500, score=0.724, total=   2.4s\n",
      "[CV] max_depth=5, n_estimators=500 ...................................\n",
      "[CV] ....... max_depth=5, n_estimators=500, score=0.717, total=   2.2s\n",
      "[CV] max_depth=5, n_estimators=500 ...................................\n",
      "[CV] ....... max_depth=5, n_estimators=500, score=0.717, total=   2.2s\n",
      "[CV] max_depth=5, n_estimators=500 ...................................\n",
      "[CV] ....... max_depth=5, n_estimators=500, score=0.734, total=   2.1s\n",
      "[CV] max_depth=5, n_estimators=600 ...................................\n",
      "[CV] ....... max_depth=5, n_estimators=500, score=0.734, total=   2.1s\n",
      "[CV] max_depth=5, n_estimators=600 ...................................\n",
      "[CV] ....... max_depth=5, n_estimators=600, score=0.725, total=   2.5s\n",
      "[CV] max_depth=5, n_estimators=600 ...................................\n",
      "[CV] ....... max_depth=5, n_estimators=600, score=0.725, total=   2.5s\n",
      "[CV] max_depth=5, n_estimators=600 ...................................\n",
      "[CV] ....... max_depth=5, n_estimators=600, score=0.720, total=   2.4s\n",
      "[CV] max_depth=5, n_estimators=600 ...................................\n",
      "[CV] ....... max_depth=5, n_estimators=600, score=0.720, total=   2.4s\n",
      "[CV] max_depth=5, n_estimators=600 ...................................\n",
      "[CV] ....... max_depth=5, n_estimators=600, score=0.730, total=   2.4s\n",
      "[CV] max_depth=5, n_estimators=700 ...................................\n",
      "[CV] ....... max_depth=5, n_estimators=600, score=0.730, total=   2.4s\n",
      "[CV] max_depth=5, n_estimators=700 ...................................\n",
      "[CV] ....... max_depth=5, n_estimators=700, score=0.726, total=   2.7s\n",
      "[CV] max_depth=5, n_estimators=700 ...................................\n",
      "[CV] ....... max_depth=5, n_estimators=700, score=0.726, total=   2.7s\n",
      "[CV] max_depth=5, n_estimators=700 ...................................\n",
      "[CV] ....... max_depth=5, n_estimators=700, score=0.714, total=   2.8s\n",
      "[CV] max_depth=5, n_estimators=700 ...................................\n",
      "[CV] ....... max_depth=5, n_estimators=700, score=0.714, total=   2.8s\n",
      "[CV] max_depth=5, n_estimators=700 ...................................\n",
      "[CV] ....... max_depth=5, n_estimators=700, score=0.729, total=   2.8s\n",
      "[CV] max_depth=5, n_estimators=800 ...................................\n",
      "[CV] ....... max_depth=5, n_estimators=700, score=0.729, total=   2.8s\n",
      "[CV] max_depth=5, n_estimators=800 ...................................\n",
      "[CV] ....... max_depth=5, n_estimators=800, score=0.726, total=   3.4s\n",
      "[CV] max_depth=5, n_estimators=800 ...................................\n",
      "[CV] ....... max_depth=5, n_estimators=800, score=0.726, total=   3.4s\n",
      "[CV] max_depth=5, n_estimators=800 ...................................\n",
      "[CV] ....... max_depth=5, n_estimators=800, score=0.714, total=   3.5s\n",
      "[CV] max_depth=5, n_estimators=800 ...................................\n",
      "[CV] ....... max_depth=5, n_estimators=800, score=0.714, total=   3.5s\n",
      "[CV] max_depth=5, n_estimators=800 ...................................\n",
      "[CV] ....... max_depth=5, n_estimators=800, score=0.729, total=   3.2s\n",
      "[CV] max_depth=5, n_estimators=900 ...................................\n",
      "[CV] ....... max_depth=5, n_estimators=800, score=0.729, total=   3.2s\n",
      "[CV] max_depth=5, n_estimators=900 ...................................\n",
      "[CV] ....... max_depth=5, n_estimators=900, score=0.724, total=   3.7s\n",
      "[CV] max_depth=5, n_estimators=900 ...................................\n",
      "[CV] ....... max_depth=5, n_estimators=900, score=0.724, total=   3.7s\n",
      "[CV] max_depth=5, n_estimators=900 ...................................\n",
      "[CV] ....... max_depth=5, n_estimators=900, score=0.717, total=   3.6s\n",
      "[CV] max_depth=5, n_estimators=900 ...................................\n",
      "[CV] ....... max_depth=5, n_estimators=900, score=0.717, total=   3.6s\n",
      "[CV] max_depth=5, n_estimators=900 ...................................\n",
      "[CV] ....... max_depth=5, n_estimators=900, score=0.730, total=   3.7s\n",
      "[CV] max_depth=5, n_estimators=1000 ..................................\n",
      "[CV] ....... max_depth=5, n_estimators=900, score=0.730, total=   3.7s\n",
      "[CV] max_depth=5, n_estimators=1000 ..................................\n",
      "[CV] ...... max_depth=5, n_estimators=1000, score=0.724, total=   3.9s\n",
      "[CV] max_depth=5, n_estimators=1000 ..................................\n",
      "[CV] ...... max_depth=5, n_estimators=1000, score=0.724, total=   3.9s\n",
      "[CV] max_depth=5, n_estimators=1000 ..................................\n",
      "[CV] ...... max_depth=5, n_estimators=1000, score=0.715, total=   4.7s\n",
      "[CV] max_depth=5, n_estimators=1000 ..................................\n",
      "[CV] ...... max_depth=5, n_estimators=1000, score=0.715, total=   4.7s\n",
      "[CV] max_depth=5, n_estimators=1000 ..................................\n",
      "[CV] ...... max_depth=5, n_estimators=1000, score=0.731, total=   4.9s\n",
      "[CV] max_depth=10, n_estimators=100 ..................................\n",
      "[CV] ...... max_depth=5, n_estimators=1000, score=0.731, total=   4.9s\n",
      "[CV] max_depth=10, n_estimators=100 ..................................\n"
     ]
    },
    {
     "name": "stdout",
     "output_type": "stream",
     "text": [
      "[CV] ...... max_depth=10, n_estimators=100, score=0.769, total=   0.7s\n",
      "[CV] max_depth=10, n_estimators=100 ..................................\n",
      "[CV] ...... max_depth=10, n_estimators=100, score=0.769, total=   0.7s\n",
      "[CV] max_depth=10, n_estimators=100 ..................................\n",
      "[CV] ...... max_depth=10, n_estimators=100, score=0.762, total=   0.6s\n",
      "[CV] max_depth=10, n_estimators=100 ..................................\n",
      "[CV] ...... max_depth=10, n_estimators=100, score=0.762, total=   0.6s\n",
      "[CV] max_depth=10, n_estimators=100 ..................................\n",
      "[CV] ...... max_depth=10, n_estimators=100, score=0.776, total=   0.6s\n",
      "[CV] max_depth=10, n_estimators=200 ..................................\n",
      "[CV] ...... max_depth=10, n_estimators=100, score=0.776, total=   0.6s\n",
      "[CV] max_depth=10, n_estimators=200 ..................................\n",
      "[CV] ...... max_depth=10, n_estimators=200, score=0.767, total=   1.2s\n",
      "[CV] max_depth=10, n_estimators=200 ..................................\n",
      "[CV] ...... max_depth=10, n_estimators=200, score=0.767, total=   1.2s\n",
      "[CV] max_depth=10, n_estimators=200 ..................................\n",
      "[CV] ...... max_depth=10, n_estimators=200, score=0.766, total=   1.2s\n",
      "[CV] max_depth=10, n_estimators=200 ..................................\n",
      "[CV] ...... max_depth=10, n_estimators=200, score=0.766, total=   1.2s\n",
      "[CV] max_depth=10, n_estimators=200 ..................................\n",
      "[CV] ...... max_depth=10, n_estimators=200, score=0.781, total=   1.3s\n",
      "[CV] max_depth=10, n_estimators=300 ..................................\n",
      "[CV] ...... max_depth=10, n_estimators=200, score=0.781, total=   1.3s\n",
      "[CV] max_depth=10, n_estimators=300 ..................................\n",
      "[CV] ...... max_depth=10, n_estimators=300, score=0.772, total=   2.5s\n",
      "[CV] max_depth=10, n_estimators=300 ..................................\n",
      "[CV] ...... max_depth=10, n_estimators=300, score=0.772, total=   2.5s\n",
      "[CV] max_depth=10, n_estimators=300 ..................................\n",
      "[CV] ...... max_depth=10, n_estimators=300, score=0.765, total=   2.2s\n",
      "[CV] max_depth=10, n_estimators=300 ..................................\n",
      "[CV] ...... max_depth=10, n_estimators=300, score=0.765, total=   2.2s\n",
      "[CV] max_depth=10, n_estimators=300 ..................................\n",
      "[CV] ...... max_depth=10, n_estimators=300, score=0.775, total=   2.0s\n",
      "[CV] max_depth=10, n_estimators=400 ..................................\n",
      "[CV] ...... max_depth=10, n_estimators=300, score=0.775, total=   2.0s\n",
      "[CV] max_depth=10, n_estimators=400 ..................................\n",
      "[CV] ...... max_depth=10, n_estimators=400, score=0.769, total=   3.5s\n",
      "[CV] max_depth=10, n_estimators=400 ..................................\n",
      "[CV] ...... max_depth=10, n_estimators=400, score=0.769, total=   3.5s\n",
      "[CV] max_depth=10, n_estimators=400 ..................................\n",
      "[CV] ...... max_depth=10, n_estimators=400, score=0.764, total=   3.6s\n",
      "[CV] max_depth=10, n_estimators=400 ..................................\n",
      "[CV] ...... max_depth=10, n_estimators=400, score=0.764, total=   3.6s\n",
      "[CV] max_depth=10, n_estimators=400 ..................................\n",
      "[CV] ...... max_depth=10, n_estimators=400, score=0.780, total=   3.2s\n",
      "[CV] max_depth=10, n_estimators=500 ..................................\n",
      "[CV] ...... max_depth=10, n_estimators=400, score=0.780, total=   3.2s\n",
      "[CV] max_depth=10, n_estimators=500 ..................................\n",
      "[CV] ...... max_depth=10, n_estimators=500, score=0.771, total=   3.5s\n",
      "[CV] max_depth=10, n_estimators=500 ..................................\n",
      "[CV] ...... max_depth=10, n_estimators=500, score=0.771, total=   3.5s\n",
      "[CV] max_depth=10, n_estimators=500 ..................................\n",
      "[CV] ...... max_depth=10, n_estimators=500, score=0.765, total=   3.3s\n",
      "[CV] max_depth=10, n_estimators=500 ..................................\n",
      "[CV] ...... max_depth=10, n_estimators=500, score=0.765, total=   3.3s\n",
      "[CV] max_depth=10, n_estimators=500 ..................................\n",
      "[CV] ...... max_depth=10, n_estimators=500, score=0.773, total=   3.2s\n",
      "[CV] max_depth=10, n_estimators=600 ..................................\n",
      "[CV] ...... max_depth=10, n_estimators=500, score=0.773, total=   3.2s\n",
      "[CV] max_depth=10, n_estimators=600 ..................................\n",
      "[CV] ...... max_depth=10, n_estimators=600, score=0.766, total=   4.4s\n",
      "[CV] max_depth=10, n_estimators=600 ..................................\n",
      "[CV] ...... max_depth=10, n_estimators=600, score=0.766, total=   4.4s\n",
      "[CV] max_depth=10, n_estimators=600 ..................................\n",
      "[CV] ...... max_depth=10, n_estimators=600, score=0.763, total=   4.4s\n",
      "[CV] max_depth=10, n_estimators=600 ..................................\n",
      "[CV] ...... max_depth=10, n_estimators=600, score=0.763, total=   4.4s\n",
      "[CV] max_depth=10, n_estimators=600 ..................................\n",
      "[CV] ...... max_depth=10, n_estimators=600, score=0.780, total=   4.4s\n",
      "[CV] max_depth=10, n_estimators=700 ..................................\n",
      "[CV] ...... max_depth=10, n_estimators=600, score=0.780, total=   4.4s\n",
      "[CV] max_depth=10, n_estimators=700 ..................................\n",
      "[CV] ...... max_depth=10, n_estimators=700, score=0.769, total=   4.8s\n",
      "[CV] max_depth=10, n_estimators=700 ..................................\n",
      "[CV] ...... max_depth=10, n_estimators=700, score=0.769, total=   4.8s\n",
      "[CV] max_depth=10, n_estimators=700 ..................................\n",
      "[CV] ...... max_depth=10, n_estimators=700, score=0.763, total=   4.5s\n",
      "[CV] max_depth=10, n_estimators=700 ..................................\n",
      "[CV] ...... max_depth=10, n_estimators=700, score=0.763, total=   4.5s\n",
      "[CV] max_depth=10, n_estimators=700 ..................................\n",
      "[CV] ...... max_depth=10, n_estimators=700, score=0.779, total=   4.4s\n",
      "[CV] max_depth=10, n_estimators=800 ..................................\n",
      "[CV] ...... max_depth=10, n_estimators=700, score=0.779, total=   4.4s\n",
      "[CV] max_depth=10, n_estimators=800 ..................................\n",
      "[CV] ...... max_depth=10, n_estimators=800, score=0.766, total=   5.1s\n",
      "[CV] max_depth=10, n_estimators=800 ..................................\n",
      "[CV] ...... max_depth=10, n_estimators=800, score=0.766, total=   5.1s\n",
      "[CV] max_depth=10, n_estimators=800 ..................................\n",
      "[CV] ...... max_depth=10, n_estimators=800, score=0.764, total=   6.4s\n",
      "[CV] max_depth=10, n_estimators=800 ..................................\n",
      "[CV] ...... max_depth=10, n_estimators=800, score=0.764, total=   6.4s\n",
      "[CV] max_depth=10, n_estimators=800 ..................................\n",
      "[CV] ...... max_depth=10, n_estimators=800, score=0.777, total=   5.7s\n",
      "[CV] max_depth=10, n_estimators=900 ..................................\n",
      "[CV] ...... max_depth=10, n_estimators=800, score=0.777, total=   5.7s\n",
      "[CV] max_depth=10, n_estimators=900 ..................................\n",
      "[CV] ...... max_depth=10, n_estimators=900, score=0.769, total=  10.1s\n",
      "[CV] max_depth=10, n_estimators=900 ..................................\n",
      "[CV] ...... max_depth=10, n_estimators=900, score=0.769, total=  10.1s\n",
      "[CV] max_depth=10, n_estimators=900 ..................................\n",
      "[CV] ...... max_depth=10, n_estimators=900, score=0.765, total=   6.1s\n",
      "[CV] max_depth=10, n_estimators=900 ..................................\n",
      "[CV] ...... max_depth=10, n_estimators=900, score=0.765, total=   6.1s\n",
      "[CV] max_depth=10, n_estimators=900 ..................................\n",
      "[CV] ...... max_depth=10, n_estimators=900, score=0.775, total=   7.5s\n",
      "[CV] max_depth=10, n_estimators=1000 .................................\n",
      "[CV] ...... max_depth=10, n_estimators=900, score=0.775, total=   7.5s\n",
      "[CV] max_depth=10, n_estimators=1000 .................................\n",
      "[CV] ..... max_depth=10, n_estimators=1000, score=0.769, total=   6.7s\n",
      "[CV] max_depth=10, n_estimators=1000 .................................\n",
      "[CV] ..... max_depth=10, n_estimators=1000, score=0.769, total=   6.7s\n",
      "[CV] max_depth=10, n_estimators=1000 .................................\n",
      "[CV] ..... max_depth=10, n_estimators=1000, score=0.765, total=   7.4s\n",
      "[CV] max_depth=10, n_estimators=1000 .................................\n",
      "[CV] ..... max_depth=10, n_estimators=1000, score=0.765, total=   7.4s\n",
      "[CV] max_depth=10, n_estimators=1000 .................................\n"
     ]
    },
    {
     "name": "stdout",
     "output_type": "stream",
     "text": [
      "[CV] ..... max_depth=10, n_estimators=1000, score=0.778, total=   6.7s\n",
      "[CV] max_depth=15, n_estimators=100 ..................................\n",
      "[CV] ..... max_depth=10, n_estimators=1000, score=0.778, total=   6.7s\n",
      "[CV] max_depth=15, n_estimators=100 ..................................\n",
      "[CV] ...... max_depth=15, n_estimators=100, score=0.778, total=   1.1s\n",
      "[CV] max_depth=15, n_estimators=100 ..................................\n",
      "[CV] ...... max_depth=15, n_estimators=100, score=0.778, total=   1.1s\n",
      "[CV] max_depth=15, n_estimators=100 ..................................\n",
      "[CV] ...... max_depth=15, n_estimators=100, score=0.769, total=   1.3s\n",
      "[CV] max_depth=15, n_estimators=100 ..................................\n",
      "[CV] ...... max_depth=15, n_estimators=100, score=0.769, total=   1.3s\n",
      "[CV] max_depth=15, n_estimators=100 ..................................\n",
      "[CV] ...... max_depth=15, n_estimators=100, score=0.786, total=   0.8s\n",
      "[CV] max_depth=15, n_estimators=200 ..................................\n",
      "[CV] ...... max_depth=15, n_estimators=100, score=0.786, total=   0.8s\n",
      "[CV] max_depth=15, n_estimators=200 ..................................\n",
      "[CV] ...... max_depth=15, n_estimators=200, score=0.782, total=   1.6s\n",
      "[CV] max_depth=15, n_estimators=200 ..................................\n",
      "[CV] ...... max_depth=15, n_estimators=200, score=0.782, total=   1.6s\n",
      "[CV] max_depth=15, n_estimators=200 ..................................\n",
      "[CV] ...... max_depth=15, n_estimators=200, score=0.773, total=   1.8s\n",
      "[CV] max_depth=15, n_estimators=200 ..................................\n",
      "[CV] ...... max_depth=15, n_estimators=200, score=0.773, total=   1.8s\n",
      "[CV] max_depth=15, n_estimators=200 ..................................\n",
      "[CV] ...... max_depth=15, n_estimators=200, score=0.788, total=   1.6s\n",
      "[CV] max_depth=15, n_estimators=300 ..................................\n",
      "[CV] ...... max_depth=15, n_estimators=200, score=0.788, total=   1.6s\n",
      "[CV] max_depth=15, n_estimators=300 ..................................\n",
      "[CV] ...... max_depth=15, n_estimators=300, score=0.776, total=   2.5s\n",
      "[CV] max_depth=15, n_estimators=300 ..................................\n",
      "[CV] ...... max_depth=15, n_estimators=300, score=0.776, total=   2.5s\n",
      "[CV] max_depth=15, n_estimators=300 ..................................\n",
      "[CV] ...... max_depth=15, n_estimators=300, score=0.774, total=   3.0s\n",
      "[CV] max_depth=15, n_estimators=300 ..................................\n",
      "[CV] ...... max_depth=15, n_estimators=300, score=0.774, total=   3.0s\n",
      "[CV] max_depth=15, n_estimators=300 ..................................\n",
      "[CV] ...... max_depth=15, n_estimators=300, score=0.785, total=   3.2s\n",
      "[CV] max_depth=15, n_estimators=400 ..................................\n",
      "[CV] ...... max_depth=15, n_estimators=300, score=0.785, total=   3.2s\n",
      "[CV] max_depth=15, n_estimators=400 ..................................\n",
      "[CV] ...... max_depth=15, n_estimators=400, score=0.782, total=   3.2s\n",
      "[CV] max_depth=15, n_estimators=400 ..................................\n",
      "[CV] ...... max_depth=15, n_estimators=400, score=0.782, total=   3.2s\n",
      "[CV] max_depth=15, n_estimators=400 ..................................\n",
      "[CV] ...... max_depth=15, n_estimators=400, score=0.778, total=   3.7s\n",
      "[CV] max_depth=15, n_estimators=400 ..................................\n",
      "[CV] ...... max_depth=15, n_estimators=400, score=0.778, total=   3.7s\n",
      "[CV] max_depth=15, n_estimators=400 ..................................\n",
      "[CV] ...... max_depth=15, n_estimators=400, score=0.784, total=   3.4s\n",
      "[CV] max_depth=15, n_estimators=500 ..................................\n",
      "[CV] ...... max_depth=15, n_estimators=400, score=0.784, total=   3.4s\n",
      "[CV] max_depth=15, n_estimators=500 ..................................\n",
      "[CV] ...... max_depth=15, n_estimators=500, score=0.780, total=   4.0s\n",
      "[CV] max_depth=15, n_estimators=500 ..................................\n",
      "[CV] ...... max_depth=15, n_estimators=500, score=0.780, total=   4.0s\n",
      "[CV] max_depth=15, n_estimators=500 ..................................\n",
      "[CV] ...... max_depth=15, n_estimators=500, score=0.772, total=   4.2s\n",
      "[CV] max_depth=15, n_estimators=500 ..................................\n",
      "[CV] ...... max_depth=15, n_estimators=500, score=0.772, total=   4.2s\n",
      "[CV] max_depth=15, n_estimators=500 ..................................\n",
      "[CV] ...... max_depth=15, n_estimators=500, score=0.790, total=   4.0s\n",
      "[CV] max_depth=15, n_estimators=600 ..................................\n",
      "[CV] ...... max_depth=15, n_estimators=500, score=0.790, total=   4.0s\n",
      "[CV] max_depth=15, n_estimators=600 ..................................\n",
      "[CV] ...... max_depth=15, n_estimators=600, score=0.780, total=   4.8s\n",
      "[CV] max_depth=15, n_estimators=600 ..................................\n",
      "[CV] ...... max_depth=15, n_estimators=600, score=0.780, total=   4.8s\n",
      "[CV] max_depth=15, n_estimators=600 ..................................\n",
      "[CV] ...... max_depth=15, n_estimators=600, score=0.776, total=   5.4s\n",
      "[CV] max_depth=15, n_estimators=600 ..................................\n",
      "[CV] ...... max_depth=15, n_estimators=600, score=0.776, total=   5.4s\n",
      "[CV] max_depth=15, n_estimators=600 ..................................\n",
      "[CV] ...... max_depth=15, n_estimators=600, score=0.784, total=   5.1s\n",
      "[CV] max_depth=15, n_estimators=700 ..................................\n",
      "[CV] ...... max_depth=15, n_estimators=600, score=0.784, total=   5.1s\n",
      "[CV] max_depth=15, n_estimators=700 ..................................\n",
      "[CV] ...... max_depth=15, n_estimators=700, score=0.780, total=   5.8s\n",
      "[CV] max_depth=15, n_estimators=700 ..................................\n",
      "[CV] ...... max_depth=15, n_estimators=700, score=0.780, total=   5.8s\n",
      "[CV] max_depth=15, n_estimators=700 ..................................\n",
      "[CV] ...... max_depth=15, n_estimators=700, score=0.776, total=   6.0s\n",
      "[CV] max_depth=15, n_estimators=700 ..................................\n",
      "[CV] ...... max_depth=15, n_estimators=700, score=0.776, total=   6.0s\n",
      "[CV] max_depth=15, n_estimators=700 ..................................\n",
      "[CV] ...... max_depth=15, n_estimators=700, score=0.786, total=   5.7s\n",
      "[CV] max_depth=15, n_estimators=800 ..................................\n",
      "[CV] ...... max_depth=15, n_estimators=700, score=0.786, total=   5.7s\n",
      "[CV] max_depth=15, n_estimators=800 ..................................\n",
      "[CV] ...... max_depth=15, n_estimators=800, score=0.778, total=   7.0s\n",
      "[CV] max_depth=15, n_estimators=800 ..................................\n",
      "[CV] ...... max_depth=15, n_estimators=800, score=0.778, total=   7.0s\n",
      "[CV] max_depth=15, n_estimators=800 ..................................\n",
      "[CV] ...... max_depth=15, n_estimators=800, score=0.780, total=   6.6s\n",
      "[CV] max_depth=15, n_estimators=800 ..................................\n",
      "[CV] ...... max_depth=15, n_estimators=800, score=0.780, total=   6.6s\n",
      "[CV] max_depth=15, n_estimators=800 ..................................\n",
      "[CV] ...... max_depth=15, n_estimators=800, score=0.787, total=   6.7s\n",
      "[CV] max_depth=15, n_estimators=900 ..................................\n",
      "[CV] ...... max_depth=15, n_estimators=800, score=0.787, total=   6.7s\n",
      "[CV] max_depth=15, n_estimators=900 ..................................\n",
      "[CV] ...... max_depth=15, n_estimators=900, score=0.776, total=   7.9s\n",
      "[CV] max_depth=15, n_estimators=900 ..................................\n",
      "[CV] ...... max_depth=15, n_estimators=900, score=0.776, total=   7.9s\n",
      "[CV] max_depth=15, n_estimators=900 ..................................\n",
      "[CV] ...... max_depth=15, n_estimators=900, score=0.774, total=   7.7s\n",
      "[CV] max_depth=15, n_estimators=900 ..................................\n",
      "[CV] ...... max_depth=15, n_estimators=900, score=0.774, total=   7.7s\n",
      "[CV] max_depth=15, n_estimators=900 ..................................\n",
      "[CV] ...... max_depth=15, n_estimators=900, score=0.791, total=   7.7s\n",
      "[CV] max_depth=15, n_estimators=1000 .................................\n",
      "[CV] ...... max_depth=15, n_estimators=900, score=0.791, total=   7.7s\n",
      "[CV] max_depth=15, n_estimators=1000 .................................\n",
      "[CV] ..... max_depth=15, n_estimators=1000, score=0.778, total=   8.3s\n",
      "[CV] max_depth=15, n_estimators=1000 .................................\n",
      "[CV] ..... max_depth=15, n_estimators=1000, score=0.778, total=   8.3s\n",
      "[CV] max_depth=15, n_estimators=1000 .................................\n"
     ]
    },
    {
     "name": "stdout",
     "output_type": "stream",
     "text": [
      "[CV] ..... max_depth=15, n_estimators=1000, score=0.776, total=   8.5s\n",
      "[CV] max_depth=15, n_estimators=1000 .................................\n",
      "[CV] ..... max_depth=15, n_estimators=1000, score=0.776, total=   8.5s\n",
      "[CV] max_depth=15, n_estimators=1000 .................................\n",
      "[CV] ..... max_depth=15, n_estimators=1000, score=0.789, total=   9.2s\n",
      "[CV] max_depth=20, n_estimators=100 ..................................\n",
      "[CV] ..... max_depth=15, n_estimators=1000, score=0.789, total=   9.2s\n",
      "[CV] max_depth=20, n_estimators=100 ..................................\n",
      "[CV] ...... max_depth=20, n_estimators=100, score=0.774, total=   0.9s\n",
      "[CV] max_depth=20, n_estimators=100 ..................................\n",
      "[CV] ...... max_depth=20, n_estimators=100, score=0.774, total=   0.9s\n",
      "[CV] max_depth=20, n_estimators=100 ..................................\n",
      "[CV] ...... max_depth=20, n_estimators=100, score=0.769, total=   1.0s\n",
      "[CV] max_depth=20, n_estimators=100 ..................................\n",
      "[CV] ...... max_depth=20, n_estimators=100, score=0.769, total=   1.0s\n",
      "[CV] max_depth=20, n_estimators=100 ..................................\n",
      "[CV] ...... max_depth=20, n_estimators=100, score=0.786, total=   0.9s\n",
      "[CV] max_depth=20, n_estimators=200 ..................................\n",
      "[CV] ...... max_depth=20, n_estimators=100, score=0.786, total=   0.9s\n",
      "[CV] max_depth=20, n_estimators=200 ..................................\n",
      "[CV] ...... max_depth=20, n_estimators=200, score=0.776, total=   1.8s\n",
      "[CV] max_depth=20, n_estimators=200 ..................................\n",
      "[CV] ...... max_depth=20, n_estimators=200, score=0.776, total=   1.8s\n",
      "[CV] max_depth=20, n_estimators=200 ..................................\n",
      "[CV] ...... max_depth=20, n_estimators=200, score=0.777, total=   1.7s\n",
      "[CV] max_depth=20, n_estimators=200 ..................................\n",
      "[CV] ...... max_depth=20, n_estimators=200, score=0.777, total=   1.7s\n",
      "[CV] max_depth=20, n_estimators=200 ..................................\n",
      "[CV] ...... max_depth=20, n_estimators=200, score=0.788, total=   1.7s\n",
      "[CV] max_depth=20, n_estimators=300 ..................................\n",
      "[CV] ...... max_depth=20, n_estimators=200, score=0.788, total=   1.7s\n",
      "[CV] max_depth=20, n_estimators=300 ..................................\n",
      "[CV] ...... max_depth=20, n_estimators=300, score=0.778, total=   2.6s\n",
      "[CV] max_depth=20, n_estimators=300 ..................................\n",
      "[CV] ...... max_depth=20, n_estimators=300, score=0.778, total=   2.6s\n",
      "[CV] max_depth=20, n_estimators=300 ..................................\n",
      "[CV] ...... max_depth=20, n_estimators=300, score=0.776, total=   2.6s\n",
      "[CV] max_depth=20, n_estimators=300 ..................................\n",
      "[CV] ...... max_depth=20, n_estimators=300, score=0.776, total=   2.6s\n",
      "[CV] max_depth=20, n_estimators=300 ..................................\n",
      "[CV] ...... max_depth=20, n_estimators=300, score=0.787, total=   2.5s\n",
      "[CV] max_depth=20, n_estimators=400 ..................................\n",
      "[CV] ...... max_depth=20, n_estimators=300, score=0.787, total=   2.5s\n",
      "[CV] max_depth=20, n_estimators=400 ..................................\n",
      "[CV] ...... max_depth=20, n_estimators=400, score=0.776, total=   3.5s\n",
      "[CV] max_depth=20, n_estimators=400 ..................................\n",
      "[CV] ...... max_depth=20, n_estimators=400, score=0.776, total=   3.5s\n",
      "[CV] max_depth=20, n_estimators=400 ..................................\n",
      "[CV] ...... max_depth=20, n_estimators=400, score=0.775, total=   3.3s\n",
      "[CV] max_depth=20, n_estimators=400 ..................................\n",
      "[CV] ...... max_depth=20, n_estimators=400, score=0.775, total=   3.3s\n",
      "[CV] max_depth=20, n_estimators=400 ..................................\n",
      "[CV] ...... max_depth=20, n_estimators=400, score=0.786, total=   3.4s\n",
      "[CV] max_depth=20, n_estimators=500 ..................................\n",
      "[CV] ...... max_depth=20, n_estimators=400, score=0.786, total=   3.4s\n",
      "[CV] max_depth=20, n_estimators=500 ..................................\n",
      "[CV] ...... max_depth=20, n_estimators=500, score=0.772, total=   4.1s\n",
      "[CV] max_depth=20, n_estimators=500 ..................................\n",
      "[CV] ...... max_depth=20, n_estimators=500, score=0.772, total=   4.1s\n",
      "[CV] max_depth=20, n_estimators=500 ..................................\n",
      "[CV] ...... max_depth=20, n_estimators=500, score=0.778, total=   4.0s\n",
      "[CV] max_depth=20, n_estimators=500 ..................................\n",
      "[CV] ...... max_depth=20, n_estimators=500, score=0.778, total=   4.0s\n",
      "[CV] max_depth=20, n_estimators=500 ..................................\n",
      "[CV] ...... max_depth=20, n_estimators=500, score=0.782, total=   4.2s\n",
      "[CV] max_depth=20, n_estimators=600 ..................................\n",
      "[CV] ...... max_depth=20, n_estimators=500, score=0.782, total=   4.2s\n",
      "[CV] max_depth=20, n_estimators=600 ..................................\n",
      "[CV] ...... max_depth=20, n_estimators=600, score=0.775, total=   5.6s\n",
      "[CV] max_depth=20, n_estimators=600 ..................................\n",
      "[CV] ...... max_depth=20, n_estimators=600, score=0.775, total=   5.6s\n",
      "[CV] max_depth=20, n_estimators=600 ..................................\n",
      "[CV] ...... max_depth=20, n_estimators=600, score=0.773, total=   5.2s\n",
      "[CV] max_depth=20, n_estimators=600 ..................................\n",
      "[CV] ...... max_depth=20, n_estimators=600, score=0.773, total=   5.2s\n",
      "[CV] max_depth=20, n_estimators=600 ..................................\n",
      "[CV] ...... max_depth=20, n_estimators=600, score=0.787, total=   5.2s\n",
      "[CV] max_depth=20, n_estimators=700 ..................................\n",
      "[CV] ...... max_depth=20, n_estimators=600, score=0.787, total=   5.2s\n",
      "[CV] max_depth=20, n_estimators=700 ..................................\n",
      "[CV] ...... max_depth=20, n_estimators=700, score=0.773, total=   6.0s\n",
      "[CV] max_depth=20, n_estimators=700 ..................................\n",
      "[CV] ...... max_depth=20, n_estimators=700, score=0.773, total=   6.0s\n",
      "[CV] max_depth=20, n_estimators=700 ..................................\n",
      "[CV] ...... max_depth=20, n_estimators=700, score=0.776, total=   6.0s\n",
      "[CV] max_depth=20, n_estimators=700 ..................................\n",
      "[CV] ...... max_depth=20, n_estimators=700, score=0.776, total=   6.0s\n",
      "[CV] max_depth=20, n_estimators=700 ..................................\n",
      "[CV] ...... max_depth=20, n_estimators=700, score=0.786, total=   6.3s\n",
      "[CV] max_depth=20, n_estimators=800 ..................................\n",
      "[CV] ...... max_depth=20, n_estimators=700, score=0.786, total=   6.3s\n",
      "[CV] max_depth=20, n_estimators=800 ..................................\n",
      "[CV] ...... max_depth=20, n_estimators=800, score=0.775, total=   7.3s\n",
      "[CV] max_depth=20, n_estimators=800 ..................................\n",
      "[CV] ...... max_depth=20, n_estimators=800, score=0.775, total=   7.3s\n",
      "[CV] max_depth=20, n_estimators=800 ..................................\n",
      "[CV] ...... max_depth=20, n_estimators=800, score=0.778, total=   7.0s\n",
      "[CV] max_depth=20, n_estimators=800 ..................................\n",
      "[CV] ...... max_depth=20, n_estimators=800, score=0.778, total=   7.0s\n",
      "[CV] max_depth=20, n_estimators=800 ..................................\n",
      "[CV] ...... max_depth=20, n_estimators=800, score=0.784, total=   7.1s\n",
      "[CV] max_depth=20, n_estimators=900 ..................................\n",
      "[CV] ...... max_depth=20, n_estimators=800, score=0.784, total=   7.1s\n",
      "[CV] max_depth=20, n_estimators=900 ..................................\n",
      "[CV] ...... max_depth=20, n_estimators=900, score=0.776, total=   8.4s\n",
      "[CV] max_depth=20, n_estimators=900 ..................................\n",
      "[CV] ...... max_depth=20, n_estimators=900, score=0.776, total=   8.4s\n",
      "[CV] max_depth=20, n_estimators=900 ..................................\n",
      "[CV] ...... max_depth=20, n_estimators=900, score=0.773, total=   7.7s\n",
      "[CV] max_depth=20, n_estimators=900 ..................................\n",
      "[CV] ...... max_depth=20, n_estimators=900, score=0.773, total=   7.7s\n",
      "[CV] max_depth=20, n_estimators=900 ..................................\n",
      "[CV] ...... max_depth=20, n_estimators=900, score=0.786, total=   8.1s\n",
      "[CV] max_depth=20, n_estimators=1000 .................................\n",
      "[CV] ...... max_depth=20, n_estimators=900, score=0.786, total=   8.1s\n",
      "[CV] max_depth=20, n_estimators=1000 .................................\n"
     ]
    },
    {
     "name": "stdout",
     "output_type": "stream",
     "text": [
      "[CV] ..... max_depth=20, n_estimators=1000, score=0.776, total=   8.9s\n",
      "[CV] max_depth=20, n_estimators=1000 .................................\n",
      "[CV] ..... max_depth=20, n_estimators=1000, score=0.776, total=   8.9s\n",
      "[CV] max_depth=20, n_estimators=1000 .................................\n",
      "[CV] ..... max_depth=20, n_estimators=1000, score=0.776, total=   8.5s\n",
      "[CV] max_depth=20, n_estimators=1000 .................................\n",
      "[CV] ..... max_depth=20, n_estimators=1000, score=0.776, total=   8.5s\n",
      "[CV] max_depth=20, n_estimators=1000 .................................\n",
      "[CV] ..... max_depth=20, n_estimators=1000, score=0.788, total=   8.7s\n"
     ]
    },
    {
     "name": "stderr",
     "output_type": "stream",
     "text": [
      "[Parallel(n_jobs=1)]: Done 150 out of 150 | elapsed:  8.7min finished\n"
     ]
    },
    {
     "name": "stdout",
     "output_type": "stream",
     "text": [
      "[CV] ..... max_depth=20, n_estimators=1000, score=0.788, total=   8.7s\n"
     ]
    },
    {
     "name": "stderr",
     "output_type": "stream",
     "text": [
      "[Parallel(n_jobs=1)]: Done 150 out of 150 | elapsed:  8.7min finished\n"
     ]
    },
    {
     "data": {
      "text/plain": [
       "GridSearchCV(cv='warn', error_score='raise-deprecating',\n",
       "             estimator=RandomForestClassifier(bootstrap=True, class_weight=None,\n",
       "                                              criterion='gini', max_depth=None,\n",
       "                                              max_features='auto',\n",
       "                                              max_leaf_nodes=None,\n",
       "                                              min_impurity_decrease=0.0,\n",
       "                                              min_impurity_split=None,\n",
       "                                              min_samples_leaf=1,\n",
       "                                              min_samples_split=2,\n",
       "                                              min_weight_fraction_leaf=0.0,\n",
       "                                              n_estimators=200, n_jobs=None,\n",
       "                                              oob_score=False,\n",
       "                                              random_state=None, verbose=0,\n",
       "                                              warm_start=False),\n",
       "             iid='warn', n_jobs=None,\n",
       "             param_grid={'max_depth': [1, 5, 10, 15, 20],\n",
       "                         'n_estimators': [100, 200, 300, 400, 500, 600, 700,\n",
       "                                          800, 900, 1000]},\n",
       "             pre_dispatch='2*n_jobs', refit=True, return_train_score=False,\n",
       "             scoring=None, verbose=3)"
      ]
     },
     "execution_count": 26,
     "metadata": {},
     "output_type": "execute_result"
    },
    {
     "data": {
      "text/plain": [
       "GridSearchCV(cv='warn', error_score='raise-deprecating',\n",
       "             estimator=RandomForestClassifier(bootstrap=True, class_weight=None,\n",
       "                                              criterion='gini', max_depth=None,\n",
       "                                              max_features='auto',\n",
       "                                              max_leaf_nodes=None,\n",
       "                                              min_impurity_decrease=0.0,\n",
       "                                              min_impurity_split=None,\n",
       "                                              min_samples_leaf=1,\n",
       "                                              min_samples_split=2,\n",
       "                                              min_weight_fraction_leaf=0.0,\n",
       "                                              n_estimators=200, n_jobs=None,\n",
       "                                              oob_score=False,\n",
       "                                              random_state=None, verbose=0,\n",
       "                                              warm_start=False),\n",
       "             iid='warn', n_jobs=None,\n",
       "             param_grid={'max_depth': [1, 5, 10, 15, 20],\n",
       "                         'n_estimators': [100, 200, 300, 400, 500, 600, 700,\n",
       "                                          800, 900, 1000]},\n",
       "             pre_dispatch='2*n_jobs', refit=True, return_train_score=False,\n",
       "             scoring=None, verbose=3)"
      ]
     },
     "execution_count": 26,
     "metadata": {},
     "output_type": "execute_result"
    }
   ],
   "source": [
    "# Fit the model using the grid search estimator. \n",
    "grid.fit(X_train,y_train)"
   ]
  },
  {
   "cell_type": "code",
   "execution_count": 27,
   "metadata": {},
   "outputs": [
    {
     "name": "stdout",
     "output_type": "stream",
     "text": [
      "{'max_depth': 15, 'n_estimators': 400}\n",
      "{'max_depth': 15, 'n_estimators': 400}\n"
     ]
    }
   ],
   "source": [
    "# List the best parameters for this dataset\n",
    "print(grid.best_params_)"
   ]
  },
  {
   "cell_type": "code",
   "execution_count": 28,
   "metadata": {},
   "outputs": [
    {
     "name": "stdout",
     "output_type": "stream",
     "text": [
      "0.7816764132553606\n",
      "0.7816764132553606\n"
     ]
    }
   ],
   "source": [
    "# List the best score\n",
    "print(grid.best_score_)"
   ]
  },
  {
   "cell_type": "code",
   "execution_count": 29,
   "metadata": {},
   "outputs": [],
   "source": [
    "# Create the GridSearchCV model\n",
    "predictions = grid.predict(X_test)\n",
    "predictions_train = grid.predict(X_train)"
   ]
  },
  {
   "cell_type": "code",
   "execution_count": 30,
   "metadata": {},
   "outputs": [
    {
     "name": "stdout",
     "output_type": "stream",
     "text": [
      "              precision    recall  f1-score   support\n",
      "\n",
      "       1000+       0.88      0.87      0.87       333\n",
      "      10000+       0.75      0.72      0.74       341\n",
      "     100000+       0.69      0.78      0.73       369\n",
      "    1000000+       0.79      0.76      0.78       533\n",
      "   10000000+       0.85      0.82      0.83       464\n",
      "  100000000+       0.85      0.87      0.86       153\n",
      " 1000000000+       1.00      0.77      0.87        30\n",
      "\n",
      "    accuracy                           0.80      2223\n",
      "   macro avg       0.83      0.80      0.81      2223\n",
      "weighted avg       0.80      0.80      0.80      2223\n",
      "\n",
      "              precision    recall  f1-score   support\n",
      "\n",
      "       1000+       0.88      0.87      0.87       333\n",
      "      10000+       0.75      0.72      0.74       341\n",
      "     100000+       0.69      0.78      0.73       369\n",
      "    1000000+       0.79      0.76      0.78       533\n",
      "   10000000+       0.85      0.82      0.83       464\n",
      "  100000000+       0.85      0.87      0.86       153\n",
      " 1000000000+       1.00      0.77      0.87        30\n",
      "\n",
      "    accuracy                           0.80      2223\n",
      "   macro avg       0.83      0.80      0.81      2223\n",
      "weighted avg       0.80      0.80      0.80      2223\n",
      "\n"
     ]
    }
   ],
   "source": [
    "# Train the model with GridSearch\n",
    "from sklearn.metrics import classification_report\n",
    "print(classification_report(y_test, predictions))"
   ]
  },
  {
   "cell_type": "code",
   "execution_count": 31,
   "metadata": {},
   "outputs": [
    {
     "data": {
      "text/plain": [
       "[(0.584714686695919, 'Reviews'),\n",
       " (0.1257949029890072, 'Rating'),\n",
       " (0.11933615086521225, 'Size'),\n",
       " (0.07184466113232169, 'Genres'),\n",
       " (0.054997237218317466, 'Category'),\n",
       " (0.02578212136034422, 'Price'),\n",
       " (0.017530239738878236, 'Content Rating')]"
      ]
     },
     "execution_count": 31,
     "metadata": {},
     "output_type": "execute_result"
    },
    {
     "data": {
      "text/plain": [
       "[(0.584714686695919, 'Reviews'),\n",
       " (0.1257949029890072, 'Rating'),\n",
       " (0.11933615086521225, 'Size'),\n",
       " (0.07184466113232169, 'Genres'),\n",
       " (0.054997237218317466, 'Category'),\n",
       " (0.02578212136034422, 'Price'),\n",
       " (0.017530239738878236, 'Content Rating')]"
      ]
     },
     "execution_count": 31,
     "metadata": {},
     "output_type": "execute_result"
    }
   ],
   "source": [
    "sorted(zip(rf.feature_importances_, feature_names), reverse=True)"
   ]
  },
  {
   "cell_type": "markdown",
   "metadata": {},
   "source": [
    "# K Nearest Neighbors Model"
   ]
  },
  {
   "cell_type": "code",
   "execution_count": 33,
   "metadata": {},
   "outputs": [
    {
     "name": "stdout",
     "output_type": "stream",
     "text": [
      "k: 1, Train/Test Score: 1.000/0.637\n",
      "k: 1, Train/Test Score: 1.000/0.637\n",
      "k: 3, Train/Test Score: 0.803/0.616\n",
      "k: 3, Train/Test Score: 0.803/0.616\n",
      "k: 5, Train/Test Score: 0.742/0.601\n",
      "k: 5, Train/Test Score: 0.742/0.601\n",
      "k: 7, Train/Test Score: 0.701/0.583\n",
      "k: 7, Train/Test Score: 0.701/0.583\n",
      "k: 9, Train/Test Score: 0.664/0.562\n",
      "k: 9, Train/Test Score: 0.664/0.562\n",
      "k: 11, Train/Test Score: 0.635/0.536\n",
      "k: 11, Train/Test Score: 0.635/0.536\n",
      "k: 13, Train/Test Score: 0.606/0.518\n",
      "k: 13, Train/Test Score: 0.606/0.518\n",
      "k: 15, Train/Test Score: 0.585/0.506\n",
      "k: 15, Train/Test Score: 0.585/0.506\n",
      "k: 17, Train/Test Score: 0.570/0.498\n",
      "k: 17, Train/Test Score: 0.570/0.498\n",
      "k: 19, Train/Test Score: 0.559/0.497\n",
      "k: 19, Train/Test Score: 0.559/0.497\n"
     ]
    },
    {
     "data": {
      "image/png": "[encoded data removed]",
      "text/plain": [
       "<Figure size 432x288 with 1 Axes>"
      ]
     },
     "metadata": {
      "needs_background": "light"
     },
     "output_type": "display_data"
    },
    {
     "data": {
      "image/png": "[encoded data removed]",
      "text/plain": [
       "<Figure size 432x288 with 1 Axes>"
      ]
     },
     "metadata": {
      "needs_background": "light"
     },
     "output_type": "display_data"
    }
   ],
   "source": [
    "# Loop through different k values to see which has the highest accuracy\n",
    "# Note: We only use odd numbers because we don't want any ties\n",
    "from sklearn.neighbors import KNeighborsClassifier\n",
    "train_scores = []\n",
    "test_scores = []\n",
    "for k in range(1, 20, 2):\n",
    "    knn = KNeighborsClassifier(n_neighbors=k)\n",
    "    knn.fit(X_train, y_train)\n",
    "    train_score = knn.score(X_train, y_train)\n",
    "    test_score = knn.score(X_test, y_test)\n",
    "    train_scores.append(train_score)\n",
    "    test_scores.append(test_score)\n",
    "    print(f\"k: {k}, Train/Test Score: {train_score:.3f}/{test_score:.3f}\")\n",
    "    \n",
    "    \n",
    "plt.plot(range(1, 20, 2), train_scores, marker='o')\n",
    "plt.plot(range(1, 20, 2), test_scores, marker=\"x\")\n",
    "plt.xlabel(\"k neighbors\")\n",
    "plt.ylabel(\"Testing accuracy Score\")\n",
    "plt.grid()\n",
    "plt.show()"
   ]
  },
  {
   "cell_type": "code",
   "execution_count": 34,
   "metadata": {},
   "outputs": [
    {
     "name": "stdout",
     "output_type": "stream",
     "text": [
      "k=5 Test Acc: 0.601\n",
      "k=5 Test Acc: 0.601\n"
     ]
    }
   ],
   "source": [
    "# Note that k: 13 seems to be the best choice for this dataset\n",
    "knn = KNeighborsClassifier(n_neighbors=5)\n",
    "knn.fit(X_train, y_train)\n",
    "print('k=5 Test Acc: %.3f' % knn.score(X_test, y_test))"
   ]
  },
  {
   "cell_type": "markdown",
   "metadata": {},
   "source": [
    "# XGBoost Model"
   ]
  },
  {
   "cell_type": "code",
   "execution_count": 35,
   "metadata": {},
   "outputs": [],
   "source": [
    "from xgboost import XGBClassifier\n",
    "from sklearn.metrics import accuracy_score"
   ]
  },
  {
   "cell_type": "code",
   "execution_count": 36,
   "metadata": {},
   "outputs": [
    {
     "data": {
      "text/plain": [
       "XGBClassifier(base_score=0.5, booster='gbtree', colsample_bylevel=1,\n",
       "              colsample_bynode=1, colsample_bytree=1, gamma=0,\n",
       "              learning_rate=0.1, max_delta_step=0, max_depth=3,\n",
       "              min_child_weight=1, missing=None, n_estimators=100, n_jobs=1,\n",
       "              nthread=None, objective='multi:softprob', random_state=0,\n",
       "              reg_alpha=0, reg_lambda=1, scale_pos_weight=1, seed=None,\n",
       "              silent=None, subsample=1, verbosity=1)"
      ]
     },
     "execution_count": 36,
     "metadata": {},
     "output_type": "execute_result"
    },
    {
     "data": {
      "text/plain": [
       "XGBClassifier(base_score=0.5, booster='gbtree', colsample_bylevel=1,\n",
       "              colsample_bynode=1, colsample_bytree=1, gamma=0,\n",
       "              learning_rate=0.1, max_delta_step=0, max_depth=3,\n",
       "              min_child_weight=1, missing=None, n_estimators=100, n_jobs=1,\n",
       "              nthread=None, objective='multi:softprob', random_state=0,\n",
       "              reg_alpha=0, reg_lambda=1, scale_pos_weight=1, seed=None,\n",
       "              silent=None, subsample=1, verbosity=1)"
      ]
     },
     "execution_count": 36,
     "metadata": {},
     "output_type": "execute_result"
    }
   ],
   "source": [
    "# fit model no training data\n",
    "model = XGBClassifier()\n",
    "model.fit(X_train, y_train)"
   ]
  },
  {
   "cell_type": "code",
   "execution_count": 38,
   "metadata": {},
   "outputs": [],
   "source": [
    "# make predictions for test data\n",
    "y_pred = model.predict(X_test)\n"
   ]
  },
  {
   "cell_type": "code",
   "execution_count": 42,
   "metadata": {},
   "outputs": [
    {
     "name": "stdout",
     "output_type": "stream",
     "text": [
      "Accuracy: 77.73%\n",
      "Accuracy: 77.73%\n"
     ]
    }
   ],
   "source": [
    "# evaluate predictions\n",
    "accuracy = accuracy_score(y_test, y_pred)\n",
    "print(\"Accuracy: %.2f%%\" % (accuracy * 100.0))"
   ]
  },
  {
   "cell_type": "code",
   "execution_count": 41,
   "metadata": {},
   "outputs": [
    {
     "data": {
      "text/plain": [
       "0.7773279352226721"
      ]
     },
     "execution_count": 41,
     "metadata": {},
     "output_type": "execute_result"
    },
    {
     "data": {
      "text/plain": [
       "0.7773279352226721"
      ]
     },
     "execution_count": 41,
     "metadata": {},
     "output_type": "execute_result"
    }
   ],
   "source": [
    "model.score(X_test,y_test)"
   ]
  },
  {
   "cell_type": "code",
   "execution_count": 43,
   "metadata": {},
   "outputs": [
    {
     "data": {
      "text/plain": [
       "0.7932223721697406"
      ]
     },
     "execution_count": 43,
     "metadata": {},
     "output_type": "execute_result"
    },
    {
     "data": {
      "text/plain": [
       "0.7932223721697406"
      ]
     },
     "execution_count": 43,
     "metadata": {},
     "output_type": "execute_result"
    }
   ],
   "source": [
    "model.score(X_train,y_train)"
   ]
  },
  {
   "cell_type": "code",
   "execution_count": null,
   "metadata": {},
   "outputs": [],
   "source": []
  }
 ],
 "metadata": {
  "kernelspec": {
   "display_name": "Python 3",
   "language": "python",
   "name": "python3"
  },
  "language_info": {
   "codemirror_mode": {
    "name": "ipython",
    "version": 3
   },
   "file_extension": ".py",
   "mimetype": "text/x-python",
   "name": "python",
   "nbconvert_exporter": "python",
   "pygments_lexer": "ipython3",
   "version": "3.7.3"
  }
 },
 "nbformat": 4,
 "nbformat_minor": 2
}
