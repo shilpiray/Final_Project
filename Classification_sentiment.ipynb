{
 "cells": [
  {
   "cell_type": "code",
   "execution_count": 9,
   "metadata": {},
   "outputs": [],
   "source": [
    "import numpy as np\n",
    "import pandas as pd\n",
    "import matplotlib.pyplot as plt\n",
    "import matplotlib.ticker as ticker\n",
    "\n",
    "# scaling and dataset split\n",
    "from sklearn import preprocessing\n",
    "from sklearn.model_selection import train_test_split\n",
    "# OLS, Ridge\n",
    "from sklearn.linear_model import LinearRegression, Ridge\n",
    "# model evaluation\n",
    "from sklearn.metrics import r2_score, mean_squared_error\n",
    "import seaborn as sns"
   ]
  },
  {
   "cell_type": "markdown",
   "metadata": {},
   "source": [
    "# Read the CSV and Perform Basic Data Cleaning"
   ]
  },
  {
   "cell_type": "code",
   "execution_count": 3,
   "metadata": {},
   "outputs": [],
   "source": [
    "data_to_load = \"data/google_reviews.csv\"\n",
    "data = pd.read_csv(data_to_load)"
   ]
  },
  {
   "cell_type": "code",
   "execution_count": 4,
   "metadata": {},
   "outputs": [
    {
     "data": {
      "text/html": [
       "<div>\n",
       "<style scoped>\n",
       "    .dataframe tbody tr th:only-of-type {\n",
       "        vertical-align: middle;\n",
       "    }\n",
       "\n",
       "    .dataframe tbody tr th {\n",
       "        vertical-align: top;\n",
       "    }\n",
       "\n",
       "    .dataframe thead th {\n",
       "        text-align: right;\n",
       "    }\n",
       "</style>\n",
       "<table border=\"1\" class=\"dataframe\">\n",
       "  <thead>\n",
       "    <tr style=\"text-align: right;\">\n",
       "      <th></th>\n",
       "      <th>App</th>\n",
       "      <th>Category</th>\n",
       "      <th>Rating</th>\n",
       "      <th>Reviews</th>\n",
       "      <th>Size</th>\n",
       "      <th>Installs</th>\n",
       "      <th>Type</th>\n",
       "      <th>Price</th>\n",
       "      <th>Content Rating</th>\n",
       "      <th>Genres</th>\n",
       "      <th>vader</th>\n",
       "    </tr>\n",
       "  </thead>\n",
       "  <tbody>\n",
       "    <tr>\n",
       "      <th>0</th>\n",
       "      <td>Coloring book moana</td>\n",
       "      <td>ART_AND_DESIGN</td>\n",
       "      <td>3.9</td>\n",
       "      <td>967</td>\n",
       "      <td>967000000</td>\n",
       "      <td>500000</td>\n",
       "      <td>Free</td>\n",
       "      <td>0</td>\n",
       "      <td>Everyone</td>\n",
       "      <td>Art &amp; Design;Pretend Play</td>\n",
       "      <td>0.152652</td>\n",
       "    </tr>\n",
       "    <tr>\n",
       "      <th>1</th>\n",
       "      <td>Garden Coloring Book</td>\n",
       "      <td>ART_AND_DESIGN</td>\n",
       "      <td>4.4</td>\n",
       "      <td>13791</td>\n",
       "      <td>13791000000</td>\n",
       "      <td>1000000</td>\n",
       "      <td>Free</td>\n",
       "      <td>0</td>\n",
       "      <td>Everyone</td>\n",
       "      <td>Art &amp; Design</td>\n",
       "      <td>0.268483</td>\n",
       "    </tr>\n",
       "    <tr>\n",
       "      <th>2</th>\n",
       "      <td>FlipaClip - Cartoon animation</td>\n",
       "      <td>ART_AND_DESIGN</td>\n",
       "      <td>4.3</td>\n",
       "      <td>194216</td>\n",
       "      <td>194216000000</td>\n",
       "      <td>5000000</td>\n",
       "      <td>Free</td>\n",
       "      <td>0</td>\n",
       "      <td>Everyone</td>\n",
       "      <td>Art &amp; Design</td>\n",
       "      <td>0.412649</td>\n",
       "    </tr>\n",
       "    <tr>\n",
       "      <th>3</th>\n",
       "      <td>Boys Photo Editor - Six Pack &amp; Men's Suit</td>\n",
       "      <td>ART_AND_DESIGN</td>\n",
       "      <td>4.1</td>\n",
       "      <td>654</td>\n",
       "      <td>654000000</td>\n",
       "      <td>100000</td>\n",
       "      <td>Free</td>\n",
       "      <td>0</td>\n",
       "      <td>Everyone</td>\n",
       "      <td>Art &amp; Design</td>\n",
       "      <td>0.283509</td>\n",
       "    </tr>\n",
       "    <tr>\n",
       "      <th>4</th>\n",
       "      <td>Colorfit - Drawing &amp; Coloring</td>\n",
       "      <td>ART_AND_DESIGN</td>\n",
       "      <td>4.7</td>\n",
       "      <td>20260</td>\n",
       "      <td>20260000000</td>\n",
       "      <td>500000</td>\n",
       "      <td>Free</td>\n",
       "      <td>0</td>\n",
       "      <td>Everyone</td>\n",
       "      <td>Art &amp; Design;Creativity</td>\n",
       "      <td>0.171836</td>\n",
       "    </tr>\n",
       "  </tbody>\n",
       "</table>\n",
       "</div>"
      ],
      "text/plain": [
       "                                         App        Category  Rating  Reviews  \\\n",
       "0                        Coloring book moana  ART_AND_DESIGN     3.9      967   \n",
       "1                       Garden Coloring Book  ART_AND_DESIGN     4.4    13791   \n",
       "2              FlipaClip - Cartoon animation  ART_AND_DESIGN     4.3   194216   \n",
       "3  Boys Photo Editor - Six Pack & Men's Suit  ART_AND_DESIGN     4.1      654   \n",
       "4              Colorfit - Drawing & Coloring  ART_AND_DESIGN     4.7    20260   \n",
       "\n",
       "           Size  Installs  Type  Price Content Rating  \\\n",
       "0     967000000    500000  Free      0       Everyone   \n",
       "1   13791000000   1000000  Free      0       Everyone   \n",
       "2  194216000000   5000000  Free      0       Everyone   \n",
       "3     654000000    100000  Free      0       Everyone   \n",
       "4   20260000000    500000  Free      0       Everyone   \n",
       "\n",
       "                      Genres     vader  \n",
       "0  Art & Design;Pretend Play  0.152652  \n",
       "1               Art & Design  0.268483  \n",
       "2               Art & Design  0.412649  \n",
       "3               Art & Design  0.283509  \n",
       "4    Art & Design;Creativity  0.171836  "
      ]
     },
     "execution_count": 4,
     "metadata": {},
     "output_type": "execute_result"
    }
   ],
   "source": [
    "data.head()"
   ]
  },
  {
   "cell_type": "code",
   "execution_count": 5,
   "metadata": {},
   "outputs": [],
   "source": [
    "from sklearn import preprocessing\n",
    "popAppsCopy = data.copy()\n",
    "\n",
    "label_encoder = preprocessing.LabelEncoder() \n",
    "\n",
    "# Encode labels in column 'Category'. \n",
    "popAppsCopy['Category']= label_encoder.fit_transform(popAppsCopy['Category']) \n",
    "popAppsCopy['Content Rating']= label_encoder.fit_transform(popAppsCopy['Content Rating']) \n",
    "popAppsCopy['Genres']= label_encoder.fit_transform(popAppsCopy['Genres'])\n",
    "popAppsCopy['Type']= label_encoder.fit_transform(popAppsCopy['Type']) "
   ]
  },
  {
   "cell_type": "code",
   "execution_count": 6,
   "metadata": {},
   "outputs": [
    {
     "name": "stdout",
     "output_type": "stream",
     "text": [
      "(816, 8) (816,)\n"
     ]
    }
   ],
   "source": [
    "y = popAppsCopy[\"Installs\"]\n",
    "popAppsCopy_1 = popAppsCopy.drop(labels = ['App','Installs','Genres'],axis=1)\n",
    "X = popAppsCopy_1\n",
    "y = y.replace({1:'1000+',5: '1000+', 10: '1000+',50:'1000+',100:'1000+',500:'1000+',\n",
    "               1000: '1000+',5000:'10000+',10000: '10000+', 50000:'100000+',100000:'100000+',\n",
    "               500000:'1000000+', 1000000:'1000000+',5000000:'10000000+',10000000:'10000000+',\n",
    "               50000000:'100000000+',100000000:'100000000+', 500000000:'1000000000+', \n",
    "               1000000000:'1000000000+' })\n",
    "print(X.shape, y.shape)"
   ]
  },
  {
   "cell_type": "code",
   "execution_count": 12,
   "metadata": {
    "scrolled": true
   },
   "outputs": [
    {
     "name": "stderr",
     "output_type": "stream",
     "text": [
      "C:\\Users\\User\\Anaconda3\\lib\\site-packages\\seaborn\\axisgrid.py:1847: UserWarning: JointGrid annotation is deprecated and will be removed in a future release.\n",
      "  warnings.warn(UserWarning(msg))\n"
     ]
    },
    {
     "name": "stdout",
     "output_type": "stream",
     "text": [
      "0.011776775001657263\n"
     ]
    },
    {
     "data": {
      "text/plain": [
       "<Figure size 1152x432 with 0 Axes>"
      ]
     },
     "metadata": {},
     "output_type": "display_data"
    },
    {
     "data": {
      "image/png": "[encoded data removed]",
      "text/plain": [
       "<Figure size 576x576 with 3 Axes>"
      ]
     },
     "metadata": {
      "needs_background": "light"
     },
     "output_type": "display_data"
    }
   ],
   "source": [
    "x = popAppsCopy[\"vader\"]\n",
    "y = popAppsCopy[\"Installs\"]\n",
    "\n",
    "from scipy import stats\n",
    "\n",
    "def r2(x, y):\n",
    "    return stats.pearsonr(x, y)[0] ** 2\n",
    "\n",
    "plt.figure(figsize=(16, 6))\n",
    "sns.jointplot(x, y, kind=\"reg\", color=\"g\",height=8,stat_func=r2)\n",
    "\n",
    "print(r2(x,y))\n",
    "plt.grid()\n",
    "plt.savefig('Cor_vader.png')"
   ]
  },
  {
   "cell_type": "code",
   "execution_count": 11,
   "metadata": {},
   "outputs": [
    {
     "name": "stderr",
     "output_type": "stream",
     "text": [
      "C:\\Users\\User\\Anaconda3\\lib\\site-packages\\seaborn\\axisgrid.py:1847: UserWarning: JointGrid annotation is deprecated and will be removed in a future release.\n",
      "  warnings.warn(UserWarning(msg))\n"
     ]
    },
    {
     "name": "stdout",
     "output_type": "stream",
     "text": [
      "0.21767147043200016\n"
     ]
    },
    {
     "data": {
      "text/plain": [
       "<Figure size 1152x432 with 0 Axes>"
      ]
     },
     "metadata": {},
     "output_type": "display_data"
    },
    {
     "data": {
      "image/png": "[encoded data removed]",
      "text/plain": [
       "<Figure size 576x576 with 3 Axes>"
      ]
     },
     "metadata": {
      "needs_background": "light"
     },
     "output_type": "display_data"
    }
   ],
   "source": [
    "x = popAppsCopy[\"Reviews\"]\n",
    "y = popAppsCopy[\"Installs\"]\n",
    "\n",
    "from scipy import stats\n",
    "\n",
    "def r2(x, y):\n",
    "    return stats.pearsonr(x, y)[0] ** 2\n",
    "\n",
    "plt.figure(figsize=(16, 6))\n",
    "sns.jointplot(x, y, kind=\"reg\", color=\"g\",height=8,stat_func=r2)\n",
    "\n",
    "print(r2(x,y))\n",
    "plt.grid()\n",
    "plt.savefig('Cor_rev_sen.png')"
   ]
  },
  {
   "cell_type": "code",
   "execution_count": 13,
   "metadata": {},
   "outputs": [
    {
     "name": "stderr",
     "output_type": "stream",
     "text": [
      "C:\\Users\\User\\Anaconda3\\lib\\site-packages\\seaborn\\axisgrid.py:1847: UserWarning: JointGrid annotation is deprecated and will be removed in a future release.\n",
      "  warnings.warn(UserWarning(msg))\n"
     ]
    },
    {
     "name": "stdout",
     "output_type": "stream",
     "text": [
      "0.018253617342367714\n"
     ]
    },
    {
     "data": {
      "text/plain": [
       "<Figure size 1152x432 with 0 Axes>"
      ]
     },
     "metadata": {},
     "output_type": "display_data"
    },
    {
     "data": {
      "image/png": "[encoded data removed]",
      "text/plain": [
       "<Figure size 576x576 with 3 Axes>"
      ]
     },
     "metadata": {
      "needs_background": "light"
     },
     "output_type": "display_data"
    }
   ],
   "source": [
    "x = popAppsCopy[\"Size\"]\n",
    "y = popAppsCopy[\"Installs\"]\n",
    "\n",
    "from scipy import stats\n",
    "\n",
    "def r2(x, y):\n",
    "    return stats.pearsonr(x, y)[0] ** 2\n",
    "\n",
    "plt.figure(figsize=(16, 6))\n",
    "sns.jointplot(x, y, kind=\"reg\", color=\"g\",height=8,stat_func=r2)\n",
    "\n",
    "print(r2(x,y))\n",
    "plt.grid()\n",
    "plt.savefig('Cor_size_sen.png')"
   ]
  },
  {
   "cell_type": "code",
   "execution_count": 14,
   "metadata": {},
   "outputs": [
    {
     "name": "stderr",
     "output_type": "stream",
     "text": [
      "C:\\Users\\User\\Anaconda3\\lib\\site-packages\\seaborn\\axisgrid.py:1847: UserWarning: JointGrid annotation is deprecated and will be removed in a future release.\n",
      "  warnings.warn(UserWarning(msg))\n"
     ]
    },
    {
     "name": "stdout",
     "output_type": "stream",
     "text": [
      "0.0007191464925202544\n"
     ]
    },
    {
     "data": {
      "text/plain": [
       "<Figure size 1152x432 with 0 Axes>"
      ]
     },
     "metadata": {},
     "output_type": "display_data"
    },
    {
     "data": {
      "image/png": "[encoded data removed]",
      "text/plain": [
       "<Figure size 576x576 with 3 Axes>"
      ]
     },
     "metadata": {
      "needs_background": "light"
     },
     "output_type": "display_data"
    }
   ],
   "source": [
    "x = popAppsCopy[\"Rating\"]\n",
    "y = popAppsCopy[\"Installs\"]\n",
    "\n",
    "from scipy import stats\n",
    "\n",
    "def r2(x, y):\n",
    "    return stats.pearsonr(x, y)[0] ** 2\n",
    "\n",
    "plt.figure(figsize=(16, 6))\n",
    "sns.jointplot(x, y, kind=\"reg\", color=\"g\",height=8,stat_func=r2)\n",
    "\n",
    "print(r2(x,y))\n",
    "plt.grid()\n",
    "plt.savefig('Cor_rat_sen.png')"
   ]
  },
  {
   "cell_type": "code",
   "execution_count": 69,
   "metadata": {},
   "outputs": [
    {
     "data": {
      "text/plain": [
       "SpearmanrResult(correlation=-0.2488163837864845, pvalue=5.578082009232365e-13)"
      ]
     },
     "execution_count": 69,
     "metadata": {},
     "output_type": "execute_result"
    }
   ],
   "source": [
    "from scipy import stats\n",
    "stats.spearmanr(data['vader'], data['Installs'])"
   ]
  },
  {
   "cell_type": "code",
   "execution_count": 17,
   "metadata": {},
   "outputs": [
    {
     "data": {
      "text/plain": [
       "SpearmanrResult(correlation=0.1319516827572342, pvalue=0.0001567932228658619)"
      ]
     },
     "execution_count": 17,
     "metadata": {},
     "output_type": "execute_result"
    }
   ],
   "source": [
    "from scipy import stats\n",
    "stats.spearmanr(data['Rating'], data['Installs'])"
   ]
  },
  {
   "cell_type": "code",
   "execution_count": 21,
   "metadata": {},
   "outputs": [
    {
     "data": {
      "text/plain": [
       "SpearmanrResult(correlation=0.15980985331157596, pvalue=4.4837144595887125e-06)"
      ]
     },
     "execution_count": 21,
     "metadata": {},
     "output_type": "execute_result"
    }
   ],
   "source": [
    "from scipy import stats\n",
    "stats.spearmanr(data['Size'], data['Installs'])"
   ]
  },
  {
   "cell_type": "code",
   "execution_count": 20,
   "metadata": {},
   "outputs": [
    {
     "data": {
      "text/plain": [
       "SpearmanrResult(correlation=0.24234073775533188, pvalue=2.2687571481102595e-12)"
      ]
     },
     "execution_count": 20,
     "metadata": {},
     "output_type": "execute_result"
    }
   ],
   "source": [
    "from scipy import stats\n",
    "stats.spearmanr(data['Reviews'], data['Installs'])"
   ]
  },
  {
   "cell_type": "code",
   "execution_count": 8,
   "metadata": {},
   "outputs": [
    {
     "data": {
      "image/png": "[encoded data removed]",
      "text/plain": [
       "<Figure size 864x504 with 2 Axes>"
      ]
     },
     "metadata": {
      "needs_background": "light"
     },
     "output_type": "display_data"
    }
   ],
   "source": [
    "corr = X.apply(lambda x: x.factorize()[0]).corr()\n",
    "plt.figure(figsize=(12,7))\n",
    "sns.heatmap(corr, xticklabels=corr.columns, yticklabels=corr.columns,annot=True)\n",
    "plt.savefig('corr_vader.png')"
   ]
  },
  {
   "cell_type": "code",
   "execution_count": 39,
   "metadata": {},
   "outputs": [
    {
     "data": {
      "text/html": [
       "<div>\n",
       "<style scoped>\n",
       "    .dataframe tbody tr th:only-of-type {\n",
       "        vertical-align: middle;\n",
       "    }\n",
       "\n",
       "    .dataframe tbody tr th {\n",
       "        vertical-align: top;\n",
       "    }\n",
       "\n",
       "    .dataframe thead th {\n",
       "        text-align: right;\n",
       "    }\n",
       "</style>\n",
       "<table border=\"1\" class=\"dataframe\">\n",
       "  <thead>\n",
       "    <tr style=\"text-align: right;\">\n",
       "      <th></th>\n",
       "      <th>Category</th>\n",
       "      <th>Rating</th>\n",
       "      <th>Reviews</th>\n",
       "      <th>Size</th>\n",
       "      <th>Type</th>\n",
       "      <th>Price</th>\n",
       "      <th>Content Rating</th>\n",
       "      <th>vader</th>\n",
       "    </tr>\n",
       "  </thead>\n",
       "  <tbody>\n",
       "    <tr>\n",
       "      <th>0</th>\n",
       "      <td>0</td>\n",
       "      <td>3.9</td>\n",
       "      <td>967</td>\n",
       "      <td>967000000</td>\n",
       "      <td>0</td>\n",
       "      <td>0</td>\n",
       "      <td>1</td>\n",
       "      <td>0.152652</td>\n",
       "    </tr>\n",
       "    <tr>\n",
       "      <th>1</th>\n",
       "      <td>0</td>\n",
       "      <td>4.4</td>\n",
       "      <td>13791</td>\n",
       "      <td>13791000000</td>\n",
       "      <td>0</td>\n",
       "      <td>0</td>\n",
       "      <td>1</td>\n",
       "      <td>0.268483</td>\n",
       "    </tr>\n",
       "    <tr>\n",
       "      <th>2</th>\n",
       "      <td>0</td>\n",
       "      <td>4.3</td>\n",
       "      <td>194216</td>\n",
       "      <td>194216000000</td>\n",
       "      <td>0</td>\n",
       "      <td>0</td>\n",
       "      <td>1</td>\n",
       "      <td>0.412649</td>\n",
       "    </tr>\n",
       "    <tr>\n",
       "      <th>3</th>\n",
       "      <td>0</td>\n",
       "      <td>4.1</td>\n",
       "      <td>654</td>\n",
       "      <td>654000000</td>\n",
       "      <td>0</td>\n",
       "      <td>0</td>\n",
       "      <td>1</td>\n",
       "      <td>0.283509</td>\n",
       "    </tr>\n",
       "    <tr>\n",
       "      <th>4</th>\n",
       "      <td>0</td>\n",
       "      <td>4.7</td>\n",
       "      <td>20260</td>\n",
       "      <td>20260000000</td>\n",
       "      <td>0</td>\n",
       "      <td>0</td>\n",
       "      <td>1</td>\n",
       "      <td>0.171836</td>\n",
       "    </tr>\n",
       "  </tbody>\n",
       "</table>\n",
       "</div>"
      ],
      "text/plain": [
       "   Category  Rating  Reviews          Size  Type  Price  Content Rating  \\\n",
       "0         0     3.9      967     967000000     0      0               1   \n",
       "1         0     4.4    13791   13791000000     0      0               1   \n",
       "2         0     4.3   194216  194216000000     0      0               1   \n",
       "3         0     4.1      654     654000000     0      0               1   \n",
       "4         0     4.7    20260   20260000000     0      0               1   \n",
       "\n",
       "      vader  \n",
       "0  0.152652  \n",
       "1  0.268483  \n",
       "2  0.412649  \n",
       "3  0.283509  \n",
       "4  0.171836  "
      ]
     },
     "execution_count": 39,
     "metadata": {},
     "output_type": "execute_result"
    }
   ],
   "source": [
    "X.head()"
   ]
  },
  {
   "cell_type": "code",
   "execution_count": 40,
   "metadata": {},
   "outputs": [
    {
     "data": {
      "text/html": [
       "<div>\n",
       "<style scoped>\n",
       "    .dataframe tbody tr th:only-of-type {\n",
       "        vertical-align: middle;\n",
       "    }\n",
       "\n",
       "    .dataframe tbody tr th {\n",
       "        vertical-align: top;\n",
       "    }\n",
       "\n",
       "    .dataframe thead th {\n",
       "        text-align: right;\n",
       "    }\n",
       "</style>\n",
       "<table border=\"1\" class=\"dataframe\">\n",
       "  <thead>\n",
       "    <tr style=\"text-align: right;\">\n",
       "      <th></th>\n",
       "      <th>Rating</th>\n",
       "      <th>Reviews</th>\n",
       "      <th>Size</th>\n",
       "      <th>Installs</th>\n",
       "      <th>Type</th>\n",
       "      <th>Price</th>\n",
       "      <th>vader</th>\n",
       "      <th>Category_0</th>\n",
       "      <th>Category_1</th>\n",
       "      <th>Category_2</th>\n",
       "      <th>...</th>\n",
       "      <th>Category_28</th>\n",
       "      <th>Category_29</th>\n",
       "      <th>Category_30</th>\n",
       "      <th>Category_31</th>\n",
       "      <th>Category_32</th>\n",
       "      <th>Content Rating_0</th>\n",
       "      <th>Content Rating_1</th>\n",
       "      <th>Content Rating_2</th>\n",
       "      <th>Content Rating_3</th>\n",
       "      <th>Content Rating_4</th>\n",
       "    </tr>\n",
       "  </thead>\n",
       "  <tbody>\n",
       "    <tr>\n",
       "      <th>0</th>\n",
       "      <td>3.9</td>\n",
       "      <td>967</td>\n",
       "      <td>967000000</td>\n",
       "      <td>500000</td>\n",
       "      <td>0</td>\n",
       "      <td>0</td>\n",
       "      <td>0.152652</td>\n",
       "      <td>1</td>\n",
       "      <td>0</td>\n",
       "      <td>0</td>\n",
       "      <td>...</td>\n",
       "      <td>0</td>\n",
       "      <td>0</td>\n",
       "      <td>0</td>\n",
       "      <td>0</td>\n",
       "      <td>0</td>\n",
       "      <td>0</td>\n",
       "      <td>1</td>\n",
       "      <td>0</td>\n",
       "      <td>0</td>\n",
       "      <td>0</td>\n",
       "    </tr>\n",
       "    <tr>\n",
       "      <th>1</th>\n",
       "      <td>4.4</td>\n",
       "      <td>13791</td>\n",
       "      <td>13791000000</td>\n",
       "      <td>1000000</td>\n",
       "      <td>0</td>\n",
       "      <td>0</td>\n",
       "      <td>0.268483</td>\n",
       "      <td>1</td>\n",
       "      <td>0</td>\n",
       "      <td>0</td>\n",
       "      <td>...</td>\n",
       "      <td>0</td>\n",
       "      <td>0</td>\n",
       "      <td>0</td>\n",
       "      <td>0</td>\n",
       "      <td>0</td>\n",
       "      <td>0</td>\n",
       "      <td>1</td>\n",
       "      <td>0</td>\n",
       "      <td>0</td>\n",
       "      <td>0</td>\n",
       "    </tr>\n",
       "    <tr>\n",
       "      <th>2</th>\n",
       "      <td>4.3</td>\n",
       "      <td>194216</td>\n",
       "      <td>194216000000</td>\n",
       "      <td>5000000</td>\n",
       "      <td>0</td>\n",
       "      <td>0</td>\n",
       "      <td>0.412649</td>\n",
       "      <td>1</td>\n",
       "      <td>0</td>\n",
       "      <td>0</td>\n",
       "      <td>...</td>\n",
       "      <td>0</td>\n",
       "      <td>0</td>\n",
       "      <td>0</td>\n",
       "      <td>0</td>\n",
       "      <td>0</td>\n",
       "      <td>0</td>\n",
       "      <td>1</td>\n",
       "      <td>0</td>\n",
       "      <td>0</td>\n",
       "      <td>0</td>\n",
       "    </tr>\n",
       "    <tr>\n",
       "      <th>3</th>\n",
       "      <td>4.1</td>\n",
       "      <td>654</td>\n",
       "      <td>654000000</td>\n",
       "      <td>100000</td>\n",
       "      <td>0</td>\n",
       "      <td>0</td>\n",
       "      <td>0.283509</td>\n",
       "      <td>1</td>\n",
       "      <td>0</td>\n",
       "      <td>0</td>\n",
       "      <td>...</td>\n",
       "      <td>0</td>\n",
       "      <td>0</td>\n",
       "      <td>0</td>\n",
       "      <td>0</td>\n",
       "      <td>0</td>\n",
       "      <td>0</td>\n",
       "      <td>1</td>\n",
       "      <td>0</td>\n",
       "      <td>0</td>\n",
       "      <td>0</td>\n",
       "    </tr>\n",
       "    <tr>\n",
       "      <th>4</th>\n",
       "      <td>4.7</td>\n",
       "      <td>20260</td>\n",
       "      <td>20260000000</td>\n",
       "      <td>500000</td>\n",
       "      <td>0</td>\n",
       "      <td>0</td>\n",
       "      <td>0.171836</td>\n",
       "      <td>1</td>\n",
       "      <td>0</td>\n",
       "      <td>0</td>\n",
       "      <td>...</td>\n",
       "      <td>0</td>\n",
       "      <td>0</td>\n",
       "      <td>0</td>\n",
       "      <td>0</td>\n",
       "      <td>0</td>\n",
       "      <td>0</td>\n",
       "      <td>1</td>\n",
       "      <td>0</td>\n",
       "      <td>0</td>\n",
       "      <td>0</td>\n",
       "    </tr>\n",
       "  </tbody>\n",
       "</table>\n",
       "<p>5 rows × 45 columns</p>\n",
       "</div>"
      ],
      "text/plain": [
       "   Rating  Reviews          Size  Installs  Type  Price     vader  Category_0  \\\n",
       "0     3.9      967     967000000    500000     0      0  0.152652           1   \n",
       "1     4.4    13791   13791000000   1000000     0      0  0.268483           1   \n",
       "2     4.3   194216  194216000000   5000000     0      0  0.412649           1   \n",
       "3     4.1      654     654000000    100000     0      0  0.283509           1   \n",
       "4     4.7    20260   20260000000    500000     0      0  0.171836           1   \n",
       "\n",
       "   Category_1  Category_2  ...  Category_28  Category_29  Category_30  \\\n",
       "0           0           0  ...            0            0            0   \n",
       "1           0           0  ...            0            0            0   \n",
       "2           0           0  ...            0            0            0   \n",
       "3           0           0  ...            0            0            0   \n",
       "4           0           0  ...            0            0            0   \n",
       "\n",
       "   Category_31  Category_32  Content Rating_0  Content Rating_1  \\\n",
       "0            0            0                 0                 1   \n",
       "1            0            0                 0                 1   \n",
       "2            0            0                 0                 1   \n",
       "3            0            0                 0                 1   \n",
       "4            0            0                 0                 1   \n",
       "\n",
       "   Content Rating_2  Content Rating_3  Content Rating_4  \n",
       "0                 0                 0                 0  \n",
       "1                 0                 0                 0  \n",
       "2                 0                 0                 0  \n",
       "3                 0                 0                 0  \n",
       "4                 0                 0                 0  \n",
       "\n",
       "[5 rows x 45 columns]"
      ]
     },
     "execution_count": 40,
     "metadata": {},
     "output_type": "execute_result"
    }
   ],
   "source": [
    "data = popAppsCopy\n",
    "data = data.drop(labels = ['App','Genres'],axis=1)\n",
    "data_binary_encoded = pd.get_dummies(data, columns=[\"Category\"])\n",
    "data_binary_encoded_1 = pd.get_dummies(data_binary_encoded, columns=[\"Content Rating\"])\n",
    "data_binary_encoded_1.head()"
   ]
  },
  {
   "cell_type": "code",
   "execution_count": 41,
   "metadata": {},
   "outputs": [
    {
     "name": "stdout",
     "output_type": "stream",
     "text": [
      "(816, 44) (816,)\n"
     ]
    }
   ],
   "source": [
    "X = data_binary_encoded_1.drop(\"Installs\", axis = 1)\n",
    "feature_names = X.columns\n",
    "y = data_binary_encoded_1[\"Installs\"]\n",
    "y = y.replace({1:'1000+',5: '1000+', 10: '1000+',50:'1000+',100:'1000+',500:'1000+',\n",
    "               1000: '1000+',5000:'10000+',10000: '10000+', 50000:'100000+',100000:'100000+',\n",
    "               500000:'1000000+', 1000000:'1000000+',5000000:'10000000+',10000000:'10000000+',\n",
    "               50000000:'100000000+',100000000:'100000000+', 500000000:'1000000000+', \n",
    "               1000000000:'1000000000+' })\n",
    "print(X.shape, y.shape)"
   ]
  },
  {
   "cell_type": "markdown",
   "metadata": {},
   "source": [
    "# Split the data into training and testing"
   ]
  },
  {
   "cell_type": "code",
   "execution_count": 42,
   "metadata": {},
   "outputs": [],
   "source": [
    "from sklearn.model_selection import train_test_split\n",
    "\n",
    "X_train, X_test, y_train, y_test = train_test_split(X, y, random_state=42)"
   ]
  },
  {
   "cell_type": "code",
   "execution_count": 43,
   "metadata": {},
   "outputs": [],
   "source": [
    "from sklearn.preprocessing import LabelEncoder, MinMaxScaler\n",
    "X_scaler = MinMaxScaler().fit(X_train)\n",
    "X_train_scaled = X_scaler.transform(X_train)\n",
    "X_test_scaled = X_scaler.transform(X_test)"
   ]
  },
  {
   "cell_type": "markdown",
   "metadata": {},
   "source": [
    "# Create a Logistic Regression Model"
   ]
  },
  {
   "cell_type": "code",
   "execution_count": 12,
   "metadata": {},
   "outputs": [
    {
     "data": {
      "text/plain": [
       "LogisticRegression(C=1.0, class_weight=None, dual=False, fit_intercept=True,\n",
       "                   intercept_scaling=1, l1_ratio=None, max_iter=100,\n",
       "                   multi_class='warn', n_jobs=None, penalty='l2',\n",
       "                   random_state=None, solver='warn', tol=0.0001, verbose=0,\n",
       "                   warm_start=False)"
      ]
     },
     "execution_count": 12,
     "metadata": {},
     "output_type": "execute_result"
    }
   ],
   "source": [
    "from sklearn.linear_model import LogisticRegression\n",
    "classifier = LogisticRegression()\n",
    "classifier"
   ]
  },
  {
   "cell_type": "markdown",
   "metadata": {},
   "source": [
    "# Fit (train) or model using the training data"
   ]
  },
  {
   "cell_type": "code",
   "execution_count": 13,
   "metadata": {},
   "outputs": [
    {
     "name": "stderr",
     "output_type": "stream",
     "text": [
      "C:\\Users\\User\\Anaconda3\\lib\\site-packages\\sklearn\\linear_model\\logistic.py:432: FutureWarning: Default solver will be changed to 'lbfgs' in 0.22. Specify a solver to silence this warning.\n",
      "  FutureWarning)\n",
      "C:\\Users\\User\\Anaconda3\\lib\\site-packages\\sklearn\\linear_model\\logistic.py:469: FutureWarning: Default multi_class will be changed to 'auto' in 0.22. Specify the multi_class option to silence this warning.\n",
      "  \"this warning.\", FutureWarning)\n"
     ]
    },
    {
     "data": {
      "text/plain": [
       "LogisticRegression(C=1.0, class_weight=None, dual=False, fit_intercept=True,\n",
       "                   intercept_scaling=1, l1_ratio=None, max_iter=100,\n",
       "                   multi_class='warn', n_jobs=None, penalty='l2',\n",
       "                   random_state=None, solver='warn', tol=0.0001, verbose=0,\n",
       "                   warm_start=False)"
      ]
     },
     "execution_count": 13,
     "metadata": {},
     "output_type": "execute_result"
    }
   ],
   "source": [
    "classifier.fit(X_train, y_train)"
   ]
  },
  {
   "cell_type": "code",
   "execution_count": 14,
   "metadata": {},
   "outputs": [
    {
     "name": "stdout",
     "output_type": "stream",
     "text": [
      "Training Data Score: 0.12254901960784313\n",
      "Testing Data Score: 0.10294117647058823\n"
     ]
    }
   ],
   "source": [
    "print(f\"Training Data Score: {classifier.score(X_train, y_train)}\")\n",
    "print(f\"Testing Data Score: {classifier.score(X_test, y_test)}\")"
   ]
  },
  {
   "cell_type": "markdown",
   "metadata": {},
   "source": [
    "# Standard"
   ]
  },
  {
   "cell_type": "code",
   "execution_count": 15,
   "metadata": {},
   "outputs": [
    {
     "name": "stderr",
     "output_type": "stream",
     "text": [
      "C:\\Users\\User\\Anaconda3\\lib\\site-packages\\sklearn\\linear_model\\logistic.py:432: FutureWarning: Default solver will be changed to 'lbfgs' in 0.22. Specify a solver to silence this warning.\n",
      "  FutureWarning)\n",
      "C:\\Users\\User\\Anaconda3\\lib\\site-packages\\sklearn\\linear_model\\logistic.py:469: FutureWarning: Default multi_class will be changed to 'auto' in 0.22. Specify the multi_class option to silence this warning.\n",
      "  \"this warning.\", FutureWarning)\n"
     ]
    },
    {
     "data": {
      "text/plain": [
       "LogisticRegression(C=1.0, class_weight=None, dual=False, fit_intercept=True,\n",
       "                   intercept_scaling=1, l1_ratio=None, max_iter=100,\n",
       "                   multi_class='warn', n_jobs=None, penalty='l2',\n",
       "                   random_state=None, solver='warn', tol=0.0001, verbose=0,\n",
       "                   warm_start=False)"
      ]
     },
     "execution_count": 15,
     "metadata": {},
     "output_type": "execute_result"
    }
   ],
   "source": [
    "classifier.fit(X_train_scaled, y_train)"
   ]
  },
  {
   "cell_type": "code",
   "execution_count": 16,
   "metadata": {},
   "outputs": [
    {
     "name": "stdout",
     "output_type": "stream",
     "text": [
      "Training Data Score: 0.511437908496732\n",
      "Testing Data Score: 0.4803921568627451\n"
     ]
    }
   ],
   "source": [
    "print(f\"Training Data Score: {classifier.score(X_train_scaled, y_train)}\")\n",
    "print(f\"Testing Data Score: {classifier.score(X_test_scaled, y_test)}\")"
   ]
  },
  {
   "cell_type": "markdown",
   "metadata": {},
   "source": [
    "# Random Forest Model"
   ]
  },
  {
   "cell_type": "code",
   "execution_count": 17,
   "metadata": {},
   "outputs": [
    {
     "data": {
      "text/plain": [
       "0.6470588235294118"
      ]
     },
     "execution_count": 17,
     "metadata": {},
     "output_type": "execute_result"
    }
   ],
   "source": [
    "from sklearn import tree\n",
    "clf = tree.DecisionTreeClassifier()\n",
    "clf = clf.fit(X_train, y_train)\n",
    "clf.score(X_test, y_test)"
   ]
  },
  {
   "cell_type": "code",
   "execution_count": 18,
   "metadata": {},
   "outputs": [
    {
     "data": {
      "text/plain": [
       "0.6372549019607843"
      ]
     },
     "execution_count": 18,
     "metadata": {},
     "output_type": "execute_result"
    }
   ],
   "source": [
    "clf1 = tree.DecisionTreeClassifier()\n",
    "clf1 = clf1.fit(X_train_scaled, y_train)\n",
    "clf1.score(X_test_scaled, y_test)"
   ]
  },
  {
   "cell_type": "code",
   "execution_count": 19,
   "metadata": {},
   "outputs": [
    {
     "data": {
      "text/plain": [
       "0.7205882352941176"
      ]
     },
     "execution_count": 19,
     "metadata": {},
     "output_type": "execute_result"
    }
   ],
   "source": [
    "from sklearn.ensemble import RandomForestClassifier\n",
    "rf = RandomForestClassifier(n_estimators=200)\n",
    "rf = rf.fit(X_train, y_train)\n",
    "results = rf.predict(X_test)\n",
    "results_1 = rf.predict(X_train)\n",
    "rf.score(X_test, y_test)"
   ]
  },
  {
   "cell_type": "code",
   "execution_count": 20,
   "metadata": {},
   "outputs": [
    {
     "data": {
      "text/plain": [
       "0.7156862745098039"
      ]
     },
     "execution_count": 20,
     "metadata": {},
     "output_type": "execute_result"
    }
   ],
   "source": [
    "from sklearn.ensemble import RandomForestClassifier\n",
    "rf = RandomForestClassifier(n_estimators=200)\n",
    "rf = rf.fit(X_train_scaled, y_train)\n",
    "rf.score(X_test_scaled, y_test)"
   ]
  },
  {
   "cell_type": "markdown",
   "metadata": {},
   "source": [
    "# Hyperparameter Tuning\n",
    "Use GridSearchCV to tune the model's parameters"
   ]
  },
  {
   "cell_type": "code",
   "execution_count": 44,
   "metadata": {},
   "outputs": [],
   "source": [
    "# Create the GridSearch estimator along with a parameter object containing the values to adjust\n",
    "from sklearn.model_selection import GridSearchCV\n",
    "param_grid = {'n_estimators':[100,200,300,400,500,600,700,800,900,1000],\n",
    "              'max_depth':[1,5,10,15,20]}\n",
    "grid = GridSearchCV(rf,param_grid,verbose=3)"
   ]
  },
  {
   "cell_type": "code",
   "execution_count": 45,
   "metadata": {},
   "outputs": [
    {
     "name": "stderr",
     "output_type": "stream",
     "text": [
      "C:\\Users\\User\\Anaconda3\\lib\\site-packages\\sklearn\\model_selection\\_split.py:1978: FutureWarning: The default value of cv will change from 3 to 5 in version 0.22. Specify it explicitly to silence this warning.\n",
      "  warnings.warn(CV_WARNING, FutureWarning)\n",
      "C:\\Users\\User\\Anaconda3\\lib\\site-packages\\sklearn\\model_selection\\_split.py:657: Warning: The least populated class in y has only 1 members, which is too few. The minimum number of members in any class cannot be less than n_splits=3.\n",
      "  % (min_groups, self.n_splits)), Warning)\n",
      "[Parallel(n_jobs=1)]: Using backend SequentialBackend with 1 concurrent workers.\n",
      "[Parallel(n_jobs=1)]: Done   1 out of   1 | elapsed:    0.0s remaining:    0.0s\n"
     ]
    },
    {
     "name": "stdout",
     "output_type": "stream",
     "text": [
      "Fitting 3 folds for each of 50 candidates, totalling 150 fits\n",
      "[CV] max_depth=1, n_estimators=100 ...................................\n",
      "[CV] ....... max_depth=1, n_estimators=100, score=0.546, total=   0.1s\n",
      "[CV] max_depth=1, n_estimators=100 ...................................\n",
      "[CV] ....... max_depth=1, n_estimators=100, score=0.581, total=   0.2s\n",
      "[CV] max_depth=1, n_estimators=100 ...................................\n",
      "[CV] ....... max_depth=1, n_estimators=100, score=0.554, total=   0.2s\n",
      "[CV] max_depth=1, n_estimators=200 ...................................\n"
     ]
    },
    {
     "name": "stderr",
     "output_type": "stream",
     "text": [
      "[Parallel(n_jobs=1)]: Done   2 out of   2 | elapsed:    0.2s remaining:    0.0s\n"
     ]
    },
    {
     "name": "stdout",
     "output_type": "stream",
     "text": [
      "[CV] ....... max_depth=1, n_estimators=200, score=0.556, total=   0.3s\n",
      "[CV] max_depth=1, n_estimators=200 ...................................\n",
      "[CV] ....... max_depth=1, n_estimators=200, score=0.571, total=   0.3s\n",
      "[CV] max_depth=1, n_estimators=200 ...................................\n",
      "[CV] ....... max_depth=1, n_estimators=200, score=0.559, total=   0.3s\n",
      "[CV] max_depth=1, n_estimators=300 ...................................\n",
      "[CV] ....... max_depth=1, n_estimators=300, score=0.556, total=   0.4s\n",
      "[CV] max_depth=1, n_estimators=300 ...................................\n",
      "[CV] ....... max_depth=1, n_estimators=300, score=0.562, total=   0.5s\n",
      "[CV] max_depth=1, n_estimators=300 ...................................\n",
      "[CV] ....... max_depth=1, n_estimators=300, score=0.559, total=   0.4s\n",
      "[CV] max_depth=1, n_estimators=400 ...................................\n",
      "[CV] ....... max_depth=1, n_estimators=400, score=0.565, total=   0.6s\n",
      "[CV] max_depth=1, n_estimators=400 ...................................\n",
      "[CV] ....... max_depth=1, n_estimators=400, score=0.567, total=   0.6s\n",
      "[CV] max_depth=1, n_estimators=400 ...................................\n",
      "[CV] ....... max_depth=1, n_estimators=400, score=0.554, total=   0.6s\n",
      "[CV] max_depth=1, n_estimators=500 ...................................\n",
      "[CV] ....... max_depth=1, n_estimators=500, score=0.565, total=   0.7s\n",
      "[CV] max_depth=1, n_estimators=500 ...................................\n",
      "[CV] ....... max_depth=1, n_estimators=500, score=0.557, total=   0.7s\n",
      "[CV] max_depth=1, n_estimators=500 ...................................\n",
      "[CV] ....... max_depth=1, n_estimators=500, score=0.554, total=   0.7s\n",
      "[CV] max_depth=1, n_estimators=600 ...................................\n",
      "[CV] ....... max_depth=1, n_estimators=600, score=0.575, total=   0.8s\n",
      "[CV] max_depth=1, n_estimators=600 ...................................\n",
      "[CV] ....... max_depth=1, n_estimators=600, score=0.562, total=   0.8s\n",
      "[CV] max_depth=1, n_estimators=600 ...................................\n",
      "[CV] ....... max_depth=1, n_estimators=600, score=0.559, total=   0.9s\n",
      "[CV] max_depth=1, n_estimators=700 ...................................\n",
      "[CV] ....... max_depth=1, n_estimators=700, score=0.556, total=   1.0s\n",
      "[CV] max_depth=1, n_estimators=700 ...................................\n",
      "[CV] ....... max_depth=1, n_estimators=700, score=0.562, total=   1.0s\n",
      "[CV] max_depth=1, n_estimators=700 ...................................\n",
      "[CV] ....... max_depth=1, n_estimators=700, score=0.554, total=   1.0s\n",
      "[CV] max_depth=1, n_estimators=800 ...................................\n",
      "[CV] ....... max_depth=1, n_estimators=800, score=0.560, total=   1.1s\n",
      "[CV] max_depth=1, n_estimators=800 ...................................\n",
      "[CV] ....... max_depth=1, n_estimators=800, score=0.562, total=   1.1s\n",
      "[CV] max_depth=1, n_estimators=800 ...................................\n",
      "[CV] ....... max_depth=1, n_estimators=800, score=0.564, total=   1.1s\n",
      "[CV] max_depth=1, n_estimators=900 ...................................\n",
      "[CV] ....... max_depth=1, n_estimators=900, score=0.560, total=   1.2s\n",
      "[CV] max_depth=1, n_estimators=900 ...................................\n",
      "[CV] ....... max_depth=1, n_estimators=900, score=0.562, total=   1.3s\n",
      "[CV] max_depth=1, n_estimators=900 ...................................\n",
      "[CV] ....... max_depth=1, n_estimators=900, score=0.554, total=   1.3s\n",
      "[CV] max_depth=1, n_estimators=1000 ..................................\n",
      "[CV] ...... max_depth=1, n_estimators=1000, score=0.560, total=   1.4s\n",
      "[CV] max_depth=1, n_estimators=1000 ..................................\n",
      "[CV] ...... max_depth=1, n_estimators=1000, score=0.562, total=   1.4s\n",
      "[CV] max_depth=1, n_estimators=1000 ..................................\n",
      "[CV] ...... max_depth=1, n_estimators=1000, score=0.554, total=   1.4s\n",
      "[CV] max_depth=5, n_estimators=100 ...................................\n",
      "[CV] ....... max_depth=5, n_estimators=100, score=0.662, total=   0.2s\n",
      "[CV] max_depth=5, n_estimators=100 ...................................\n",
      "[CV] ....... max_depth=5, n_estimators=100, score=0.606, total=   0.2s\n",
      "[CV] max_depth=5, n_estimators=100 ...................................\n",
      "[CV] ....... max_depth=5, n_estimators=100, score=0.649, total=   0.2s\n",
      "[CV] max_depth=5, n_estimators=200 ...................................\n",
      "[CV] ....... max_depth=5, n_estimators=200, score=0.609, total=   0.3s\n",
      "[CV] max_depth=5, n_estimators=200 ...................................\n",
      "[CV] ....... max_depth=5, n_estimators=200, score=0.626, total=   0.3s\n",
      "[CV] max_depth=5, n_estimators=200 ...................................\n",
      "[CV] ....... max_depth=5, n_estimators=200, score=0.624, total=   0.3s\n",
      "[CV] max_depth=5, n_estimators=300 ...................................\n",
      "[CV] ....... max_depth=5, n_estimators=300, score=0.623, total=   0.5s\n",
      "[CV] max_depth=5, n_estimators=300 ...................................\n",
      "[CV] ....... max_depth=5, n_estimators=300, score=0.621, total=   0.5s\n",
      "[CV] max_depth=5, n_estimators=300 ...................................\n",
      "[CV] ....... max_depth=5, n_estimators=300, score=0.639, total=   0.5s\n",
      "[CV] max_depth=5, n_estimators=400 ...................................\n",
      "[CV] ....... max_depth=5, n_estimators=400, score=0.628, total=   0.7s\n",
      "[CV] max_depth=5, n_estimators=400 ...................................\n",
      "[CV] ....... max_depth=5, n_estimators=400, score=0.645, total=   0.7s\n",
      "[CV] max_depth=5, n_estimators=400 ...................................\n",
      "[CV] ....... max_depth=5, n_estimators=400, score=0.634, total=   0.6s\n",
      "[CV] max_depth=5, n_estimators=500 ...................................\n",
      "[CV] ....... max_depth=5, n_estimators=500, score=0.628, total=   0.8s\n",
      "[CV] max_depth=5, n_estimators=500 ...................................\n",
      "[CV] ....... max_depth=5, n_estimators=500, score=0.635, total=   0.8s\n",
      "[CV] max_depth=5, n_estimators=500 ...................................\n",
      "[CV] ....... max_depth=5, n_estimators=500, score=0.644, total=   0.8s\n",
      "[CV] max_depth=5, n_estimators=600 ...................................\n",
      "[CV] ....... max_depth=5, n_estimators=600, score=0.628, total=   1.0s\n",
      "[CV] max_depth=5, n_estimators=600 ...................................\n",
      "[CV] ....... max_depth=5, n_estimators=600, score=0.631, total=   1.0s\n",
      "[CV] max_depth=5, n_estimators=600 ...................................\n",
      "[CV] ....... max_depth=5, n_estimators=600, score=0.653, total=   1.0s\n",
      "[CV] max_depth=5, n_estimators=700 ...................................\n",
      "[CV] ....... max_depth=5, n_estimators=700, score=0.643, total=   1.1s\n",
      "[CV] max_depth=5, n_estimators=700 ...................................\n",
      "[CV] ....... max_depth=5, n_estimators=700, score=0.635, total=   1.1s\n",
      "[CV] max_depth=5, n_estimators=700 ...................................\n",
      "[CV] ....... max_depth=5, n_estimators=700, score=0.653, total=   1.1s\n",
      "[CV] max_depth=5, n_estimators=800 ...................................\n",
      "[CV] ....... max_depth=5, n_estimators=800, score=0.643, total=   1.4s\n",
      "[CV] max_depth=5, n_estimators=800 ...................................\n",
      "[CV] ....... max_depth=5, n_estimators=800, score=0.631, total=   1.4s\n",
      "[CV] max_depth=5, n_estimators=800 ...................................\n",
      "[CV] ....... max_depth=5, n_estimators=800, score=0.653, total=   1.3s\n",
      "[CV] max_depth=5, n_estimators=900 ...................................\n",
      "[CV] ....... max_depth=5, n_estimators=900, score=0.614, total=   1.5s\n",
      "[CV] max_depth=5, n_estimators=900 ...................................\n",
      "[CV] ....... max_depth=5, n_estimators=900, score=0.640, total=   1.4s\n",
      "[CV] max_depth=5, n_estimators=900 ...................................\n",
      "[CV] ....... max_depth=5, n_estimators=900, score=0.653, total=   1.5s\n",
      "[CV] max_depth=5, n_estimators=1000 ..................................\n",
      "[CV] ...... max_depth=5, n_estimators=1000, score=0.633, total=   1.6s\n",
      "[CV] max_depth=5, n_estimators=1000 ..................................\n",
      "[CV] ...... max_depth=5, n_estimators=1000, score=0.635, total=   1.6s\n",
      "[CV] max_depth=5, n_estimators=1000 ..................................\n",
      "[CV] ...... max_depth=5, n_estimators=1000, score=0.649, total=   1.6s\n",
      "[CV] max_depth=10, n_estimators=100 ..................................\n",
      "[CV] ...... max_depth=10, n_estimators=100, score=0.744, total=   0.2s\n",
      "[CV] max_depth=10, n_estimators=100 ..................................\n",
      "[CV] ...... max_depth=10, n_estimators=100, score=0.700, total=   0.2s\n",
      "[CV] max_depth=10, n_estimators=100 ..................................\n"
     ]
    },
    {
     "name": "stdout",
     "output_type": "stream",
     "text": [
      "[CV] ...... max_depth=10, n_estimators=100, score=0.733, total=   0.2s\n",
      "[CV] max_depth=10, n_estimators=200 ..................................\n",
      "[CV] ...... max_depth=10, n_estimators=200, score=0.739, total=   0.4s\n",
      "[CV] max_depth=10, n_estimators=200 ..................................\n",
      "[CV] ...... max_depth=10, n_estimators=200, score=0.704, total=   0.4s\n",
      "[CV] max_depth=10, n_estimators=200 ..................................\n",
      "[CV] ...... max_depth=10, n_estimators=200, score=0.728, total=   0.4s\n",
      "[CV] max_depth=10, n_estimators=300 ..................................\n",
      "[CV] ...... max_depth=10, n_estimators=300, score=0.725, total=   0.6s\n",
      "[CV] max_depth=10, n_estimators=300 ..................................\n",
      "[CV] ...... max_depth=10, n_estimators=300, score=0.690, total=   0.6s\n",
      "[CV] max_depth=10, n_estimators=300 ..................................\n",
      "[CV] ...... max_depth=10, n_estimators=300, score=0.723, total=   0.6s\n",
      "[CV] max_depth=10, n_estimators=400 ..................................\n",
      "[CV] ...... max_depth=10, n_estimators=400, score=0.739, total=   0.8s\n",
      "[CV] max_depth=10, n_estimators=400 ..................................\n",
      "[CV] ...... max_depth=10, n_estimators=400, score=0.714, total=   0.8s\n",
      "[CV] max_depth=10, n_estimators=400 ..................................\n",
      "[CV] ...... max_depth=10, n_estimators=400, score=0.708, total=   0.8s\n",
      "[CV] max_depth=10, n_estimators=500 ..................................\n",
      "[CV] ...... max_depth=10, n_estimators=500, score=0.734, total=   1.0s\n",
      "[CV] max_depth=10, n_estimators=500 ..................................\n",
      "[CV] ...... max_depth=10, n_estimators=500, score=0.704, total=   1.0s\n",
      "[CV] max_depth=10, n_estimators=500 ..................................\n",
      "[CV] ...... max_depth=10, n_estimators=500, score=0.728, total=   1.0s\n",
      "[CV] max_depth=10, n_estimators=600 ..................................\n",
      "[CV] ...... max_depth=10, n_estimators=600, score=0.734, total=   1.1s\n",
      "[CV] max_depth=10, n_estimators=600 ..................................\n",
      "[CV] ...... max_depth=10, n_estimators=600, score=0.695, total=   1.1s\n",
      "[CV] max_depth=10, n_estimators=600 ..................................\n",
      "[CV] ...... max_depth=10, n_estimators=600, score=0.738, total=   1.1s\n",
      "[CV] max_depth=10, n_estimators=700 ..................................\n",
      "[CV] ...... max_depth=10, n_estimators=700, score=0.739, total=   1.3s\n",
      "[CV] max_depth=10, n_estimators=700 ..................................\n",
      "[CV] ...... max_depth=10, n_estimators=700, score=0.714, total=   1.4s\n",
      "[CV] max_depth=10, n_estimators=700 ..................................\n",
      "[CV] ...... max_depth=10, n_estimators=700, score=0.733, total=   1.3s\n",
      "[CV] max_depth=10, n_estimators=800 ..................................\n",
      "[CV] ...... max_depth=10, n_estimators=800, score=0.734, total=   1.5s\n",
      "[CV] max_depth=10, n_estimators=800 ..................................\n",
      "[CV] ...... max_depth=10, n_estimators=800, score=0.704, total=   1.5s\n",
      "[CV] max_depth=10, n_estimators=800 ..................................\n",
      "[CV] ...... max_depth=10, n_estimators=800, score=0.723, total=   1.5s\n",
      "[CV] max_depth=10, n_estimators=900 ..................................\n",
      "[CV] ...... max_depth=10, n_estimators=900, score=0.744, total=   1.8s\n",
      "[CV] max_depth=10, n_estimators=900 ..................................\n",
      "[CV] ...... max_depth=10, n_estimators=900, score=0.709, total=   1.8s\n",
      "[CV] max_depth=10, n_estimators=900 ..................................\n",
      "[CV] ...... max_depth=10, n_estimators=900, score=0.718, total=   1.7s\n",
      "[CV] max_depth=10, n_estimators=1000 .................................\n",
      "[CV] ..... max_depth=10, n_estimators=1000, score=0.734, total=   1.9s\n",
      "[CV] max_depth=10, n_estimators=1000 .................................\n",
      "[CV] ..... max_depth=10, n_estimators=1000, score=0.704, total=   1.9s\n",
      "[CV] max_depth=10, n_estimators=1000 .................................\n",
      "[CV] ..... max_depth=10, n_estimators=1000, score=0.728, total=   1.9s\n",
      "[CV] max_depth=15, n_estimators=100 ..................................\n",
      "[CV] ...... max_depth=15, n_estimators=100, score=0.739, total=   0.2s\n",
      "[CV] max_depth=15, n_estimators=100 ..................................\n",
      "[CV] ...... max_depth=15, n_estimators=100, score=0.719, total=   0.2s\n",
      "[CV] max_depth=15, n_estimators=100 ..................................\n",
      "[CV] ...... max_depth=15, n_estimators=100, score=0.723, total=   0.2s\n",
      "[CV] max_depth=15, n_estimators=200 ..................................\n",
      "[CV] ...... max_depth=15, n_estimators=200, score=0.758, total=   0.4s\n",
      "[CV] max_depth=15, n_estimators=200 ..................................\n",
      "[CV] ...... max_depth=15, n_estimators=200, score=0.704, total=   0.4s\n",
      "[CV] max_depth=15, n_estimators=200 ..................................\n",
      "[CV] ...... max_depth=15, n_estimators=200, score=0.728, total=   0.4s\n",
      "[CV] max_depth=15, n_estimators=300 ..................................\n",
      "[CV] ...... max_depth=15, n_estimators=300, score=0.744, total=   0.6s\n",
      "[CV] max_depth=15, n_estimators=300 ..................................\n",
      "[CV] ...... max_depth=15, n_estimators=300, score=0.695, total=   0.6s\n",
      "[CV] max_depth=15, n_estimators=300 ..................................\n",
      "[CV] ...... max_depth=15, n_estimators=300, score=0.743, total=   0.6s\n",
      "[CV] max_depth=15, n_estimators=400 ..................................\n",
      "[CV] ...... max_depth=15, n_estimators=400, score=0.749, total=   0.8s\n",
      "[CV] max_depth=15, n_estimators=400 ..................................\n",
      "[CV] ...... max_depth=15, n_estimators=400, score=0.709, total=   0.8s\n",
      "[CV] max_depth=15, n_estimators=400 ..................................\n",
      "[CV] ...... max_depth=15, n_estimators=400, score=0.733, total=   0.9s\n",
      "[CV] max_depth=15, n_estimators=500 ..................................\n",
      "[CV] ...... max_depth=15, n_estimators=500, score=0.744, total=   1.0s\n",
      "[CV] max_depth=15, n_estimators=500 ..................................\n",
      "[CV] ...... max_depth=15, n_estimators=500, score=0.704, total=   1.0s\n",
      "[CV] max_depth=15, n_estimators=500 ..................................\n",
      "[CV] ...... max_depth=15, n_estimators=500, score=0.723, total=   1.0s\n",
      "[CV] max_depth=15, n_estimators=600 ..................................\n",
      "[CV] ...... max_depth=15, n_estimators=600, score=0.744, total=   1.2s\n",
      "[CV] max_depth=15, n_estimators=600 ..................................\n",
      "[CV] ...... max_depth=15, n_estimators=600, score=0.704, total=   1.2s\n",
      "[CV] max_depth=15, n_estimators=600 ..................................\n",
      "[CV] ...... max_depth=15, n_estimators=600, score=0.723, total=   1.2s\n",
      "[CV] max_depth=15, n_estimators=700 ..................................\n",
      "[CV] ...... max_depth=15, n_estimators=700, score=0.749, total=   1.4s\n",
      "[CV] max_depth=15, n_estimators=700 ..................................\n",
      "[CV] ...... max_depth=15, n_estimators=700, score=0.709, total=   1.5s\n",
      "[CV] max_depth=15, n_estimators=700 ..................................\n",
      "[CV] ...... max_depth=15, n_estimators=700, score=0.713, total=   1.5s\n",
      "[CV] max_depth=15, n_estimators=800 ..................................\n",
      "[CV] ...... max_depth=15, n_estimators=800, score=0.754, total=   1.6s\n",
      "[CV] max_depth=15, n_estimators=800 ..................................\n",
      "[CV] ...... max_depth=15, n_estimators=800, score=0.709, total=   1.7s\n",
      "[CV] max_depth=15, n_estimators=800 ..................................\n",
      "[CV] ...... max_depth=15, n_estimators=800, score=0.718, total=   1.7s\n",
      "[CV] max_depth=15, n_estimators=900 ..................................\n",
      "[CV] ...... max_depth=15, n_estimators=900, score=0.739, total=   1.9s\n",
      "[CV] max_depth=15, n_estimators=900 ..................................\n",
      "[CV] ...... max_depth=15, n_estimators=900, score=0.704, total=   2.1s\n",
      "[CV] max_depth=15, n_estimators=900 ..................................\n",
      "[CV] ...... max_depth=15, n_estimators=900, score=0.738, total=   2.1s\n",
      "[CV] max_depth=15, n_estimators=1000 .................................\n",
      "[CV] ..... max_depth=15, n_estimators=1000, score=0.734, total=   2.0s\n",
      "[CV] max_depth=15, n_estimators=1000 .................................\n",
      "[CV] ..... max_depth=15, n_estimators=1000, score=0.719, total=   2.1s\n",
      "[CV] max_depth=15, n_estimators=1000 .................................\n",
      "[CV] ..... max_depth=15, n_estimators=1000, score=0.718, total=   2.1s\n",
      "[CV] max_depth=20, n_estimators=100 ..................................\n"
     ]
    },
    {
     "name": "stdout",
     "output_type": "stream",
     "text": [
      "[CV] ...... max_depth=20, n_estimators=100, score=0.754, total=   0.2s\n",
      "[CV] max_depth=20, n_estimators=100 ..................................\n",
      "[CV] ...... max_depth=20, n_estimators=100, score=0.700, total=   0.2s\n",
      "[CV] max_depth=20, n_estimators=100 ..................................\n",
      "[CV] ...... max_depth=20, n_estimators=100, score=0.738, total=   0.2s\n",
      "[CV] max_depth=20, n_estimators=200 ..................................\n",
      "[CV] ...... max_depth=20, n_estimators=200, score=0.739, total=   0.4s\n",
      "[CV] max_depth=20, n_estimators=200 ..................................\n",
      "[CV] ...... max_depth=20, n_estimators=200, score=0.690, total=   0.4s\n",
      "[CV] max_depth=20, n_estimators=200 ..................................\n",
      "[CV] ...... max_depth=20, n_estimators=200, score=0.708, total=   0.4s\n",
      "[CV] max_depth=20, n_estimators=300 ..................................\n",
      "[CV] ...... max_depth=20, n_estimators=300, score=0.749, total=   0.6s\n",
      "[CV] max_depth=20, n_estimators=300 ..................................\n",
      "[CV] ...... max_depth=20, n_estimators=300, score=0.709, total=   0.6s\n",
      "[CV] max_depth=20, n_estimators=300 ..................................\n",
      "[CV] ...... max_depth=20, n_estimators=300, score=0.723, total=   0.6s\n",
      "[CV] max_depth=20, n_estimators=400 ..................................\n",
      "[CV] ...... max_depth=20, n_estimators=400, score=0.749, total=   0.9s\n",
      "[CV] max_depth=20, n_estimators=400 ..................................\n",
      "[CV] ...... max_depth=20, n_estimators=400, score=0.719, total=   0.8s\n",
      "[CV] max_depth=20, n_estimators=400 ..................................\n",
      "[CV] ...... max_depth=20, n_estimators=400, score=0.723, total=   0.9s\n",
      "[CV] max_depth=20, n_estimators=500 ..................................\n",
      "[CV] ...... max_depth=20, n_estimators=500, score=0.749, total=   1.1s\n",
      "[CV] max_depth=20, n_estimators=500 ..................................\n",
      "[CV] ...... max_depth=20, n_estimators=500, score=0.704, total=   1.1s\n",
      "[CV] max_depth=20, n_estimators=500 ..................................\n",
      "[CV] ...... max_depth=20, n_estimators=500, score=0.733, total=   1.1s\n",
      "[CV] max_depth=20, n_estimators=600 ..................................\n",
      "[CV] ...... max_depth=20, n_estimators=600, score=0.754, total=   1.3s\n",
      "[CV] max_depth=20, n_estimators=600 ..................................\n",
      "[CV] ...... max_depth=20, n_estimators=600, score=0.709, total=   1.2s\n",
      "[CV] max_depth=20, n_estimators=600 ..................................\n",
      "[CV] ...... max_depth=20, n_estimators=600, score=0.723, total=   1.3s\n",
      "[CV] max_depth=20, n_estimators=700 ..................................\n",
      "[CV] ...... max_depth=20, n_estimators=700, score=0.749, total=   1.5s\n",
      "[CV] max_depth=20, n_estimators=700 ..................................\n",
      "[CV] ...... max_depth=20, n_estimators=700, score=0.709, total=   1.5s\n",
      "[CV] max_depth=20, n_estimators=700 ..................................\n",
      "[CV] ...... max_depth=20, n_estimators=700, score=0.723, total=   1.5s\n",
      "[CV] max_depth=20, n_estimators=800 ..................................\n",
      "[CV] ...... max_depth=20, n_estimators=800, score=0.749, total=   1.7s\n",
      "[CV] max_depth=20, n_estimators=800 ..................................\n",
      "[CV] ...... max_depth=20, n_estimators=800, score=0.709, total=   1.7s\n",
      "[CV] max_depth=20, n_estimators=800 ..................................\n",
      "[CV] ...... max_depth=20, n_estimators=800, score=0.713, total=   1.7s\n",
      "[CV] max_depth=20, n_estimators=900 ..................................\n",
      "[CV] ...... max_depth=20, n_estimators=900, score=0.739, total=   1.9s\n",
      "[CV] max_depth=20, n_estimators=900 ..................................\n",
      "[CV] ...... max_depth=20, n_estimators=900, score=0.709, total=   1.9s\n",
      "[CV] max_depth=20, n_estimators=900 ..................................\n",
      "[CV] ...... max_depth=20, n_estimators=900, score=0.733, total=   1.9s\n",
      "[CV] max_depth=20, n_estimators=1000 .................................\n",
      "[CV] ..... max_depth=20, n_estimators=1000, score=0.758, total=   2.2s\n",
      "[CV] max_depth=20, n_estimators=1000 .................................\n",
      "[CV] ..... max_depth=20, n_estimators=1000, score=0.709, total=   2.1s\n",
      "[CV] max_depth=20, n_estimators=1000 .................................\n",
      "[CV] ..... max_depth=20, n_estimators=1000, score=0.723, total=   2.2s\n"
     ]
    },
    {
     "name": "stderr",
     "output_type": "stream",
     "text": [
      "[Parallel(n_jobs=1)]: Done 150 out of 150 | elapsed:  2.5min finished\n",
      "C:\\Users\\User\\Anaconda3\\lib\\site-packages\\sklearn\\model_selection\\_search.py:814: DeprecationWarning: The default of the `iid` parameter will change from True to False in version 0.22 and will be removed in 0.24. This will change numeric results when test-set sizes are unequal.\n",
      "  DeprecationWarning)\n"
     ]
    },
    {
     "data": {
      "text/plain": [
       "GridSearchCV(cv='warn', error_score='raise-deprecating',\n",
       "             estimator=RandomForestClassifier(bootstrap=True, class_weight=None,\n",
       "                                              criterion='gini', max_depth=None,\n",
       "                                              max_features='auto',\n",
       "                                              max_leaf_nodes=None,\n",
       "                                              min_impurity_decrease=0.0,\n",
       "                                              min_impurity_split=None,\n",
       "                                              min_samples_leaf=1,\n",
       "                                              min_samples_split=2,\n",
       "                                              min_weight_fraction_leaf=0.0,\n",
       "                                              n_estimators=200, n_jobs=None,\n",
       "                                              oob_score=False,\n",
       "                                              random_state=None, verbose=0,\n",
       "                                              warm_start=False),\n",
       "             iid='warn', n_jobs=None,\n",
       "             param_grid={'max_depth': [1, 5, 10, 15, 20],\n",
       "                         'n_estimators': [100, 200, 300, 400, 500, 600, 700,\n",
       "                                          800, 900, 1000]},\n",
       "             pre_dispatch='2*n_jobs', refit=True, return_train_score=False,\n",
       "             scoring=None, verbose=3)"
      ]
     },
     "execution_count": 45,
     "metadata": {},
     "output_type": "execute_result"
    }
   ],
   "source": [
    "# Fit the model using the grid search estimator. \n",
    "grid.fit(X_train,y_train)"
   ]
  },
  {
   "cell_type": "code",
   "execution_count": 46,
   "metadata": {},
   "outputs": [
    {
     "name": "stdout",
     "output_type": "stream",
     "text": [
      "{'max_depth': 15, 'n_estimators': 200}\n"
     ]
    }
   ],
   "source": [
    "# List the best parameters for this dataset\n",
    "print(grid.best_params_)"
   ]
  },
  {
   "cell_type": "code",
   "execution_count": 47,
   "metadata": {},
   "outputs": [
    {
     "name": "stdout",
     "output_type": "stream",
     "text": [
      "0.7303921568627451\n"
     ]
    }
   ],
   "source": [
    "# List the best score\n",
    "print(grid.best_score_)"
   ]
  },
  {
   "cell_type": "code",
   "execution_count": 48,
   "metadata": {},
   "outputs": [],
   "source": [
    "# Create the GridSearchCV model\n",
    "predictions = grid.predict(X_test)\n",
    "predictions_train = grid.predict(X_train)"
   ]
  },
  {
   "cell_type": "code",
   "execution_count": 49,
   "metadata": {},
   "outputs": [
    {
     "name": "stdout",
     "output_type": "stream",
     "text": [
      "              precision    recall  f1-score   support\n",
      "\n",
      "      10000+       0.33      0.25      0.29         4\n",
      "     100000+       0.62      0.73      0.67        22\n",
      "    1000000+       0.81      0.76      0.78        71\n",
      "   10000000+       0.82      0.81      0.82        81\n",
      "  100000000+       0.63      0.81      0.71        21\n",
      " 1000000000+       0.00      0.00      0.00         5\n",
      "\n",
      "    accuracy                           0.75       204\n",
      "   macro avg       0.53      0.56      0.54       204\n",
      "weighted avg       0.75      0.75      0.75       204\n",
      "\n"
     ]
    }
   ],
   "source": [
    "# Train the model with GridSearch\n",
    "from sklearn.metrics import classification_report\n",
    "print(classification_report(y_test, predictions))"
   ]
  },
  {
   "cell_type": "code",
   "execution_count": 50,
   "metadata": {},
   "outputs": [
    {
     "data": {
      "text/plain": [
       "[(0.3661700414223563, 'Reviews'),\n",
       " (0.18555143736007465, 'Size'),\n",
       " (0.11816726149862827, 'vader'),\n",
       " (0.09104924239945383, 'Rating'),\n",
       " (0.015390846272706891, 'Category_14'),\n",
       " (0.01230160472703881, 'Category_25'),\n",
       " (0.0110411440298036, 'Category_20'),\n",
       " (0.01095385984001721, 'Content Rating_1'),\n",
       " (0.010044600174855685, 'Category_29'),\n",
       " (0.009979074826150038, 'Content Rating_4'),\n",
       " (0.0097012879468333, 'Category_12'),\n",
       " (0.008026714923244497, 'Category_28'),\n",
       " (0.0073911080231569325, 'Category_7'),\n",
       " (0.007388144480577905, 'Category_13'),\n",
       " (0.007263672177458173, 'Category_30'),\n",
       " (0.007201723021821332, 'Category_27'),\n",
       " (0.007175263114719292, 'Price'),\n",
       " (0.006982215790758483, 'Category_6'),\n",
       " (0.006873151144070439, 'Content Rating_3'),\n",
       " (0.006847145269306651, 'Category_11'),\n",
       " (0.006794940815474755, 'Type'),\n",
       " (0.005499428158500425, 'Category_31'),\n",
       " (0.005270499193168329, 'Category_24'),\n",
       " (0.0050260608228320045, 'Category_21'),\n",
       " (0.005016892486323993, 'Category_15'),\n",
       " (0.004984549691980443, 'Category_8'),\n",
       " (0.0049754825998693354, 'Category_26'),\n",
       " (0.004904581205204758, 'Category_23'),\n",
       " (0.004839162066755804, 'Category_3'),\n",
       " (0.004833722742988033, 'Category_9'),\n",
       " (0.004544394602566521, 'Category_4'),\n",
       " (0.004539166632183042, 'Content Rating_2'),\n",
       " (0.004450666872121332, 'Category_16'),\n",
       " (0.004446409124202463, 'Category_18'),\n",
       " (0.004032461598392232, 'Category_1'),\n",
       " (0.0036289834449588208, 'Category_17'),\n",
       " (0.0032880889185405472, 'Category_2'),\n",
       " (0.003215117315052942, 'Category_10'),\n",
       " (0.0031422037067315744, 'Category_0'),\n",
       " (0.0026338433791779363, 'Category_32'),\n",
       " (0.002352222429601079, 'Category_22'),\n",
       " (0.001562657666999087, 'Category_19'),\n",
       " (0.00030525742959228413, 'Content Rating_0'),\n",
       " (0.00021366865374997828, 'Category_5')]"
      ]
     },
     "execution_count": 50,
     "metadata": {},
     "output_type": "execute_result"
    }
   ],
   "source": [
    "sorted(zip(rf.feature_importances_, feature_names), reverse=True)"
   ]
  },
  {
   "cell_type": "markdown",
   "metadata": {},
   "source": [
    "# K Nearest Neighbors Model"
   ]
  },
  {
   "cell_type": "code",
   "execution_count": 28,
   "metadata": {},
   "outputs": [
    {
     "name": "stdout",
     "output_type": "stream",
     "text": [
      "k: 1, Train/Test Score: 1.000/0.662\n",
      "k: 3, Train/Test Score: 0.799/0.686\n",
      "k: 5, Train/Test Score: 0.765/0.672\n",
      "k: 7, Train/Test Score: 0.752/0.716\n",
      "k: 9, Train/Test Score: 0.747/0.716\n",
      "k: 11, Train/Test Score: 0.729/0.716\n",
      "k: 13, Train/Test Score: 0.724/0.701\n",
      "k: 15, Train/Test Score: 0.717/0.711\n",
      "k: 17, Train/Test Score: 0.722/0.711\n",
      "k: 19, Train/Test Score: 0.719/0.696\n"
     ]
    },
    {
     "data": {
      "image/png": "[encoded data removed]",
      "text/plain": [
       "<Figure size 432x288 with 1 Axes>"
      ]
     },
     "metadata": {
      "needs_background": "light"
     },
     "output_type": "display_data"
    }
   ],
   "source": [
    "# Loop through different k values to see which has the highest accuracy\n",
    "# Note: We only use odd numbers because we don't want any ties\n",
    "from sklearn.neighbors import KNeighborsClassifier\n",
    "train_scores = []\n",
    "test_scores = []\n",
    "for k in range(1, 20, 2):\n",
    "    knn = KNeighborsClassifier(n_neighbors=k)\n",
    "    knn.fit(X_train, y_train)\n",
    "    train_score = knn.score(X_train, y_train)\n",
    "    test_score = knn.score(X_test, y_test)\n",
    "    train_scores.append(train_score)\n",
    "    test_scores.append(test_score)\n",
    "    print(f\"k: {k}, Train/Test Score: {train_score:.3f}/{test_score:.3f}\")\n",
    "    \n",
    "    \n",
    "plt.plot(range(1, 20, 2), train_scores, marker='o')\n",
    "plt.plot(range(1, 20, 2), test_scores, marker=\"x\")\n",
    "plt.xlabel(\"k neighbors\")\n",
    "plt.ylabel(\"Testing accuracy Score\")\n",
    "plt.grid()\n",
    "plt.show()"
   ]
  },
  {
   "cell_type": "code",
   "execution_count": 29,
   "metadata": {},
   "outputs": [
    {
     "name": "stdout",
     "output_type": "stream",
     "text": [
      "k= 11 Test Acc: 0.716\n"
     ]
    }
   ],
   "source": [
    "# Note that k: 13 seems to be the best choice for this dataset\n",
    "knn = KNeighborsClassifier(n_neighbors= 11)\n",
    "knn.fit(X_train, y_train)\n",
    "print('k= 11 Test Acc: %.3f' % knn.score(X_test, y_test))"
   ]
  },
  {
   "cell_type": "markdown",
   "metadata": {},
   "source": [
    "# XGBoost Model"
   ]
  },
  {
   "cell_type": "code",
   "execution_count": 30,
   "metadata": {},
   "outputs": [],
   "source": [
    "from xgboost import XGBClassifier\n",
    "from sklearn.metrics import accuracy_score"
   ]
  },
  {
   "cell_type": "code",
   "execution_count": 31,
   "metadata": {},
   "outputs": [
    {
     "data": {
      "text/plain": [
       "XGBClassifier(base_score=0.5, booster='gbtree', colsample_bylevel=1,\n",
       "              colsample_bynode=1, colsample_bytree=1, gamma=0,\n",
       "              learning_rate=0.1, max_delta_step=0, max_depth=3,\n",
       "              min_child_weight=1, missing=None, n_estimators=100, n_jobs=1,\n",
       "              nthread=None, objective='multi:softprob', random_state=0,\n",
       "              reg_alpha=0, reg_lambda=1, scale_pos_weight=1, seed=None,\n",
       "              silent=None, subsample=1, verbosity=1)"
      ]
     },
     "execution_count": 31,
     "metadata": {},
     "output_type": "execute_result"
    }
   ],
   "source": [
    "# fit model no training data\n",
    "model = XGBClassifier()\n",
    "model.fit(X_train, y_train)"
   ]
  },
  {
   "cell_type": "code",
   "execution_count": 32,
   "metadata": {},
   "outputs": [],
   "source": [
    "# make predictions for test data\n",
    "y_pred = model.predict(X_test)"
   ]
  },
  {
   "cell_type": "code",
   "execution_count": 33,
   "metadata": {},
   "outputs": [
    {
     "name": "stdout",
     "output_type": "stream",
     "text": [
      "Accuracy: 71.57%\n"
     ]
    }
   ],
   "source": [
    "# evaluate predictions\n",
    "accuracy = accuracy_score(y_test, y_pred)\n",
    "print(\"Accuracy: %.2f%%\" % (accuracy * 100.0))"
   ]
  },
  {
   "cell_type": "code",
   "execution_count": 34,
   "metadata": {},
   "outputs": [
    {
     "data": {
      "text/plain": [
       "0.7156862745098039"
      ]
     },
     "execution_count": 34,
     "metadata": {},
     "output_type": "execute_result"
    }
   ],
   "source": [
    "model.score(X_test,y_test)"
   ]
  },
  {
   "cell_type": "code",
   "execution_count": 35,
   "metadata": {},
   "outputs": [
    {
     "data": {
      "text/plain": [
       "0.9035947712418301"
      ]
     },
     "execution_count": 35,
     "metadata": {},
     "output_type": "execute_result"
    }
   ],
   "source": [
    "model.score(X_train,y_train)"
   ]
  },
  {
   "cell_type": "code",
   "execution_count": 36,
   "metadata": {},
   "outputs": [
    {
     "name": "stdout",
     "output_type": "stream",
     "text": [
      "Accuracy: 71.57%\n",
      "Test score 0.7156862745098039\n",
      "Train score 0.9035947712418301\n"
     ]
    }
   ],
   "source": [
    "model.fit(X_train_scaled, y_train)\n",
    "y_pred = model.predict(X_test_scaled)\n",
    "accuracy = accuracy_score(y_test, y_pred)\n",
    "print(\"Accuracy: %.2f%%\" % (accuracy * 100.0))\n",
    "print(\"Test score\",model.score(X_test_scaled,y_test))\n",
    "print(\"Train score\",model.score(X_train_scaled,y_train))"
   ]
  },
  {
   "cell_type": "code",
   "execution_count": 51,
   "metadata": {},
   "outputs": [
    {
     "name": "stdout",
     "output_type": "stream",
     "text": [
      "[725 712 635 481 535 809  17 467 570 656 601 334 279 392 382 704 747 278\n",
      " 406 170 187 734 253  45 597 364  62  78 749 399 312 140 198 350 580 127\n",
      " 283 796 638 440 144 214 293 310  21 647 646 250 243 435  35  81 159 424\n",
      " 502 109 272 356  92 741 418 802 211 345 165 238 188 379 578 523 676 155\n",
      " 316 409 408 366  66 354 372 268 161 294 623 546 717 564 644 363 500 229\n",
      " 569 299 220 743 628 722  15 245 664   6 454 713 104 303 643 653 302 493\n",
      "  90 513 460 432 218 602 338 205 583 190 536 436 194 531 132 233 173 178\n",
      " 313 315 787 753 206 505  96 774 378 504  89 466 179   0  46 171 649 489\n",
      " 107 545 133 669 223 549 327 362 102 571 108 213 534 367 563 246 789 542\n",
      " 125 135 586 471 365 779 224  26 661 519 698 468 792   3 134 325 355 434\n",
      " 186 622 295 681 799 385 490 642 732 225 667 330 369 487 332 422 627 558\n",
      " 775  63 759 575 360 484 614 112 517 770  20  65 298 126 259 495 662 527\n",
      " 420 576 339 384 682 137 105   7 342 745 309 791 417 568 692 407 185 814\n",
      " 353 518 153  54  30 485 724 100 693 671 768 237 706  56 400  60 729 803\n",
      " 262 750 264 780  22 208 391 636 561 167  38 483 700 666 300 772 572 501\n",
      " 715 163 124 154 336  59 668 304 760 733 449 343 506 496 311 427 524 511\n",
      " 158  51 587 726 553 361 516 533 219 548 494 308  74 282 654 348 678   4\n",
      " 655 437 463 813 532 716 728 735 276 284 470 426 281 120 798  13 530 455\n",
      " 778 160 794 604 582 609 195 191 164 106  16 605 540 329 480 498 785 405\n",
      " 608  93 433  83 687 632 414 795 596 696 742 322 556 357  69 514 509 340\n",
      " 221 757 146 289  29 114 508 657 790 176 168 347 376 619 710 694 625 189\n",
      " 136 446 815 254 718 290 765 689 232  33  88  44 341  61 788 199 429 740\n",
      " 394 297  73 393 547 579 541 695 679 685 217 539 674 421 138 212 686 683\n",
      " 797 746 234  67  24 381 216 129 349 111 166 207 438 552 274 691 591 650\n",
      " 525 287 469 326 121 507 228 595 445 117 464  25 110 149 152 528 621 461\n",
      " 598 139 260 323 731 248 450 410 607  19 328 296 269 226  94 515 637 280\n",
      " 286 589 758 444 184 371 711 793 275 761 182  32  80 307  11  43  86  36\n",
      "  58  41 411 562 209 148 594 123 574  98 377 130 699  23 708 555 370 512\n",
      " 383 201 368 554 610 387 292 690 256 606 197  95 783 767 169 581 305 560\n",
      " 373 719 227 660 143 180 131 773  47 324 203  84 633 565 611 398  91  82\n",
      " 430 119 291  57 321 257 771 442  42 617 388 335 273 756 488 550  53 762\n",
      " 128  28 183 459 510 675 151 244 714 543 544 639 697 265 288 423 147 659\n",
      " 786 177  99 448 431 709 755 115 777  72 537 677 800 174  87 551 486 705\n",
      " 314 396 600 472  70 599 804 754 277 723   9 359 707 763 192 629 559 684] [616 202  55 479  27  14 451 492 247 776 624 744   8 222 584 736 477 101\n",
      " 113 267 680 503  77 453 491 727 465 805 141 585 210 142 204 374 425 351\n",
      " 175 702 390 573 346 672  79 651 529 631 538 462  31 231 475 251 352 403\n",
      " 331  40 386 673 807 456 738 200 285 751 810 806 784 603 230 701 236 482\n",
      " 688 739 769 156 730 612 478  75  85 766 103 380   1 618   5 145 703 242\n",
      " 520 266 447 193 404 337 415 590 663 402 665 721 401 499 452 318 443 441\n",
      " 457 630 593 652 720 567 640 801  39 389 249  18 577 458 395 150 301 592\n",
      "  50 235 782 634 122 306 588  10 521  68 270 258 645 428 439 358 162   2\n",
      " 808 261 748 658 811 752 412 241 413 737 522 271 473 620  71  49 416 240\n",
      " 116  37 172  48 319 626 320 196 317 397  76  64 648  52 641 670 252 476\n",
      " 526 263  34 333 615 812 118  12 157 255 419 239 344 181 497  97 566 375\n",
      " 215 764 781 474 557 613]\n",
      "[207 579 159  73  72 260 347 237 711  17 354 122 776 602 686 597 192   4\n",
      " 502 217 513 259 549 206 767 518  52 666 639 706 135 736 193 429 125 120\n",
      " 457 262 498 408 187 306 588 268  86 308 242 751  84 254 659 133 202  28\n",
      " 692 424 813 381 142 350 700 497 170 521 702 783 102 759  22  62  45 561\n",
      " 378 480 409 697 576 352 232  27 379 715 786 501 623 210 755 326 529 536\n",
      " 387   2 727 307 635 211 512 546 112 646 331 557 737  96 178 108 329 520\n",
      " 153 388 582   1 796 319  69 452  48 643 636 534 393 532 689 458 231 578\n",
      " 215 665  55 723 591 603 693 279  94 224 302 208 218 773 116 104 295 547\n",
      " 718 440 511 333 738 719 699 651 777 733 468 473 712 488 399  37 785 701\n",
      " 389 683 276 622 184 725 355 670  23 275 376 444 792 130  42 181 781 274\n",
      " 618 137 524 309 720 517  47 339 483 744 220 556 506 680 663 362 527 414\n",
      " 423 140 640 722  77  39 668 766 739 322 258 251 607 814 771 716 748 795\n",
      " 280  58 563 241 442 330 234 747 277  56 228 411 516 567 604 526 806 564\n",
      " 323 337 628 435  29 270  35 428 422 147 114 286 775 650  99 420 124 198\n",
      "  12 176 754  50 696 475 789 128 432 291 548 222 482 580 584  36 105 695\n",
      " 375 638 460 793 434 627  61 431 632 656  92 109 496   0  40 221  75 568\n",
      " 212 288 760 812 492 247 808 456 144 674 621 465 750 542 186 717 479 156\n",
      " 538 312   8 661 575 293 726 687  32 735 784 445 673 464 455 195 617 710\n",
      " 143 243 401 539 679 768 477 450 203 809 285 471 555 596 782 304 569 383\n",
      " 426 160 620 162  74 807 658 583  20 273 194 474  41 343  49 577 728 657\n",
      " 713  44  91 245 235 300 630 269 574 313 734 283 327 540 406 338 466 363\n",
      " 803 320 336  21  70 500  10 396 505  83  79 287  64 415 324 416 595 616\n",
      " 205 328 486 172  33 545 528 257 418 652 281 690 590 649 213 472 106 131\n",
      "  15 439 373 476 648 585 448 284 129 103  60 724  78 391 165   3 236 594\n",
      " 614 349 185 470 371 117 779 252 507 600 311 770 395 625 358 263 359 180\n",
      " 419 377 645 413 634 430  16  51 550 493 601 301 351 672 537  11 403 752\n",
      "  97 226 111 196 707 183 469 244 613 145 441 682 533 610 154  81 484 397\n",
      " 267 589 386 753  24 132 265 370 340  88 797  38 709 676 571 629 449 612\n",
      " 294 261 266 788 514 510 405 599 356 608 694 239 199 560 282 119 802 365\n",
      " 374 453 110  43 297 810 463 503 749 134 345 729 410 447 367  87 384 200\n",
      "  65 508 669 167 272 216 382 677 238 606 225 541 478 490  59 296 691 209\n",
      " 188 552 681 605 250 741 316 214 451 123 586 660 772 531 255  30 662 504\n",
      " 230 157 765 385 100 380 197 721 264 787 101  13 437  68 421 624  71 675\n",
      " 566 290  90 798 523 626 495 559 155 592 758 158 790 509   7 366 791 318] [177 292 303   6 398 615 335 344 598  53 685 179 554  76 698 107 637 467\n",
      " 139  80 800  18 204  63 778 587 189 190 417 166  25 427 174 572 390 314\n",
      " 412 494 664 141 704 743 756 126 118 348 372 762 794 317 394 182 761  34\n",
      " 678 565 654 757 152 745 151 368 544 633 688   5  57 436 558 438 641 815\n",
      "  19 164  54 573  67 298 746   9 315 360 551 454 705 655 233 459 229  66\n",
      " 446 763 543 642 764 219 553 522 404 407 487 461 321 246 364 780 113 136\n",
      " 175 491 402 115 278 530 525 400 581 425 342 310 173 191 305 248  82 774\n",
      " 519 223  95 732 653 671 357 433 562 644 271 742 619 163 169 138 361 489\n",
      " 161 149 805 769 799 703 392 684  98 369 499 227  31 462 631 168 740 127\n",
      " 148 443 535 801 730 121 146 570 334 593 256  89 485 609  26 332 804 150\n",
      " 325 731  93  85 714 481 346 353 647 341 515  46 249 667 171 811 299 201\n",
      " 253 611  14 289 240 708]\n",
      "[617 646 259 384 263 217 170 624 509 463 113 213 639 650 116 266 443 243\n",
      " 773 505 292 124 412 351 754 195  10  27 129 670 597 615 274 329 241 806\n",
      " 739 289  94 153 713 484 710 551   8 493 608 583 590 718 162 179 598  82\n",
      " 163 308 560 630 348 576  74 399 245  39 715 530 159 623 452 581  59 426\n",
      "  37 252 757 790 102 688 137 185 777 302 347  93 451 684 311 774 543 411\n",
      " 424 501 494 747 196 433 604 320 542 487 601  58 473 667  13 486 520 379\n",
      " 261 783 269  78 149 107 507 685 205 212   1 481  76 363 352 610 188 595\n",
      " 397 672  65 588 619 531 558 400 307 238 480 401 525  52 120 591 782  20\n",
      " 403 478 189 745 627 322 797 613 264  49 404  55 482   5 750 318 439 674\n",
      " 436 117  48 303 220 547 464 801 199 504 350 748  73  26 430 751 211 640\n",
      " 687 317 191 589 666 749 471 495 291 407 123 723 286 660  40 178 733 701\n",
      " 246 477 676 206  97 737 719 126  29 528 231 453 573 285  45 316 125 694\n",
      " 808  32 697  68 671 414 133 555 575 658  90 700  79 375 712  56 607 454\n",
      " 423 467 559 550 434 313  11 112   3 716 465 305 395 442 566 585 157 805\n",
      " 100 793 221 695   2  18 229 200 392 328 428 374 134 770 786 730  47 705\n",
      " 438 296 691 698 194 175 114 461 406 437 510  17 611 214 143 385 207  38\n",
      " 145 760 222 811 621 539 228 499 498 418 734 413 764   0 254 445 115 383\n",
      " 236 663 300 128  30 651 602  81 517 706 386 459 336 759   7 813 366 448\n",
      " 283 277  84 603 466 387 815 637 239 458 503 787 776 216 370   6 280 725\n",
      " 720 201 545 167 488 732 354 165 771 444 161 549 249 131 638 738 173 792\n",
      " 339 683 753 569  42 756 158 746 809 616 578 225 681 273 342 441 278 798\n",
      " 290 535 358 155  43 795 800 483  80 592 270 476 511 475 532 323 299 814\n",
      " 724 485 233 766 282  16 287  67 512 675 794 237 553 122 279 253 250 169\n",
      " 355 371 492  21 726  31 166 669 767  62 703 682 127 656 702 554 359 369\n",
      " 309  28 490 704 111 729  87 421 514 235 141  64 735 284 164 768 521 469\n",
      " 657  77 540 393 432 262 198 699 240 172 324 755 372 686 381 721  12 186\n",
      " 728 256 470 606 491 106  85 202  15 474 171 118 365 380 769 502 513  96\n",
      " 327 654 416 633 775 632 154 315 600 367 301 810 197  83 763 435 310 187\n",
      " 298 636 662 677 203 415 516 731 344 564 294 791 642 219 572 150 802 664\n",
      " 382 144 593 515 260 319 272 643  91 500  51  75 377 522 368 295 460 714\n",
      " 546 605 752 586 804 177 420 360 139 620 523  34 690 584 184 376 101  89\n",
      " 462 594 577 234 659 679 110 431 506 785 429 789 181 629  61 151 209  35\n",
      " 227  46 456 526  92 519 394 707 147 524  50  72  25 762  36 373 121 193\n",
      " 288 142 447 312 267 103 223 362 497 168 293 541 345  63 146 533 337 152] [306 799 709 450 135 518 314  54 409  71 614  24 761 331 215 204 784 647\n",
      " 689 422 457 796 156 596 571 248 772 599 417 364 562 612 251 693 232 389\n",
      " 479 744 680 109 711 678 138 346 544 182 779 275 338 257 136 653 419 579\n",
      " 208 427 446  86 449 758 325 321 622 508 330 655   9 661 568 297 625 609\n",
      " 425 648 696  99 190 226 644 455 645 396 160 567 265 781 119 332 218 353\n",
      " 803 570  60 180 580 788 174 534 741 673 649 378 247  70 343 743 565 552\n",
      " 538 536 258 130 255  57 326 390 391 807 563 641 582 742 333 224 148 268\n",
      "  33  53 717 349 692 529 527 210 631 335 557 556  66 628 812 176 356 634\n",
      " 496 341 271 334 765 244 708 722 537 652 104  69  44 357 281 472 132 340\n",
      "  14 727 489 736  41  19 405 105 668 410 230 587 192   4 108 635 561 276\n",
      " 740  95 304 548  88 626 665 778 618  23 402  22 388 574 183 398 361 780\n",
      " 440  98 140 242 468 408]\n",
      "[152  41 494 351 768 642 318 580 517 685  60 157 132 678 214 298 139 636\n",
      " 341 584 578 489 156 195 247 124 535 527 779 695   5 443 632 290 705 587\n",
      " 118 675 664  45 119 191 343 104 327 786 420 363 658 223 465 167 606  74\n",
      " 668 691 622 813  71 378 733 654 670 155 749 766 739 706 473 246 169 750\n",
      "   7 598  73 197 316 193  39 545  57  63 767 608 596 239 213 383 183 211\n",
      " 759 773 212 624 472 723 120 310   1 769 455 253 567 445 207 760 388  50\n",
      " 305 533 543 732 741 386 429 569 621 794 708 630 704 433   8 428  35 791\n",
      "  36 735 415 330 303 453  17 805 227 177 115 368  49 505 641 616 496 783\n",
      " 188 280 707  79 221 536 289 171 612  80 727 737 605  58 180 480 375 651\n",
      " 134 230 131 405  72 709 774 268 166 442 703 274 731  23 352 162 618 734\n",
      " 576 754 757 243 138 238 181 252 202 525 204 240   4 140 391 217 551 470\n",
      "  48 589 339 417 559 182  83 216 501 233  20 366 633 116 650 418 563 560\n",
      " 129 159 509 367 190  26 163 712 550  47 264 345 292 385 440 407 667 288\n",
      " 110 174 189 302 460 511 266 102 797 477 521 572 335 575 593 514 422 225\n",
      " 676 321 809 273   2  95 248  70 372 775 697 220  15 282 452 781 179 267\n",
      " 384 772 260 377 416 806 582 105  97 710 506 154 317 696 722 556 538 261\n",
      " 745 479 657 483 812 435 532 682  66 133  89 755 462 631 284  28 125 683\n",
      " 763 272 475 201  68 279 702 801 510 553 778 277 187 585 746 111 153 568\n",
      " 432 231 647   9 203 337 639 286  69 717  29  96 542 128 256 764 597 100\n",
      " 800 259 671  51 347 158 251 666 555 662  91 354 562 808 679  65 355 547\n",
      "  55 228  37 694 544 430 701 235 623 693 297 785 199 328 137  24 644 446\n",
      " 752 796 486 530 245 464 242 151 314 301 441 350 552 419 659 638 390 392\n",
      " 336 674  53 468 136 512 293 449 439 423 524 149 770 370 332 459  12 503\n",
      " 549 320 387 126 287 127 601 571  98 164  94  40 359 699 454 643 810  84\n",
      " 107 784 725  16 122 198 394 627 353 790 396  76 637 516 557 814 184 406\n",
      " 373 381  88 652 724 165 747  86  62 561 528 431 497 529 161  25  54 811\n",
      " 364 413 210 491 160 603 106 349 607 255 595 645  81 751 564 340  44 615\n",
      " 484 803 283 323 554 493 680 362 729 113 425 579 626 488 101 324   3 502\n",
      " 600 398 609 291   0 469  14 244 168 389 613 776 753 326 437  13 265 411\n",
      " 147 799 275 401 176 474 457 744 427 586 518  82 346  46 141 434 761 294\n",
      " 513 478  34 507 123 777 515 172 175 121 262 357 577  43 690 566 558 206\n",
      " 715 226 300 170 145 232 269 698 313 331 802 135  64 400 299 393 758 756\n",
      " 414  99 103 619 743 476 456 108 762 150 789 281 271  11 369 114 620 371\n",
      " 720 254 804 672 438 655 492  75 109 815 229 588 700 649  77 360 590 669] [540 574 192 592 224 653 237 209 307 531 740 738 686 200 426  33  21 687\n",
      " 295 684 730 308 374 278 408 611 726 519 495 713 376 765 583 117 721 599\n",
      " 718 334 215  92 144 234 329 508 304 591 573 798 628 711  78 665  19  90\n",
      " 173 520 319 537  32 338 395 236 471 365 661  31 322 397 205 257 689 196\n",
      " 610 570 344 450 485  59  18  87 504 379 500 218 296 688  67 780 146 522\n",
      " 635 692  10 539 656 677 451 315 548 534 646 178 358 463 249 333 788  52\n",
      "  85 461 285 714  22 241 716  61 629 634 498 404 142 185 467 663 466 640\n",
      " 660 736 311 546 523 581 361 219   6 648 625 409  42 787 448  27 771 263\n",
      " 410 194 356 614 412 719  30 499 130 342 748 541 526 742 148 481 617 143\n",
      "  56 487 602 681 250 399 402 258 312 208 728 490 403 309 795 276  38  93\n",
      " 325 673 436 807 186 447 444 380 458 222 424 604 306 782 793 594 482 382\n",
      " 421 112 270 348 792 565]\n",
      "[165  43 775 193 125 404 744 632  25 371 204 710 628 761 629  70 514 766\n",
      " 347 302 192 214 169 583 765 553 400 753 509 491  78  18 686 702 697 651\n",
      " 210 733 508 655 672  88 376 596 378 741 148  31 512 167 453 791 645 768\n",
      " 150 180 774 429 451 475 413 230 225 266 530 699 185 556 243 168 601 355\n",
      " 787 758 501 785 278 585 805 397 737 497 723 807 332 693 416 616 207 599\n",
      " 600 455  82 656 354 304 340 510 750 286   1  37 488 570 454  35 624 178\n",
      " 507 374 458 410 627 223 547 328 638 613 620 131 317  91 280  15 762 237\n",
      " 612 460 602 272 184 132 531 307 461  51 350 539 430 161 567 239 325 513\n",
      " 224  67 357 565 626 277 342 630 359 456 663 326 446  85 792 448   7 303\n",
      " 782 244 311 117 200 253 447 174 804 543 212 318 309 677 211 222 339 522\n",
      " 580 652 381  44  63 348 336 368 108 526 729 218 772  46 814 431 463 364\n",
      " 718 524 162 795 236 385 160 298 173 190 668 562 528 437 251 388 459  48\n",
      " 551 175 361 356 209  52  75 265 128 247 764 252 692 662 202 386 622 618\n",
      " 559 198 401 536 577 752 678  57 715 415 248 170 670 308 706 382 284  41\n",
      " 747 691 135  36 194 399  28 770 228 763 555 623 384 711 704 452 409 432\n",
      " 708   5 221 152 457 660 441 104  34 560 390 806 640 151  81 569 545 746\n",
      " 754 609 669 654 199 343 111 500 685 554 306 423 352 140 187 110 517 661\n",
      "   3 525 483 424 259 563 687 387 606 443 293 803 380 544 472 129  40 279\n",
      "  39 646 767 398 479 696 176  50  64 738 712 757 264 557  65   8 425  30\n",
      " 341 373 498 105 502 197 574 527 811 206 157 469 107  68  24 191 476 506\n",
      " 478 139 594 786 300 546 369 138  49 333 417  79 366 324 467 722  22 329\n",
      " 377 521 331 578 731 146 335  76 725 642 464 608 256   2 671 112  23 777\n",
      " 405 393  53 516 260 781 419 743 683 482 147 709 299 664 552 707 650 289\n",
      " 203 283 505 473 208 636 295  61 634  69 123 323 504 134   0   4 367 732\n",
      " 315 755 793 589 518 717 590 604 370 120 136 689  16 815 281 258 130 503\n",
      " 515 607 296 587 181 566 730  11 653  19 812 196 784 133 235 321 118 649\n",
      " 790 598 611 703 615 227 673 713  32 322 313 149  21  54 579 773 240 114\n",
      " 102 159 778 724 581 641 621 226 751  17 141 745 739 145 238 182 705 418\n",
      " 688  38 573 674 572 229 492  86 534 440 403 439 288 477 276  77 242 549\n",
      " 263 358 422 591 727 490 614 100 233 158 316 665 372 564 268 657 486 346\n",
      " 558 788 695 171 480 257 493 533 124 287 269 714 115 249 471  89 305 273\n",
      " 801  73 103  58 449 126 310 489 434 680 109 421 215 789 625  92 166 676\n",
      " 349 391 438 542 234 270 749 605 290 597 261 466 312 568 154 603 245 659\n",
      " 548 537 700 561  96 541 297 450 635 319 444  47 338 797 647 586 232 389] [392 575 183 344 716 666 402 520 690 637 320 719 156 802  83 395 127 291\n",
      " 499 462 436  66 675  72 610 116  56 756  90 351  45 363 137 353 799 254\n",
      " 780 742   9  29 728 619 639 470 420   6 684 217 334  10 794 495 682 481\n",
      " 571 144 172  74 122 468  14 726 282  20  55  87 285 779 216 633 411 294\n",
      " 433 442 532 408 592 540 205 435 143 445 485 271  26 631 550 535 595 698\n",
      " 519 142 412 679 720 694 394 188 798 584 487 179 643 189 813 538 250 681\n",
      " 407 576 644 760 314 379 274 113 201 800 582 213 428 337 327 186 406 465\n",
      " 494 163 231 396  98  27 593 658 275 511 365  33 771 617 153 734  84 783\n",
      "  99 769 195  59  60 241 301 529 809 360 776 362 121  94 740 164 735 119\n",
      " 155 255 721 383 414 106 484  13 292 648  12 177 588 267 667 427 246  71\n",
      " 101  62 426 219 810 375 748 523 701  97  95  80 345 736 759 796 808 330\n",
      "  93 496 220 262  42 474]\n"
     ]
    }
   ],
   "source": [
    "from sklearn.model_selection import ShuffleSplit\n",
    "ss = ShuffleSplit(n_splits=5, test_size=0.25, random_state=0)\n",
    "for train_index, test_index in ss.split(X):\n",
    "    print(\"%s %s\" % (train_index, test_index))"
   ]
  },
  {
   "cell_type": "code",
   "execution_count": 52,
   "metadata": {},
   "outputs": [],
   "source": [
    "X_k_ss = np.array(X)\n",
    "y_k_ss = np.array(y)\n",
    "\n",
    "X_train_ss, X_test_ss, y_train_ss, y_test_ss = X_k_ss[train_index], X_k_ss[test_index], y_k_ss[train_index], y_k_ss[test_index]"
   ]
  },
  {
   "cell_type": "code",
   "execution_count": 53,
   "metadata": {},
   "outputs": [],
   "source": [
    "model_2 = XGBClassifier()\n",
    "model_2.fit(X_train_ss, y_train_ss)\n",
    "\n",
    "# make predictions for test data\n",
    "y_pred_2 = model_2.predict(X_test_ss)"
   ]
  },
  {
   "cell_type": "code",
   "execution_count": 54,
   "metadata": {},
   "outputs": [
    {
     "name": "stdout",
     "output_type": "stream",
     "text": [
      "Accuracy: 70.59%\n"
     ]
    }
   ],
   "source": [
    "# evaluate predictions\n",
    "accuracy = accuracy_score(y_test_ss, y_pred_2)\n",
    "print(\"Accuracy: %.2f%%\" % (accuracy * 100.0))"
   ]
  },
  {
   "cell_type": "code",
   "execution_count": 55,
   "metadata": {},
   "outputs": [
    {
     "data": {
      "text/plain": [
       "0.7058823529411765"
      ]
     },
     "execution_count": 55,
     "metadata": {},
     "output_type": "execute_result"
    }
   ],
   "source": [
    "model_2.score(X_test_ss,y_test_ss)"
   ]
  },
  {
   "cell_type": "code",
   "execution_count": 57,
   "metadata": {},
   "outputs": [
    {
     "data": {
      "text/plain": [
       "0.9150326797385621"
      ]
     },
     "execution_count": 57,
     "metadata": {},
     "output_type": "execute_result"
    }
   ],
   "source": [
    "model_2.score(X_train_ss,y_train_ss)"
   ]
  },
  {
   "cell_type": "code",
   "execution_count": 71,
   "metadata": {},
   "outputs": [
    {
     "name": "stdout",
     "output_type": "stream",
     "text": [
      "Accuracy 0.7058823529411765\n"
     ]
    },
    {
     "data": {
      "image/png": "[encoded data removed]",
      "text/plain": [
       "<Figure size 720x504 with 2 Axes>"
      ]
     },
     "metadata": {},
     "output_type": "display_data"
    }
   ],
   "source": [
    "import seaborn as sns\n",
    "from sklearn.metrics import confusion_matrix\n",
    "from sklearn.metrics import accuracy_score\n",
    "\n",
    "labels = np.unique(y_test_ss)\n",
    "cm = confusion_matrix(y_test_ss, y_pred_2, labels=labels)\n",
    "df_cm = pd.DataFrame(cm, index=labels, columns=labels)\n",
    "plt.figure(figsize = (10,7))\n",
    "sns.set(font_scale=1.4)#for label size\n",
    "sns.heatmap(df_cm, annot=True,annot_kws={\"size\": 16})# font size\n",
    "print('Accuracy' , accuracy_score(y_test_ss, y_pred_2))\n",
    "plt.savefig(\"correlation_xgb_senti.png\")"
   ]
  }
 ],
 "metadata": {
  "kernelspec": {
   "display_name": "Python 3",
   "language": "python",
   "name": "python3"
  },
  "language_info": {
   "codemirror_mode": {
    "name": "ipython",
    "version": 3
   },
   "file_extension": ".py",
   "mimetype": "text/x-python",
   "name": "python",
   "nbconvert_exporter": "python",
   "pygments_lexer": "ipython3",
   "version": "3.7.3"
  }
 },
 "nbformat": 4,
 "nbformat_minor": 2
}
